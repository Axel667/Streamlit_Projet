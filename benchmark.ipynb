{
 "cells": [
  {
   "cell_type": "code",
   "execution_count": 7,
   "metadata": {},
   "outputs": [
    {
     "name": "stderr",
     "output_type": "stream",
     "text": [
      "/Users/ivan-can.arisoy/py312_env/lib/python3.12/site-packages/tqdm/auto.py:21: TqdmWarning: IProgress not found. Please update jupyter and ipywidgets. See https://ipywidgets.readthedocs.io/en/stable/user_install.html\n",
      "  from .autonotebook import tqdm as notebook_tqdm\n"
     ]
    }
   ],
   "source": [
    "import pandas as pd\n",
    "import plotly.express as px\n",
    "from datasets import load_dataset\n",
    "from bs4 import BeautifulSoup"
   ]
  },
  {
   "cell_type": "code",
   "execution_count": 8,
   "metadata": {},
   "outputs": [],
   "source": [
    "# Chargement du jeu de données\n",
    "dataset = load_dataset(\"open-llm-leaderboard/contents\", split=\"train\")\n",
    "df = dataset.to_pandas()"
   ]
  },
  {
   "cell_type": "code",
   "execution_count": null,
   "metadata": {},
   "outputs": [],
   "source": [
    "df = df.rename(columns={\n",
    "    \"Type\": \"type\",\n",
    "    \"Model\": \"model_name_html\",\n",
    "    \"Submission Date\": \"submission_date\",\n",
    "    \"Average ⬆️\": \"score\",\n",
    "    \"Precision\": \"precision\",\n",
    "    \"#Params (B)\": \"params_b\",\n",
    "    \"CO₂ cost (kg)\": \"co2_cost_kg\",\n",
    "    \"IFEval\": \"IFEval\",\n",
    "    \"BBH\": \"BBH\",\n",
    "    \"MATH Lvl 5\": \"MATH_Lvl_5\",\n",
    "    \"GPQA\": \"GPQA\",\n",
    "    \"MUSR\": \"MUSR\",\n",
    "    \"MMLU-PRO\": \"MMLU_PRO\",\n",
    "})"
   ]
  },
  {
   "cell_type": "code",
   "execution_count": 10,
   "metadata": {},
   "outputs": [],
   "source": [
    "def extract_model_info(html):\n",
    "    soup = BeautifulSoup(html, 'html.parser')\n",
    "    first_link = soup.find('a')\n",
    "    if first_link:\n",
    "        model_link = first_link['href']\n",
    "        model_text = first_link.get_text()\n",
    "        return model_text, model_link\n",
    "    else:\n",
    "        return html, ''  # Retourne le texte original si aucun lien n'est trouvé\n",
    "\n",
    "\n",
    "df['model_name'], df['model_link'] = zip(*df['model_name_html'].apply(extract_model_info))"
   ]
  },
  {
   "cell_type": "code",
   "execution_count": 11,
   "metadata": {},
   "outputs": [
    {
     "data": {
      "text/html": [
       "<div>\n",
       "<style scoped>\n",
       "    .dataframe tbody tr th:only-of-type {\n",
       "        vertical-align: middle;\n",
       "    }\n",
       "\n",
       "    .dataframe tbody tr th {\n",
       "        vertical-align: top;\n",
       "    }\n",
       "\n",
       "    .dataframe thead th {\n",
       "        text-align: right;\n",
       "    }\n",
       "</style>\n",
       "<table border=\"1\" class=\"dataframe\">\n",
       "  <thead>\n",
       "    <tr style=\"text-align: right;\">\n",
       "      <th></th>\n",
       "      <th>eval_name</th>\n",
       "      <th>precision</th>\n",
       "      <th>type</th>\n",
       "      <th>T</th>\n",
       "      <th>Weight type</th>\n",
       "      <th>Architecture</th>\n",
       "      <th>model_name_html</th>\n",
       "      <th>fullname</th>\n",
       "      <th>Model sha</th>\n",
       "      <th>score</th>\n",
       "      <th>...</th>\n",
       "      <th>MUSR</th>\n",
       "      <th>MMLU-PRO Raw</th>\n",
       "      <th>MMLU_PRO</th>\n",
       "      <th>Maintainer's Highlight</th>\n",
       "      <th>Upload To Hub Date</th>\n",
       "      <th>submission_date</th>\n",
       "      <th>Generation</th>\n",
       "      <th>Base Model</th>\n",
       "      <th>model_name</th>\n",
       "      <th>model_link</th>\n",
       "    </tr>\n",
       "  </thead>\n",
       "  <tbody>\n",
       "    <tr>\n",
       "      <th>0</th>\n",
       "      <td>0-hero_Matter-0.2-7B-DPO_bfloat16</td>\n",
       "      <td>bfloat16</td>\n",
       "      <td>💬 chat models (RLHF, DPO, IFT, ...)</td>\n",
       "      <td>💬</td>\n",
       "      <td>Original</td>\n",
       "      <td>MistralForCausalLM</td>\n",
       "      <td>&lt;a target=\"_blank\" href=\"https://huggingface.c...</td>\n",
       "      <td>0-hero/Matter-0.2-7B-DPO</td>\n",
       "      <td>26a66f0d862e2024ce4ad0a09c37052ac36e8af6</td>\n",
       "      <td>8.805656</td>\n",
       "      <td>...</td>\n",
       "      <td>5.871875</td>\n",
       "      <td>0.116356</td>\n",
       "      <td>1.817376</td>\n",
       "      <td>False</td>\n",
       "      <td>2024-04-13</td>\n",
       "      <td>2024-08-05</td>\n",
       "      <td>0</td>\n",
       "      <td>0-hero/Matter-0.2-7B-DPO</td>\n",
       "      <td>0-hero/Matter-0.2-7B-DPO</td>\n",
       "      <td>https://huggingface.co/0-hero/Matter-0.2-7B-DPO</td>\n",
       "    </tr>\n",
       "    <tr>\n",
       "      <th>1</th>\n",
       "      <td>01-ai_Yi-1.5-34B_bfloat16</td>\n",
       "      <td>bfloat16</td>\n",
       "      <td>🟢 pretrained</td>\n",
       "      <td>🟢</td>\n",
       "      <td>Original</td>\n",
       "      <td>LlamaForCausalLM</td>\n",
       "      <td>&lt;a target=\"_blank\" href=\"https://huggingface.c...</td>\n",
       "      <td>01-ai/Yi-1.5-34B</td>\n",
       "      <td>4b486f81c935a2dadde84c6baa1e1370d40a098f</td>\n",
       "      <td>25.621318</td>\n",
       "      <td>...</td>\n",
       "      <td>11.217188</td>\n",
       "      <td>0.466589</td>\n",
       "      <td>40.732122</td>\n",
       "      <td>True</td>\n",
       "      <td>2024-05-11</td>\n",
       "      <td>2024-06-12</td>\n",
       "      <td>0</td>\n",
       "      <td>01-ai/Yi-1.5-34B</td>\n",
       "      <td>01-ai/Yi-1.5-34B</td>\n",
       "      <td>https://huggingface.co/01-ai/Yi-1.5-34B</td>\n",
       "    </tr>\n",
       "    <tr>\n",
       "      <th>2</th>\n",
       "      <td>01-ai_Yi-1.5-34B-32K_bfloat16</td>\n",
       "      <td>bfloat16</td>\n",
       "      <td>🟢 pretrained</td>\n",
       "      <td>🟢</td>\n",
       "      <td>Original</td>\n",
       "      <td>LlamaForCausalLM</td>\n",
       "      <td>&lt;a target=\"_blank\" href=\"https://huggingface.c...</td>\n",
       "      <td>01-ai/Yi-1.5-34B-32K</td>\n",
       "      <td>2c03a29761e4174f20347a60fbe229be4383d48b</td>\n",
       "      <td>26.677560</td>\n",
       "      <td>...</td>\n",
       "      <td>14.077865</td>\n",
       "      <td>0.470911</td>\n",
       "      <td>41.212323</td>\n",
       "      <td>True</td>\n",
       "      <td>2024-05-15</td>\n",
       "      <td>2024-06-12</td>\n",
       "      <td>0</td>\n",
       "      <td>01-ai/Yi-1.5-34B-32K</td>\n",
       "      <td>01-ai/Yi-1.5-34B-32K</td>\n",
       "      <td>https://huggingface.co/01-ai/Yi-1.5-34B-32K</td>\n",
       "    </tr>\n",
       "    <tr>\n",
       "      <th>3</th>\n",
       "      <td>01-ai_Yi-1.5-34B-Chat_bfloat16</td>\n",
       "      <td>bfloat16</td>\n",
       "      <td>💬 chat models (RLHF, DPO, IFT, ...)</td>\n",
       "      <td>💬</td>\n",
       "      <td>Original</td>\n",
       "      <td>LlamaForCausalLM</td>\n",
       "      <td>&lt;a target=\"_blank\" href=\"https://huggingface.c...</td>\n",
       "      <td>01-ai/Yi-1.5-34B-Chat</td>\n",
       "      <td>f3128b2d02d82989daae566c0a7eadc621ca3254</td>\n",
       "      <td>32.892233</td>\n",
       "      <td>...</td>\n",
       "      <td>13.058073</td>\n",
       "      <td>0.452045</td>\n",
       "      <td>39.116061</td>\n",
       "      <td>True</td>\n",
       "      <td>2024-05-10</td>\n",
       "      <td>2024-06-12</td>\n",
       "      <td>0</td>\n",
       "      <td>01-ai/Yi-1.5-34B-Chat</td>\n",
       "      <td>01-ai/Yi-1.5-34B-Chat</td>\n",
       "      <td>https://huggingface.co/01-ai/Yi-1.5-34B-Chat</td>\n",
       "    </tr>\n",
       "    <tr>\n",
       "      <th>4</th>\n",
       "      <td>01-ai_Yi-1.5-34B-Chat-16K_bfloat16</td>\n",
       "      <td>bfloat16</td>\n",
       "      <td>💬 chat models (RLHF, DPO, IFT, ...)</td>\n",
       "      <td>💬</td>\n",
       "      <td>Original</td>\n",
       "      <td>LlamaForCausalLM</td>\n",
       "      <td>&lt;a target=\"_blank\" href=\"https://huggingface.c...</td>\n",
       "      <td>01-ai/Yi-1.5-34B-Chat-16K</td>\n",
       "      <td>ff74452e11f0f749ab872dc19b1dd3813c25c4d8</td>\n",
       "      <td>29.239909</td>\n",
       "      <td>...</td>\n",
       "      <td>13.736719</td>\n",
       "      <td>0.454455</td>\n",
       "      <td>39.383865</td>\n",
       "      <td>True</td>\n",
       "      <td>2024-05-15</td>\n",
       "      <td>2024-07-15</td>\n",
       "      <td>0</td>\n",
       "      <td>01-ai/Yi-1.5-34B-Chat-16K</td>\n",
       "      <td>01-ai/Yi-1.5-34B-Chat-16K</td>\n",
       "      <td>https://huggingface.co/01-ai/Yi-1.5-34B-Chat-16K</td>\n",
       "    </tr>\n",
       "    <tr>\n",
       "      <th>...</th>\n",
       "      <td>...</td>\n",
       "      <td>...</td>\n",
       "      <td>...</td>\n",
       "      <td>...</td>\n",
       "      <td>...</td>\n",
       "      <td>...</td>\n",
       "      <td>...</td>\n",
       "      <td>...</td>\n",
       "      <td>...</td>\n",
       "      <td>...</td>\n",
       "      <td>...</td>\n",
       "      <td>...</td>\n",
       "      <td>...</td>\n",
       "      <td>...</td>\n",
       "      <td>...</td>\n",
       "      <td>...</td>\n",
       "      <td>...</td>\n",
       "      <td>...</td>\n",
       "      <td>...</td>\n",
       "      <td>...</td>\n",
       "      <td>...</td>\n",
       "    </tr>\n",
       "    <tr>\n",
       "      <th>1986</th>\n",
       "      <td>zelk12_recoilme-gemma-2-Gutenberg-Doppel-9B-v0...</td>\n",
       "      <td>bfloat16</td>\n",
       "      <td>🤝 base merges and moerges</td>\n",
       "      <td>🤝</td>\n",
       "      <td>Original</td>\n",
       "      <td>Gemma2ForCausalLM</td>\n",
       "      <td>&lt;a target=\"_blank\" href=\"https://huggingface.c...</td>\n",
       "      <td>zelk12/recoilme-gemma-2-Gutenberg-Doppel-9B-v0.1</td>\n",
       "      <td>1e3e623e9f0b386bfd967c629dd39c87daef5bed</td>\n",
       "      <td>31.626376</td>\n",
       "      <td>...</td>\n",
       "      <td>13.310937</td>\n",
       "      <td>0.431516</td>\n",
       "      <td>36.835106</td>\n",
       "      <td>False</td>\n",
       "      <td>2024-10-07</td>\n",
       "      <td>2024-10-07</td>\n",
       "      <td>1</td>\n",
       "      <td>zelk12/recoilme-gemma-2-Gutenberg-Doppel-9B-v0...</td>\n",
       "      <td>zelk12/recoilme-gemma-2-Gutenberg-Doppel-9B-v0.1</td>\n",
       "      <td>https://huggingface.co/zelk12/recoilme-gemma-2...</td>\n",
       "    </tr>\n",
       "    <tr>\n",
       "      <th>1987</th>\n",
       "      <td>zelk12_recoilme-gemma-2-Ifable-9B-v0.1_bfloat16</td>\n",
       "      <td>bfloat16</td>\n",
       "      <td>🤝 base merges and moerges</td>\n",
       "      <td>🤝</td>\n",
       "      <td>Original</td>\n",
       "      <td>Gemma2ForCausalLM</td>\n",
       "      <td>&lt;a target=\"_blank\" href=\"https://huggingface.c...</td>\n",
       "      <td>zelk12/recoilme-gemma-2-Ifable-9B-v0.1</td>\n",
       "      <td>8af6620b39c9a36239879b6b2bd88f66e9e9d930</td>\n",
       "      <td>32.254423</td>\n",
       "      <td>...</td>\n",
       "      <td>11.095313</td>\n",
       "      <td>0.432347</td>\n",
       "      <td>36.927453</td>\n",
       "      <td>False</td>\n",
       "      <td>2024-10-07</td>\n",
       "      <td>2024-10-07</td>\n",
       "      <td>1</td>\n",
       "      <td>zelk12/recoilme-gemma-2-Ifable-9B-v0.1 (Merge)</td>\n",
       "      <td>zelk12/recoilme-gemma-2-Ifable-9B-v0.1</td>\n",
       "      <td>https://huggingface.co/zelk12/recoilme-gemma-2...</td>\n",
       "    </tr>\n",
       "    <tr>\n",
       "      <th>1988</th>\n",
       "      <td>zelk12_recoilme-gemma-2-psy10k-mental_healt-9B...</td>\n",
       "      <td>bfloat16</td>\n",
       "      <td>🤝 base merges and moerges</td>\n",
       "      <td>🤝</td>\n",
       "      <td>Original</td>\n",
       "      <td>Gemma2ForCausalLM</td>\n",
       "      <td>&lt;a target=\"_blank\" href=\"https://huggingface.c...</td>\n",
       "      <td>zelk12/recoilme-gemma-2-psy10k-mental_healt-9B...</td>\n",
       "      <td>ced039b03be6f65ac0f713efcee76c6534e65639</td>\n",
       "      <td>32.448061</td>\n",
       "      <td>...</td>\n",
       "      <td>12.183594</td>\n",
       "      <td>0.418052</td>\n",
       "      <td>35.339096</td>\n",
       "      <td>False</td>\n",
       "      <td>2024-10-07</td>\n",
       "      <td>2024-10-07</td>\n",
       "      <td>1</td>\n",
       "      <td>zelk12/recoilme-gemma-2-psy10k-mental_healt-9B...</td>\n",
       "      <td>zelk12/recoilme-gemma-2-psy10k-mental_healt-9B...</td>\n",
       "      <td>https://huggingface.co/zelk12/recoilme-gemma-2...</td>\n",
       "    </tr>\n",
       "    <tr>\n",
       "      <th>1989</th>\n",
       "      <td>zetasepic_Qwen2.5-72B-Instruct-abliterated_bfl...</td>\n",
       "      <td>bfloat16</td>\n",
       "      <td>🔶 fine-tuned on domain-specific datasets</td>\n",
       "      <td>🔶</td>\n",
       "      <td>Original</td>\n",
       "      <td>Qwen2ForCausalLM</td>\n",
       "      <td>&lt;a target=\"_blank\" href=\"https://huggingface.c...</td>\n",
       "      <td>zetasepic/Qwen2.5-72B-Instruct-abliterated</td>\n",
       "      <td>af94b3c05c9857dbac73afb1cbce00e4833ec9ef</td>\n",
       "      <td>45.293139</td>\n",
       "      <td>...</td>\n",
       "      <td>19.122917</td>\n",
       "      <td>0.587184</td>\n",
       "      <td>54.131575</td>\n",
       "      <td>False</td>\n",
       "      <td>2024-10-01</td>\n",
       "      <td>2024-11-08</td>\n",
       "      <td>2</td>\n",
       "      <td>Qwen/Qwen2.5-72B</td>\n",
       "      <td>zetasepic/Qwen2.5-72B-Instruct-abliterated</td>\n",
       "      <td>https://huggingface.co/zetasepic/Qwen2.5-72B-I...</td>\n",
       "    </tr>\n",
       "    <tr>\n",
       "      <th>1990</th>\n",
       "      <td>zhengr_MixTAO-7Bx2-MoE-v8.1_bfloat16</td>\n",
       "      <td>bfloat16</td>\n",
       "      <td>🔶 fine-tuned on domain-specific datasets</td>\n",
       "      <td>🔶</td>\n",
       "      <td>Original</td>\n",
       "      <td>MixtralForCausalLM</td>\n",
       "      <td>&lt;a target=\"_blank\" href=\"https://huggingface.c...</td>\n",
       "      <td>zhengr/MixTAO-7Bx2-MoE-v8.1</td>\n",
       "      <td>828e963abf2db0f5af9ed0d4034e538fc1cf5f40</td>\n",
       "      <td>17.168311</td>\n",
       "      <td>...</td>\n",
       "      <td>8.303125</td>\n",
       "      <td>0.284658</td>\n",
       "      <td>20.517509</td>\n",
       "      <td>False</td>\n",
       "      <td>2024-02-26</td>\n",
       "      <td>2024-06-27</td>\n",
       "      <td>0</td>\n",
       "      <td>zhengr/MixTAO-7Bx2-MoE-v8.1</td>\n",
       "      <td>zhengr/MixTAO-7Bx2-MoE-v8.1</td>\n",
       "      <td>https://huggingface.co/zhengr/MixTAO-7Bx2-MoE-...</td>\n",
       "    </tr>\n",
       "  </tbody>\n",
       "</table>\n",
       "<p>1991 rows × 38 columns</p>\n",
       "</div>"
      ],
      "text/plain": [
       "                                              eval_name precision  \\\n",
       "0                     0-hero_Matter-0.2-7B-DPO_bfloat16  bfloat16   \n",
       "1                             01-ai_Yi-1.5-34B_bfloat16  bfloat16   \n",
       "2                         01-ai_Yi-1.5-34B-32K_bfloat16  bfloat16   \n",
       "3                        01-ai_Yi-1.5-34B-Chat_bfloat16  bfloat16   \n",
       "4                    01-ai_Yi-1.5-34B-Chat-16K_bfloat16  bfloat16   \n",
       "...                                                 ...       ...   \n",
       "1986  zelk12_recoilme-gemma-2-Gutenberg-Doppel-9B-v0...  bfloat16   \n",
       "1987    zelk12_recoilme-gemma-2-Ifable-9B-v0.1_bfloat16  bfloat16   \n",
       "1988  zelk12_recoilme-gemma-2-psy10k-mental_healt-9B...  bfloat16   \n",
       "1989  zetasepic_Qwen2.5-72B-Instruct-abliterated_bfl...  bfloat16   \n",
       "1990               zhengr_MixTAO-7Bx2-MoE-v8.1_bfloat16  bfloat16   \n",
       "\n",
       "                                          type  T Weight type  \\\n",
       "0          💬 chat models (RLHF, DPO, IFT, ...)  💬    Original   \n",
       "1                                 🟢 pretrained  🟢    Original   \n",
       "2                                 🟢 pretrained  🟢    Original   \n",
       "3          💬 chat models (RLHF, DPO, IFT, ...)  💬    Original   \n",
       "4          💬 chat models (RLHF, DPO, IFT, ...)  💬    Original   \n",
       "...                                        ... ..         ...   \n",
       "1986                 🤝 base merges and moerges  🤝    Original   \n",
       "1987                 🤝 base merges and moerges  🤝    Original   \n",
       "1988                 🤝 base merges and moerges  🤝    Original   \n",
       "1989  🔶 fine-tuned on domain-specific datasets  🔶    Original   \n",
       "1990  🔶 fine-tuned on domain-specific datasets  🔶    Original   \n",
       "\n",
       "            Architecture                                    model_name_html  \\\n",
       "0     MistralForCausalLM  <a target=\"_blank\" href=\"https://huggingface.c...   \n",
       "1       LlamaForCausalLM  <a target=\"_blank\" href=\"https://huggingface.c...   \n",
       "2       LlamaForCausalLM  <a target=\"_blank\" href=\"https://huggingface.c...   \n",
       "3       LlamaForCausalLM  <a target=\"_blank\" href=\"https://huggingface.c...   \n",
       "4       LlamaForCausalLM  <a target=\"_blank\" href=\"https://huggingface.c...   \n",
       "...                  ...                                                ...   \n",
       "1986   Gemma2ForCausalLM  <a target=\"_blank\" href=\"https://huggingface.c...   \n",
       "1987   Gemma2ForCausalLM  <a target=\"_blank\" href=\"https://huggingface.c...   \n",
       "1988   Gemma2ForCausalLM  <a target=\"_blank\" href=\"https://huggingface.c...   \n",
       "1989    Qwen2ForCausalLM  <a target=\"_blank\" href=\"https://huggingface.c...   \n",
       "1990  MixtralForCausalLM  <a target=\"_blank\" href=\"https://huggingface.c...   \n",
       "\n",
       "                                               fullname  \\\n",
       "0                              0-hero/Matter-0.2-7B-DPO   \n",
       "1                                      01-ai/Yi-1.5-34B   \n",
       "2                                  01-ai/Yi-1.5-34B-32K   \n",
       "3                                 01-ai/Yi-1.5-34B-Chat   \n",
       "4                             01-ai/Yi-1.5-34B-Chat-16K   \n",
       "...                                                 ...   \n",
       "1986   zelk12/recoilme-gemma-2-Gutenberg-Doppel-9B-v0.1   \n",
       "1987             zelk12/recoilme-gemma-2-Ifable-9B-v0.1   \n",
       "1988  zelk12/recoilme-gemma-2-psy10k-mental_healt-9B...   \n",
       "1989         zetasepic/Qwen2.5-72B-Instruct-abliterated   \n",
       "1990                        zhengr/MixTAO-7Bx2-MoE-v8.1   \n",
       "\n",
       "                                     Model sha      score  ...       MUSR  \\\n",
       "0     26a66f0d862e2024ce4ad0a09c37052ac36e8af6   8.805656  ...   5.871875   \n",
       "1     4b486f81c935a2dadde84c6baa1e1370d40a098f  25.621318  ...  11.217188   \n",
       "2     2c03a29761e4174f20347a60fbe229be4383d48b  26.677560  ...  14.077865   \n",
       "3     f3128b2d02d82989daae566c0a7eadc621ca3254  32.892233  ...  13.058073   \n",
       "4     ff74452e11f0f749ab872dc19b1dd3813c25c4d8  29.239909  ...  13.736719   \n",
       "...                                        ...        ...  ...        ...   \n",
       "1986  1e3e623e9f0b386bfd967c629dd39c87daef5bed  31.626376  ...  13.310937   \n",
       "1987  8af6620b39c9a36239879b6b2bd88f66e9e9d930  32.254423  ...  11.095313   \n",
       "1988  ced039b03be6f65ac0f713efcee76c6534e65639  32.448061  ...  12.183594   \n",
       "1989  af94b3c05c9857dbac73afb1cbce00e4833ec9ef  45.293139  ...  19.122917   \n",
       "1990  828e963abf2db0f5af9ed0d4034e538fc1cf5f40  17.168311  ...   8.303125   \n",
       "\n",
       "      MMLU-PRO Raw   MMLU_PRO  Maintainer's Highlight  Upload To Hub Date  \\\n",
       "0         0.116356   1.817376                   False          2024-04-13   \n",
       "1         0.466589  40.732122                    True          2024-05-11   \n",
       "2         0.470911  41.212323                    True          2024-05-15   \n",
       "3         0.452045  39.116061                    True          2024-05-10   \n",
       "4         0.454455  39.383865                    True          2024-05-15   \n",
       "...            ...        ...                     ...                 ...   \n",
       "1986      0.431516  36.835106                   False          2024-10-07   \n",
       "1987      0.432347  36.927453                   False          2024-10-07   \n",
       "1988      0.418052  35.339096                   False          2024-10-07   \n",
       "1989      0.587184  54.131575                   False          2024-10-01   \n",
       "1990      0.284658  20.517509                   False          2024-02-26   \n",
       "\n",
       "      submission_date  Generation  \\\n",
       "0          2024-08-05           0   \n",
       "1          2024-06-12           0   \n",
       "2          2024-06-12           0   \n",
       "3          2024-06-12           0   \n",
       "4          2024-07-15           0   \n",
       "...               ...         ...   \n",
       "1986       2024-10-07           1   \n",
       "1987       2024-10-07           1   \n",
       "1988       2024-10-07           1   \n",
       "1989       2024-11-08           2   \n",
       "1990       2024-06-27           0   \n",
       "\n",
       "                                             Base Model  \\\n",
       "0                              0-hero/Matter-0.2-7B-DPO   \n",
       "1                                      01-ai/Yi-1.5-34B   \n",
       "2                                  01-ai/Yi-1.5-34B-32K   \n",
       "3                                 01-ai/Yi-1.5-34B-Chat   \n",
       "4                             01-ai/Yi-1.5-34B-Chat-16K   \n",
       "...                                                 ...   \n",
       "1986  zelk12/recoilme-gemma-2-Gutenberg-Doppel-9B-v0...   \n",
       "1987     zelk12/recoilme-gemma-2-Ifable-9B-v0.1 (Merge)   \n",
       "1988  zelk12/recoilme-gemma-2-psy10k-mental_healt-9B...   \n",
       "1989                                   Qwen/Qwen2.5-72B   \n",
       "1990                        zhengr/MixTAO-7Bx2-MoE-v8.1   \n",
       "\n",
       "                                             model_name  \\\n",
       "0                              0-hero/Matter-0.2-7B-DPO   \n",
       "1                                      01-ai/Yi-1.5-34B   \n",
       "2                                  01-ai/Yi-1.5-34B-32K   \n",
       "3                                 01-ai/Yi-1.5-34B-Chat   \n",
       "4                             01-ai/Yi-1.5-34B-Chat-16K   \n",
       "...                                                 ...   \n",
       "1986   zelk12/recoilme-gemma-2-Gutenberg-Doppel-9B-v0.1   \n",
       "1987             zelk12/recoilme-gemma-2-Ifable-9B-v0.1   \n",
       "1988  zelk12/recoilme-gemma-2-psy10k-mental_healt-9B...   \n",
       "1989         zetasepic/Qwen2.5-72B-Instruct-abliterated   \n",
       "1990                        zhengr/MixTAO-7Bx2-MoE-v8.1   \n",
       "\n",
       "                                             model_link  \n",
       "0       https://huggingface.co/0-hero/Matter-0.2-7B-DPO  \n",
       "1               https://huggingface.co/01-ai/Yi-1.5-34B  \n",
       "2           https://huggingface.co/01-ai/Yi-1.5-34B-32K  \n",
       "3          https://huggingface.co/01-ai/Yi-1.5-34B-Chat  \n",
       "4      https://huggingface.co/01-ai/Yi-1.5-34B-Chat-16K  \n",
       "...                                                 ...  \n",
       "1986  https://huggingface.co/zelk12/recoilme-gemma-2...  \n",
       "1987  https://huggingface.co/zelk12/recoilme-gemma-2...  \n",
       "1988  https://huggingface.co/zelk12/recoilme-gemma-2...  \n",
       "1989  https://huggingface.co/zetasepic/Qwen2.5-72B-I...  \n",
       "1990  https://huggingface.co/zhengr/MixTAO-7Bx2-MoE-...  \n",
       "\n",
       "[1991 rows x 38 columns]"
      ]
     },
     "execution_count": 11,
     "metadata": {},
     "output_type": "execute_result"
    }
   ],
   "source": [
    "df"
   ]
  },
  {
   "cell_type": "code",
   "execution_count": 19,
   "metadata": {},
   "outputs": [
    {
     "data": {
      "application/vnd.plotly.v1+json": {
       "config": {
        "plotlyServerURL": "https://plot.ly"
       },
       "data": [
        {
         "alignmentgroup": "True",
         "bingroup": "x",
         "hovertemplate": "score=%{x}<br>count=%{y}<extra></extra>",
         "legendgroup": "",
         "marker": {
          "color": "#636efa",
          "pattern": {
           "shape": ""
          }
         },
         "name": "",
         "nbinsx": 50,
         "offsetgroup": "",
         "orientation": "v",
         "showlegend": false,
         "type": "histogram",
         "x": [
          8.805656367208497,
          25.62131796065766,
          26.677560441237244,
          32.89223334850039,
          29.239909324079818,
          16.695345587701233,
          20.983905584895307,
          22.14131339736707,
          19.784610052239916,
          27.89441703395684,
          23.03528157450677,
          22.385715135754378,
          19.887594167797086,
          23.96231219963117,
          13.611617485376058,
          11.93315771474422,
          14.004356953877243,
          17.77410301729289,
          17.74213990293211,
          16.87269626350437,
          29.05964337578347,
          19.04410367635357,
          19.04410367635357,
          21.07861986755232,
          10.581746835612421,
          7.5973619193682245,
          12.23354432505113,
          21.91554017959572,
          25.610367506775574,
          27.374838927617827,
          9.298079394862366,
          9.89433609242818,
          28.344028639678886,
          27.204936939401076,
          19.063821952936436,
          13.097309181769297,
          11.815723181441308,
          13.777204414945189,
          4.7344332002937195,
          25.97208393481522,
          13.406180086719312,
          20.812694393455782,
          23.91696703468777,
          21.22590532742486,
          14.891448828550741,
          25.26767259596917,
          16.518524239214223,
          16.45133031140572,
          20.994478367994606,
          26.35255520693019,
          14.473081640821198,
          28.599285920507427,
          24.87150357178057,
          20.984068550093443,
          34.69707473198297,
          22.180236956648173,
          36.14221684255645,
          21.60935975334111,
          22.843425216048672,
          24.135356853188735,
          27.943550542340137,
          23.094956406239415,
          22.914334542962376,
          37.10681013594593,
          23.094956406239415,
          22.888938962938408,
          8.305018294278616,
          14.544518826320806,
          3.918894933596659,
          6.401567328738996,
          6.516557780898393,
          4.761771603157545,
          4.433887493354263,
          5.823652685243958,
          5.681552326682065,
          3.4319574717820847,
          5.64197086025683,
          10.080538762462039,
          25.31883759934171,
          15.09626789118606,
          23.803914231544336,
          7.311462119128536,
          25.211313042795183,
          19.461824592709412,
          3.9687947544913142,
          21.480107983834134,
          18.072100566743075,
          28.661026786914743,
          27.726281547801026,
          21.345510590269537,
          21.847726101261202,
          5.07608283209792,
          10.909605767857023,
          9.027007426451306,
          10.388869107538872,
          10.196191687548895,
          25.911926926034422,
          16.643938664163283,
          23.285244928604158,
          15.187667943527268,
          14.839283995827836,
          20.49298594556629,
          23.343745645021073,
          20.798247215757183,
          24.67987974603332,
          15.998395031351,
          29.391219089316227,
          22.142223244821295,
          30.961246846253957,
          33.58453401148939,
          25.34997846133653,
          11.483994762243412,
          11.148799545265172,
          11.456794764322686,
          12.489957398856303,
          21.470701394631913,
          19.4629764706478,
          20.459335612901622,
          27.146690191441554,
          31.392518322054485,
          4.798584382133771,
          6.1188482937755735,
          6.7069030316516836,
          14.02064596068111,
          8.869902463410988,
          29.405456831659393,
          36.69431425267112,
          36.390258554758304,
          36.99924187858995,
          33.524335557588614,
          30.63982515783321,
          36.65968676601578,
          37.26866293158711,
          15.492947659683166,
          20.44629273972021,
          29.12705144283578,
          31.73844758399777,
          26.51900505359198,
          12.91345183517749,
          13.496180237831885,
          12.974201831840233,
          13.311582656183205,
          18.59091937554763,
          19.144688021668408,
          20.67288826630491,
          20.519536523526952,
          17.857043217965458,
          17.743438847757332,
          18.863874539984916,
          17.0967863641751,
          18.790032752524105,
          14.9605373563486,
          17.45750410417531,
          28.788231408436953,
          13.708555118467507,
          13.182851431329885,
          10.619318805675972,
          14.211124391175877,
          5.9817068336666175,
          27.727686541835755,
          6.292853205279464,
          6.381801392161105,
          28.763891945519962,
          28.37572771437952,
          28.37572771437952,
          21.618583347735385,
          24.65391504607781,
          26.733875824898078,
          28.228097653849485,
          28.838347109439926,
          4.384321585834787,
          4.384321585834787,
          24.128795136031925,
          18.874474820285695,
          23.801361863210996,
          24.91417210813067,
          18.41946722561781,
          28.52316487341844,
          28.38880221155723,
          29.5695557027932,
          29.064263146797785,
          28.93415264630571,
          30.296459444597232,
          19.148010879752526,
          28.96489055799835,
          26.034998081672143,
          29.61171479576701,
          28.93115613549158,
          29.247390406660518,
          27.754545133229385,
          25.32468041749377,
          26.16755491004078,
          26.935908369361425,
          29.049296605169243,
          28.810739050078933,
          26.362467133905938,
          27.535042278193572,
          24.731381344370785,
          18.101828101742136,
          6.557823652110813,
          5.340738381554636,
          4.382145673978601,
          6.355519100081103,
          6.003229101114816,
          5.9339603247654615,
          5.6171015655565055,
          5.454241347061218,
          5.113779260124896,
          5.865841840200201,
          15.180944731273977,
          12.17466675780287,
          17.524057891231795,
          14.945694080269645,
          14.97108966029361,
          14.050827219560906,
          14.884540880721502,
          25.22856175673255,
          18.55277348742638,
          13.922105768332225,
          14.294329392765809,
          15.122657277237366,
          17.314021588433324,
          11.100786696591038,
          15.5093551197229,
          14.440864617241166,
          21.066973898540912,
          25.17928731284014,
          22.537888510423016,
          21.57995002453019,
          20.62716790652169,
          23.89694960766511,
          22.993108060977832,
          23.74994070118673,
          20.832251171540538,
          23.760965489012914,
          20.545340873212893,
          21.205444597479687,
          15.276399716219549,
          18.901973692089324,
          16.566232425191405,
          15.693214614615044,
          15.162522233382598,
          22.539085461792496,
          21.567143968773337,
          20.299749591553304,
          21.031576913237085,
          21.829867402445903,
          21.870165100447196,
          20.882036817993153,
          22.41048331094016,
          20.389309021116734,
          11.332218395902872,
          22.677604835020144,
          20.99999448145977,
          29.17284225733607,
          21.29915504404221,
          21.255120617115054,
          24.402767356336923,
          24.42816293636089,
          19.58870802333299,
          26.260139418825688,
          26.571055637376002,
          27.65946775351119,
          24.474445146440242,
          17.927882200113448,
          26.604602322368482,
          25.095429177394767,
          22.018549420148144,
          4.10106118080753,
          3.8487272872743543,
          23.879918375249208,
          24.46052622183161,
          19.615524943255753,
          19.01694266531292,
          10.871546697990665,
          12.352465693057807,
          20.184131787930824,
          21.885253033854905,
          21.622238130213123,
          32.3423789936126,
          22.908341620621332,
          8.320602658507037,
          8.415919404386559,
          15.294145528132411,
          13.665943580793822,
          13.540924319659437,
          33.511797999628094,
          27.76376328826473,
          13.567473682990121,
          28.28665136279506,
          19.172954327329677,
          25.838484970383433,
          16.772417469018666,
          21.311158523579955,
          20.365189359475664,
          21.40754112367979,
          27.82393227565633,
          25.935393515635266,
          18.16949453226467,
          18.06624017039761,
          20.104566088787408,
          23.75480948277468,
          25.39862978385939,
          19.71182897088656,
          24.93528984101707,
          18.571864220384587,
          17.76706099373502,
          15.929338407709793,
          34.063022800582324,
          5.425398534456355,
          5.138221532759036,
          6.838196840775357,
          3.5641708324788968,
          6.147595806027067,
          4.70678415207999,
          9.495504224029132,
          14.745339097105633,
          5.5576774540416665,
          6.467364720358819,
          2.992598970656367,
          6.100224948704614,
          3.1000195398620374,
          8.001097139380912,
          22.564910696419574,
          23.0068996717315,
          26.665374096819846,
          3.9064248386004103,
          13.087132955117646,
          17.943646116016044,
          21.004986176864318,
          21.43364681812902,
          19.99112025734428,
          29.204292702208424,
          15.567377233131845,
          15.419272249038903,
          26.857295459909086,
          27.81795957129169,
          16.974407042111938,
          23.571334618424515,
          20.009947649745282,
          19.917523364619857,
          19.64969645530488,
          19.143897625710434,
          22.292391864753952,
          19.862588017523432,
          24.27994844284174,
          23.817704278814873,
          23.756269939372,
          22.79797888615873,
          22.82731178886496,
          24.15902614701517,
          23.858382787902887,
          23.742269138965423,
          23.25287703936368,
          30.08138253058424,
          10.855702876978865,
          4.709670929782421,
          5.816564399847588,
          5.129125488958306,
          1.8391657564373078,
          36.119232723240636,
          35.953711985827894,
          36.09383714321667,
          40.75025867079505,
          5.248478254584771,
          7.4751839774632565,
          19.85991229689613,
          15.591290516909313,
          16.642746333013065,
          18.031180859624474,
          21.259598634719698,
          17.59768422227647,
          19.9779124309599,
          20.08268459117341,
          19.543100768776316,
          22.143018437127726,
          14.476673707758115,
          8.70733029782081,
          7.090031583262745,
          9.271088455799534,
          12.943197667049484,
          21.403463325745587,
          14.568224589032942,
          22.93951172079261,
          6.850908042622611,
          33.966892262649466,
          19.82253217790367,
          5.598771713093911,
          8.543038998265203,
          14.416617622602132,
          19.467876582042745,
          14.57612922252259,
          20.322005404213282,
          4.2705450975952735,
          9.907408810969168,
          10.120978492084495,
          13.478558813262525,
          7.678967220435808,
          4.75810132799894,
          10.29773571689596,
          7.6689433176032935,
          9.345527494068838,
          10.391053333653405,
          12.446350312296405,
          5.405095635257794,
          6.451512878120261,
          4.20213088745114,
          6.760196792392537,
          5.526903574467614,
          4.9514879965764145,
          6.13167884357284,
          21.173036771512912,
          21.03618886927276,
          30.79800521013577,
          3.7204134260134736,
          3.7204134260134736,
          8.77802167872376,
          14.404947865677416,
          3.222583873408301,
          20.382961212646297,
          14.346595145088264,
          11.911503558649864,
          3.23270592407536,
          3.3703008780702635,
          3.380292884465147,
          3.380292884465147,
          3.3703008780702635,
          3.380292884465147,
          22.38284116689637,
          22.40996673514959,
          21.84577318798755,
          21.74925407748006,
          17.61324636978146,
          22.25475482964021,
          23.48354588229914,
          22.609955510275046,
          15.992123441844717,
          20.359492559845098,
          3.8717939498227243,
          23.18362910123705,
          24.089195268557347,
          25.26252458499293,
          14.546602836554825,
          19.077846240199964,
          4.130107609282086,
          3.81803368483764,
          20.333975762059037,
          32.00519030847487,
          15.928911353272705,
          17.49028478617081,
          16.473094269110153,
          16.307770990649317,
          16.91155823731261,
          17.975799245688165,
          16.439100559586322,
          14.006706850729245,
          16.91534944021143,
          21.040210378699708,
          20.734779597442383,
          21.71640464254096,
          21.682113557188703,
          24.379859820295167,
          12.53238447300032,
          14.880579276695444,
          6.572937761865147,
          22.072560326298653,
          31.03669110997119,
          14.880579276695444,
          23.816174101276204,
          31.26926201417686,
          20.023903328526014,
          20.163772829255382,
          26.056974867400314,
          26.75963903768024,
          26.90147249054173,
          26.82440874256939,
          11.507206996479937,
          22.98150895877193,
          19.52037323782283,
          34.33985939628554,
          24.588084286118573,
          27.20732708410567,
          43.945771681032305,
          23.504115559635427,
          38.39045817891699,
          44.55588168517635,
          38.29112109233707,
          36.45048314820763,
          23.231129959612986,
          43.77539284020449,
          23.532966972011433,
          38.02266336132943,
          44.26045323567612,
          37.15514908346956,
          40.64427352822522,
          23.105983364523226,
          30.407678856462994,
          23.043936653898097,
          44.4189045437758,
          32.4988133655824,
          22.801088302834632,
          50.71469472295214,
          22.67212680186952,
          21.33303578900708,
          22.34267903429701,
          22.13245790331135,
          20.286043304770676,
          24.00523380928473,
          22.14064810816379,
          22.65660627287841,
          21.06268964855956,
          21.54779315312935,
          3.7340655292605676,
          5.498565044787242,
          5.861005557078461,
          4.900377500631554,
          6.643430190859999,
          7.0145354420783015,
          1.6796019124036488,
          1.6796019124036488,
          22.92587024976139,
          27.551439019117016,
          15.900117928030674,
          15.766913239603488,
          28.277663297463416,
          29.284049971751234,
          38.51659936266015,
          12.298250998539771,
          5.770787326967873,
          6.4058163053555175,
          20.845862971267593,
          21.302894109086605,
          20.80753601836232,
          11.55954793966039,
          24.51738786262653,
          17.79484716565742,
          24.3868203470804,
          8.31183115135613,
          25.842428037605917,
          29.696236411462305,
          30.218548596061098,
          9.562948978547835,
          16.649107253623388,
          8.940455389326333,
          16.962638810813903,
          21.704920333811653,
          21.702107522212724,
          24.775788343989266,
          37.482545094445584,
          23.49087671148001,
          21.037646390284717,
          27.29024985448301,
          21.841010891461725,
          23.362190692279768,
          9.291539705283657,
          8.41861797578536,
          6.701507629071706,
          7.13476632786368,
          13.218402925989887,
          13.502693645072753,
          15.718665312283363,
          15.12428609620011,
          1.6334163485881146,
          4.515495603660534,
          14.59218689770182,
          17.418105309994427,
          13.371895008607561,
          8.390585578374138,
          4.921767050278931,
          5.170300155045384,
          20.071645037035577,
          17.696474879163762,
          3.6692423765809075,
          35.46534078043743,
          19.961528447552116,
          21.905833556192658,
          35.30788179040349,
          24.254527583378188,
          23.07877971712109,
          8.959801927591569,
          13.394834151781216,
          22.229103914926494,
          39.080116730865974,
          38.51659936266015,
          31.042901144572593,
          28.848771220664332,
          26.843617296527373,
          30.295297872302047,
          19.267601743281492,
          11.5496567674182,
          28.233905159704353,
          14.761081833869587,
          26.86041322229723,
          27.925120906061533,
          27.98971152356219,
          19.674299882430986,
          24.203898243796555,
          22.626211240184926,
          21.67196919742406,
          21.687797523752916,
          19.57365039781563,
          20.75850572801048,
          9.402823710265748,
          18.779420223036123,
          24.21076517685928,
          18.128681543434002,
          22.71069985585982,
          22.65911348895351,
          12.702270280359086,
          22.736095435883787,
          22.617724600064623,
          22.71069985585982,
          22.643120180088587,
          22.71069985585982,
          16.027100154079797,
          5.392359658909203,
          11.32424791067333,
          5.137017087672389,
          5.564869039793773,
          9.181375704374858,
          9.006021162921042,
          29.846265621686655,
          29.224836684325613,
          20.51420090838204,
          21.02330687787111,
          27.021817287170666,
          27.19301707049657,
          11.327598669897498,
          12.337753423984099,
          15.357503964067982,
          16.57617293158245,
          12.42275797734545,
          14.823498043433531,
          7.1126352248636,
          6.41054699783957,
          10.445452935561454,
          13.990879413369,
          25.0338731324107,
          29.780722801392006,
          35.48184716610958,
          42.91430415552085,
          23.93775025730012,
          24.90295162911335,
          35.15086636785174,
          11.941392447110303,
          37.91275288601192,
          24.214809619420123,
          6.310893394760252,
          8.140647319276075,
          8.382971846691058,
          13.802348694049366,
          15.031717600858885,
          31.749652824065382,
          32.18307278426168,
          37.98279107151089,
          36.17418497413896,
          17.108308989083472,
          21.031344318800695,
          38.36561487162947,
          38.21208126161476,
          24.98693434504172,
          26.86677532661463,
          24.766111696299742,
          31.178725416796762,
          19.209490538962246,
          22.425432965182296,
          22.52451581645211,
          29.647637276245174,
          17.836657156289718,
          16.506312907803878,
          4.950363477111334,
          4.705487409302649,
          19.63634312977761,
          3.885056601409273,
          11.546978376746557,
          12.777919128499393,
          16.653994219637084,
          27.382649662720095,
          22.55193174606386,
          16.427667565252104,
          11.731388181541368,
          11.095283585246312,
          3.325393716070183,
          3.509166955357833,
          3.5774317458290468,
          25.054691032959767,
          20.079624910826094,
          15.1125242410546,
          17.1956384886446,
          15.428162178774246,
          17.029765390241824,
          20.55645488872975,
          19.449859883810536,
          20.069619001586815,
          35.34801470603125,
          35.473252668728755,
          25.628336385704557,
          25.909569821830583,
          12.587040520385296,
          19.39645689227663,
          38.32420717396262,
          18.116037314356188,
          18.930467329222825,
          23.884404819428013,
          11.933934311549068,
          9.056025736412328,
          4.0981087422687,
          27.695518682317058,
          22.091366485837487,
          15.818025859469854,
          6.579424547799557,
          18.611302510505624,
          17.779359377064228,
          19.153340496601754,
          31.674586251326968,
          31.69998183135093,
          28.56856067039128,
          19.186491401477962,
          25.271852358738084,
          3.829474587630019,
          6.777645791540958,
          21.287431571598006,
          20.69486258112838,
          21.164673480185755,
          17.21021450760981,
          5.627322193913661,
          25.38575801243763,
          26.79906604691008,
          25.995327153379638,
          21.154150518099627,
          18.006731731716215,
          10.973477297045166,
          8.922510186531982,
          21.46986225962917,
          16.37968840147641,
          8.54410296272912,
          8.778934275693588,
          15.144990895303266,
          12.013002201474537,
          14.195345928021323,
          28.39985671417215,
          22.736097081617697,
          9.028587586742827,
          21.151983196990248,
          23.60845566468781,
          21.52492306936782,
          16.70637219965645,
          31.93755648871615,
          32.91632851687221,
          33.47789095763978,
          31.227939070725686,
          35.66938822001474,
          16.81345765604147,
          4.075811436466043,
          4.09286641277805,
          2.7181545515830545,
          4.723848910038992,
          21.4783017974636,
          21.324728198424097,
          25.502430831782842,
          28.04341070878014,
          29.823981177705836,
          34.19905841687916,
          28.762307783788902,
          21.08816868559016,
          21.216144486637848,
          21.467179975872483,
          24.640077305514044,
          23.927649495929,
          23.479398322273383,
          23.05947024187678,
          16.356579938813663,
          17.879981444801057,
          17.030022683033646,
          16.41312873159652,
          24.49072672808805,
          11.827188448409279,
          43.693132532674156,
          38.16923335630724,
          26.66765472658618,
          42.671070947754295,
          28.684849520122796,
          10.122505251282272,
          19.69448798081142,
          22.134728374463325,
          7.615390021547905,
          14.600569546301648,
          24.47487868357288,
          25.765909310772553,
          30.31979818726856,
          20.16424435950889,
          10.46520167420392,
          21.832650076743665,
          36.86636909806251,
          35.649022384402066,
          20.245300698827084,
          20.406433108256554,
          18.673749835243385,
          37.150403066457734,
          30.603091708338482,
          36.165892816840746,
          20.214217508763127,
          25.558664369322077,
          16.59998122465048,
          13.84010516392186,
          18.312602016344886,
          18.218113337558123,
          24.365740185609393,
          15.45803558114332,
          11.64237812643446,
          10.730297140733242,
          14.214462062759141,
          24.83883857243592,
          24.403136398568407,
          25.47280416231614,
          27.20909327814938,
          16.76825217160735,
          20.119138899189185,
          19.205449654941816,
          24.23995279329782,
          4.6278210436436655,
          19.70813326438918,
          4.546091523510591,
          15.164944624066,
          22.359677748876226,
          20.694285318437824,
          20.437243081688283,
          22.808395334774527,
          20.953524952806195,
          4.495167294967694,
          26.283975359929922,
          18.979223141358474,
          24.849214307970467,
          23.550238486572983,
          4.342503912314145,
          5.551290974765486,
          4.198598563472031,
          4.614606797904897,
          3.6630142582547953,
          16.404997812890667,
          16.404997812890667,
          10.416375256367889,
          5.195510054664371,
          3.505273892929676,
          11.923326667094797,
          7.486570144330268,
          8.716672600470547,
          4.443749032036031,
          20.44073707899282,
          25.75228292276172,
          29.58962889646757,
          34.169055537844336,
          34.353367870008,
          30.9535098871614,
          24.673537409896202,
          23.65270602885461,
          35.004196645647404,
          42.710041944577235,
          19.86614827878299,
          18.96705744198789,
          23.757346989413076,
          29.57365374322679,
          35.02219270952673,
          22.235368526294035,
          41.43222618381143,
          18.072200919117407,
          12.976295791626066,
          14.71267209846267,
          28.804372782766325,
          12.263692661007687,
          18.609615894077187,
          23.789584729523124,
          5.469542016632626,
          4.963265433447307,
          9.142836388614539,
          17.882297351655794,
          23.60602411614195,
          29.365249771767235,
          11.306071402090678,
          26.034998081672143,
          25.62057620827619,
          4.235057018188027,
          22.53399996766414,
          6.470278440392426,
          10.76085660371239,
          6.776151209771288,
          7.178463786041392,
          13.207221439435314,
          21.333145473777037,
          30.85731660118483,
          33.50229122648299,
          33.23219673711363,
          34.04252388733556,
          28.622211660565082,
          28.760078416834222,
          28.601185664032425,
          28.616144282453835,
          18.67252497281834,
          9.951594488947727,
          29.48531675671586,
          19.326433024980343,
          14.838024782746507,
          21.627095011873774,
          20.901277692856755,
          21.402269092143058,
          20.615004277462628,
          20.26556408489774,
          19.459701309543572,
          20.19249196725997,
          20.376084015154504,
          20.614675908435512,
          19.827554947936594,
          19.60289357065609,
          20.263838988227736,
          19.779705395006918,
          21.02451201921762,
          20.642969652890788,
          19.554834844590108,
          20.483321358079127,
          4.536203105914491,
          19.683310670804666,
          20.68795868384743,
          20.37625856831286,
          19.3862065518818,
          30.117271485598906,
          23.532275395566582,
          7.962730746600417,
          7.931823747573229,
          30.284047573273323,
          28.42228883396186,
          30.395518587168695,
          19.763283266410607,
          21.34996880563698,
          3.5313443657802126,
          4.47082956616707,
          29.11005901648579,
          27.89535697183935,
          29.331698653047734,
          23.274021320612203,
          29.240845401162915,
          34.109402524224485,
          29.53585521035724,
          35.69424107412545,
          30.42023764916729,
          35.550711886602095,
          29.97816783731106,
          20.70747082131683,
          19.605147694000024,
          4.559640996200532,
          20.299388938322068,
          4.039649477594208,
          22.208593463266496,
          20.52713067321613,
          4.25273291237777,
          5.827458303350088,
          27.930703297359486,
          8.31148742313468,
          29.373749562244843,
          30.421276990470318,
          19.612692297466157,
          19.70388869479609,
          5.029701636906855,
          9.237994378100716,
          26.393029865170902,
          6.39021099096268,
          13.136516078457651,
          32.98352313683298,
          42.57658747468742,
          30.474248057889294,
          17.072822971393897,
          4.759627159992882,
          5.191212208507016,
          7.184001294083682,
          42.61044779777647,
          18.695116628816773,
          41.556286164202575,
          18.882085055018837,
          29.097905798270787,
          29.66608133452966,
          19.415999551544644,
          19.13732654194111,
          19.949135830506954,
          27.715900428010542,
          26.33088900109563,
          23.773818388464395,
          13.986977121551305,
          43.90233522645246,
          25.53645563140378,
          25.443168747377587,
          30.04240657864892,
          24.922433276152727,
          33.89247105296946,
          15.538003121443232,
          18.411321188854632,
          24.42823109564674,
          19.45875971727332,
          20.905594645477773,
          19.896858146403503,
          14.257193911777046,
          8.709433197510963,
          13.725352082619835,
          12.15864791851745,
          14.14599980116308,
          17.59506983930647,
          23.426338156309612,
          11.25370440964923,
          20.34738938182539,
          20.826772930450105,
          12.551763538463561,
          6.536559509561811,
          8.255674026026627,
          3.962215291979836,
          3.9712257798358466,
          4.262012960471914,
          3.4568911318914637,
          3.7073934241241133,
          32.21623382392481,
          23.167894101884695,
          30.777462062310445,
          21.33386000090471,
          30.752066482286477,
          8.624958956811936,
          28.398623238435054,
          24.96189537051428,
          24.23172088440454,
          22.416477656771107,
          21.301100450927045,
          19.549051506484762,
          21.399686909553257,
          16.079069030590112,
          6.443825974411914,
          25.392387958249845,
          30.9311314754903,
          28.51072041520625,
          29.188505790830817,
          23.274653785329264,
          23.377815068917105,
          27.692747245388176,
          30.747252421264204,
          14.250410441580543,
          14.252473873670247,
          27.169390532337705,
          26.532727564463084,
          25.30072104853323,
          3.634370763516103,
          19.68607400361903,
          20.738602675687222,
          3.4668751054130524,
          20.553948052865767,
          20.103005917547325,
          7.248831987266861,
          19.281097477881172,
          21.972344167758195,
          13.49126772081828,
          35.66646489034437,
          27.598581076033312,
          26.04350240565636,
          9.749647631566758,
          9.743408044310225,
          9.430025838684463,
          18.390285005161935,
          23.444758722294452,
          27.90438430774833,
          24.934789582515688,
          25.668897153286427,
          25.590063720348784,
          25.618429176393875,
          35.74529231792153,
          21.183965357050457,
          27.07320641433773,
          19.37387218316181,
          24.68290415484145,
          9.797440973598183,
          6.95562754717428,
          17.951635338229444,
          27.830191204942878,
          21.375589663219504,
          19.845817827958424,
          22.265314856492438,
          25.19901027244322,
          6.9182911264755065,
          6.3830238203141,
          5.461188958075847,
          5.571831773906653,
          4.2240313745834674,
          18.489144848488248,
          26.995928954293646,
          8.138981617146595,
          14.785392500233186,
          7.390805090753893,
          10.177322172973907,
          51.24391119284468,
          18.174180301183593,
          10.756011142762683,
          11.076157946218345,
          43.76948011240021,
          11.88259722876987,
          16.577811600535515,
          3.9015688926785734,
          32.132148579655784,
          22.00131716911301,
          25.54250714906874,
          28.272627712063684,
          29.184843283993796,
          23.41729956623631,
          23.0504333980543,
          25.975607726314845,
          24.36913109850897,
          27.077247509364152,
          22.445512437637706,
          22.42011685761374,
          25.94422727612673,
          21.91018661983311,
          34.68177025604325,
          36.094509186487265,
          26.65066216362906,
          41.937416384364845,
          28.464284108683696,
          45.13122176315489,
          43.970954532140375,
          35.00187554079472,
          14.827190126716792,
          17.34065066831643,
          18.364750624036642,
          20.50026525415772,
          18.53093853220701,
          18.58662220539731,
          20.445597345618093,
          18.843738739478216,
          14.182478041881888,
          14.182478041881888,
          34.83005268129006,
          29.66918471740927,
          20.75671493642371,
          26.76449350554223,
          28.89753155323267,
          21.48828879438861,
          7.256640238874923,
          5.251513100569197,
          6.201345407060512,
          15.612956358952992,
          19.17766799085752,
          30.204882837947697,
          31.775592079603722,
          36.091428530322595,
          41.62240796434389,
          40.286669657817164,
          23.12139676764886,
          19.633582661140952,
          22.799982694927763,
          31.207647622172544,
          31.8158666745255,
          20.825303665535404,
          16.868868412531032,
          23.646636908286848,
          17.179560369346195,
          35.898954369866175,
          21.841614118479715,
          19.50346196795837,
          36.23715891973573,
          26.38180122650539,
          21.57493407874559,
          32.424578496240706,
          16.295570875162888,
          16.641293877570874,
          17.20449145515274,
          5.222835726155844,
          11.919581981532884,
          20.986453628374324,
          36.29275614704682,
          38.26813710120556,
          15.103134921172604,
          29.92481574831361,
          17.29986493129456,
          24.753571377438103,
          33.70386408911091,
          7.03316296850576,
          6.239408489533947,
          9.418948706006079,
          6.003780642360629,
          11.591779528533316,
          11.58716743755607,
          13.485843425522548,
          13.550117524788796,
          7.776435284352048,
          17.479586243071306,
          23.850638639876475,
          32.32231876887986,
          10.129463155055184,
          10.334439334831469,
          17.046939294966545,
          17.11540570593849,
          15.885578707405609,
          21.154934308829795,
          28.86279046415118,
          7.35870138352179,
          7.221453677142921,
          15.455406687090031,
          12.868141901410231,
          3.5652821226493496,
          4.2559281732773515,
          5.191420153031625,
          5.10307678308611,
          6.952186412902159,
          7.945552906776601,
          13.684284622472417,
          19.23070312312456,
          3.2959502683966075,
          3.441046025501144,
          16.409985274574527,
          6.39102973137443,
          5.977736928104574,
          18.2455696265917,
          20.887036378959028,
          23.688474780111147,
          23.179537374596944,
          23.706234655492324,
          21.742325255357272,
          20.58766179624135,
          20.44755524463176,
          20.663929456309727,
          11.857290104453797,
          10.015320048495058,
          11.39501377161943,
          5.028206641571718,
          3.587775291474459,
          24.570858101407055,
          24.827083715980304,
          15.783567182822972,
          23.252107598622704,
          9.291479464313436,
          13.587326620388723,
          6.389823692285343,
          26.6475056681965,
          26.999904985788007,
          19.623910591690436,
          9.320256405776588,
          25.377438954944267,
          21.127533023833326,
          16.763622002709972,
          13.660359975521821,
          21.653160048346322,
          23.864033234852883,
          7.7576445280227295,
          11.808373451644258,
          21.49132746100335,
          21.051242383176817,
          21.41440427176671,
          21.83125244134635,
          21.703644196424325,
          21.886899252180523,
          21.63483115225961,
          21.681833980913552,
          21.828057183799743,
          21.913941249727642,
          20.851529815240237,
          21.326177223206326,
          21.7675495314773,
          18.97223441334013,
          21.58781076739574,
          20.959618631101474,
          20.34382476557608,
          19.830521930024645,
          18.61930264775693,
          21.393849887148946,
          20.28423097800195,
          21.340100248235235,
          21.35984770816403,
          21.183767054299327,
          21.576224480293906,
          20.05225099073927,
          21.22705439016619,
          21.76501539901592,
          21.684258727932463,
          17.308799492462867,
          22.888690555751907,
          25.12160361348914,
          2.8543503197666724,
          8.597072451460065,
          10.553683634515037,
          12.106337611274624,
          32.08201273924976,
          30.576855562826193,
          20.63850354349346,
          19.52985136315749,
          20.156929106658144,
          19.778643538982763,
          26.6534812159811,
          24.782875921300192,
          3.81661033477558,
          15.898965686506898,
          31.178621367854532,
          31.166804259039225,
          28.363890212782554,
          23.70241029390584,
          23.14683268365377,
          23.873164644487787,
          30.823333760632693,
          30.95377666364284,
          28.312593949496755,
          19.548213143143965,
          18.89619333590397,
          19.789054068751515,
          22.379186218052393,
          21.408591601787467,
          20.103542136013562,
          21.833220529017808,
          19.38459094574601,
          22.35855717338799,
          18.442433340954473,
          21.8356864933274,
          18.483613463733477,
          21.99460647263732,
          22.199406131853124,
          21.278225896655268,
          20.41033875046328,
          21.773954256833775,
          20.08669537382087,
          21.442231277824096,
          19.14961218122289,
          21.626887508307224,
          18.884376758560723,
          21.374085275651822,
          14.123522915539402,
          11.619907050970184,
          15.9437708061195,
          16.721677967899154,
          17.28459343949862,
          21.35828447877297,
          20.428512140604372,
          18.842381597176864,
          18.209007549281022,
          18.00619026682418,
          18.13585052124981,
          30.02689405117682,
          33.54404861417634,
          27.91192830004516,
          25.2030043992137,
          26.80451120922204,
          20.047537447594227,
          20.44752918938526,
          17.654763138167564,
          18.53164895276002,
          4.775598832496902,
          19.18313022987992,
          5.077266589541096,
          20.001471576043677,
          13.222836027835152,
          17.556133044401136,
          12.972013212286393,
          16.591858423011967,
          10.636087137871412,
          13.082387129788158,
          20.004600935202415,
          7.669226122472586,
          6.529137553770025,
          4.3809433295396625,
          3.5981341522342523,
          16.271667851438323,
          16.148858435149524,
          19.86080810918431,
          19.83541252916034,
          11.394004277470655,
          16.580170752646193,
          26.311881352660507,
          22.465284493940924,
          25.10969386534957,
          29.261671253970402,
          19.173830206434758,
          15.01936138376009,
          18.765944401672623,
          28.333876970643033,
          29.016329177068368,
          21.293827573842577,
          21.180095735103666,
          30.93550287526195,
          30.16400805293473,
          31.290605069393816,
          32.878261787684,
          33.17239600127745,
          19.49393108204256,
          19.871250447473276,
          22.013486779642253,
          22.10886589241117,
          25.33758187443696,
          22.002429182591055,
          22.002429182591055,
          24.634133139185625,
          24.659528719209593,
          25.735641766923777,
          23.885601415742673,
          19.571596882248173,
          21.409091772671264,
          23.533710710608293,
          23.596767310523163,
          12.084587090107753,
          12.024321589275658,
          15.509045365139842,
          9.35750923320331,
          11.475736756355928,
          11.599470354824822,
          22.910741927151804,
          10.284476273840957,
          8.31181120581355,
          10.784447380313544,
          11.661761952832547,
          24.259120767899372,
          23.640515390226003,
          3.803298133544272,
          24.976968946780264,
          5.970568662218972,
          7.037723786407888,
          21.166688498001093,
          20.893497780988604,
          19.793469619296484,
          21.046535160595596,
          7.287062057653856,
          7.287062057653856,
          7.287062057653856,
          7.257344997193762,
          5.812746004584803,
          26.561461535316194,
          30.737996436280383,
          23.463466810209308,
          30.043102315944463,
          13.377015111087497,
          7.954663212324287,
          8.042045147015047,
          12.97725036927792,
          13.64783098911302,
          14.377117270136123,
          27.38001107114184,
          27.562940703396578,
          21.641240859603382,
          17.854958732939675,
          11.016342275210453,
          11.014833514003099,
          12.74640473856668,
          18.309658021614386,
          9.395485278250947,
          8.730828895633673,
          4.031494495415088,
          13.813720492824933,
          8.584529665203304,
          24.116533990069385,
          26.66758582116017,
          36.51069341426509,
          13.463211553055663,
          23.908735693936837,
          20.59657132920815,
          26.200215843375947,
          42.17631279750882,
          13.869066261279146,
          28.204458498101914,
          5.251433606790305,
          18.14940382091093,
          14.216008329134612,
          31.711653255665578,
          32.89624957029284,
          25.62628727325536,
          25.967732638041607,
          27.411116641779596,
          28.590991569522757,
          29.670921852105653,
          35.45650752160648,
          27.567573468796144,
          5.523965728106273,
          7.057673794439714,
          15.471350974126281,
          35.20429856307621,
          19.696677808834853,
          17.096163150722504,
          16.543939390579638,
          23.738381656622384,
          33.27604657472896,
          21.81901085635334,
          21.869825084599302,
          22.1117998201449,
          8.319695788165424,
          3.381613488411341,
          14.215362442692104,
          25.789406608528008,
          23.27991740686463,
          12.695700694124275,
          18.45753912546675,
          19.174746309634973,
          14.562619083433885,
          14.215362442692104,
          38.45523147580388,
          15.138651108214134,
          23.633374362251303,
          26.262748976418276,
          29.81824256993342,
          33.88568028808198,
          25.72834815840493,
          23.842278939481744,
          19.45198796144032,
          19.665108918316083,
          21.07792698379691,
          17.655797425645098,
          19.381682464691185,
          37.55828058974402,
          30.322428753939732,
          20.133093296942747,
          20.684541936885832,
          22.308941454445293,
          19.725759923200936,
          35.90028415826159,
          23.290888435550304,
          18.94784069619808,
          27.14897632598957,
          21.499914415098534,
          14.980803094668337,
          15.46499677396425,
          30.883569145740612,
          28.588567615094785,
          19.126854370106415,
          17.467109243624378,
          4.832138103419669,
          11.86529091716785,
          5.994264988690563,
          23.872106790135238,
          25.758544017443402,
          19.368944765378615,
          18.555957634452803,
          18.58910550024965,
          22.466019281270402,
          29.835999159589488,
          22.080224004729754,
          19.376448875678378,
          33.96666257180438,
          35.80304762542396,
          22.7037183339816,
          19.81894299634541,
          19.932293679463253,
          26.534810293518046,
          18.33827572865676,
          21.47504639542385,
          24.717980596521073,
          27.344953735247795,
          29.74388009670839,
          27.85874668172723,
          32.30211513411884,
          22.430369133905156,
          10.108960954327799,
          22.649256523301194,
          21.296228939756496,
          20.256041660753873,
          24.84743410367204,
          17.07752910499712,
          21.000395958546147,
          20.998978731179033,
          24.117038870452646,
          19.177219082221118,
          19.750864630385674,
          20.920227483354918,
          24.67911015497882,
          5.623545926817777,
          19.213728182261345,
          19.412059138421036,
          19.134711811388055,
          18.915249675583805,
          13.906809797539301,
          18.08002587640519,
          19.029173646219327,
          19.74593509633809,
          16.004357709615434,
          11.811262006601295,
          12.574347554884428,
          12.503371896552709,
          12.383183400006937,
          11.703841983980945,
          11.91662723317865,
          11.18367554752539,
          11.520756919547885,
          14.187655963423175,
          16.524597395978102,
          15.898755134702986,
          15.717729726717332,
          16.652655864272365,
          16.398373723349362,
          31.333865899561875,
          33.1146630134203,
          31.088202729238493,
          33.91883651932795,
          34.600198999890175,
          20.93546505358822,
          31.143320415940952,
          23.403603725573575,
          32.022249259418224,
          28.741940791571803,
          29.208864941196907,
          5.9394218485634305,
          35.94192578741262,
          34.451116831224226,
          10.876929744617456,
          8.232151046005278,
          5.013437438056034,
          16.422494931847897,
          20.840911669844324,
          18.030392502894443,
          18.993413862426948,
          11.532169975273654,
          34.578371538222314,
          11.939972705176743,
          14.178726415431548,
          17.660161507076435,
          21.722143311104038,
          17.93551534108315,
          21.830261529422003,
          12.39496339099709,
          14.01622495148248,
          15.095240905583987,
          4.863638460422249,
          6.510807087761722,
          6.296471067838717,
          5.479590375205572,
          5.826811586248101,
          4.980187627399172,
          8.870184531552928,
          22.658683433075733,
          22.69008525820593,
          22.830377356764014,
          21.64841522838232,
          13.845733667344602,
          12.848046302494204,
          13.905990007809992,
          30.223412999710842,
          25.679421947509752,
          29.45428246685488,
          31.933353610124517,
          32.399598299201564,
          17.23711848154768,
          15.868934411081502,
          3.0749229598669547,
          5.502368522121576,
          15.016120755880513,
          25.29815949268638,
          13.51814003742416,
          20.246538396087907,
          20.057268423512923,
          12.96855386656729,
          1.4133981765593575,
          20.392492362112517,
          39.387496349271466,
          22.42557778543438,
          41.30720139047916,
          4.150222953923024,
          3.8304416986902328,
          24.021247246270633,
          23.179267392396522,
          21.73208913785183,
          4.743048119298616,
          21.68029702649504,
          21.679044932010054,
          21.942343537569432,
          19.317530638140124,
          21.601845831882653,
          22.970639332138102,
          15.437201039593333,
          15.878260608735323,
          18.162221126395032,
          18.281889183492527,
          17.9648580856736,
          19.1927971889142,
          18.815011194547868,
          16.081314404469236,
          19.73052537424587,
          19.279456083611223,
          23.910959611683296,
          24.821014388873724,
          22.66742401601125,
          24.718026665279236,
          22.78964072446439,
          24.344687156912922,
          23.53447504508262,
          25.852851896932588,
          22.584116934438033,
          24.42799546082195,
          24.05931787265854,
          23.75375059997253,
          25.056381748983814,
          23.728355019948566,
          22.657116024857118,
          24.47460110863511,
          17.37379376007735,
          16.23632494136771,
          17.21042759741096,
          18.96263981716781,
          16.46575739308115,
          16.194612659830515,
          18.955533214031515,
          16.8935452731778,
          15.565535434141871,
          16.549607396377137,
          17.707096374684916,
          16.664827429190535,
          16.050528759167427,
          16.420490569691292,
          16.82908340292271,
          16.376555520375778,
          17.569551449088625,
          5.505396871233472,
          6.324627009658596,
          19.434034541190076,
          21.161651627569338,
          10.33395420311163,
          10.0468505270085,
          19.628815881381005,
          5.082910297196927,
          17.230945642276307,
          6.638161761630591,
          12.043527849960943,
          14.218631101919177,
          5.355177434087309,
          29.873991757143997,
          23.205618260897882,
          29.60274564940404,
          30.048864030373213,
          23.674734523330642,
          30.2074720895527,
          30.111638321259665,
          24.100363216853946,
          22.803804801742604,
          24.481930124524308,
          28.35405120572536,
          14.644426788213977,
          17.610295593029527,
          17.14751095671923,
          23.951786710939242,
          8.718749803539854,
          16.165564144912796,
          34.730059643743424,
          44.57420016656997,
          22.183111356949308,
          45.9092456451536,
          31.112348349566087,
          13.357124972053427,
          13.130246819292033,
          41.93364237578902,
          36.35349519748817,
          16.433823987631932,
          11.832563502872832,
          15.421379081655521,
          20.023285083744465,
          5.142500028294101,
          22.925873030438265,
          23.435191845518442,
          31.810869013554015,
          31.732318132305014,
          31.503020867691873,
          20.913446084822322,
          12.200064286998193,
          25.773792049151695,
          13.119932983260716,
          16.33259389480185,
          20.68544620644089,
          13.151789511615036,
          9.811411782603258,
          13.88633260724132,
          4.5533242317995155,
          29.18083946237797,
          19.063697813257686,
          19.28341153049504,
          10.503347194602945,
          6.892789049241789,
          17.120747422684502,
          19.75621841010717,
          24.369441925704603,
          10.090195714675467,
          8.826874025525804,
          12.818811383335003,
          13.43709720554555,
          15.790852050868637,
          15.55201205955274,
          16.475407146329456,
          25.222319653302844,
          15.913540466018453,
          24.4219930239921,
          22.854263857567442,
          24.76930780622726,
          26.191144076712487,
          13.899524613123079,
          21.77857568626986,
          29.407500037348317,
          25.37944307784449,
          28.838097623831434,
          28.86865918746933,
          37.44012498837456,
          22.682841793144064,
          13.935722477068603,
          16.249477114737257,
          5.216126538850885,
          8.640774589382056,
          9.281933956173114,
          7.2632507075969786,
          12.356618845485963,
          35.0544159891224,
          19.587262051056502,
          27.335178928774166,
          3.951784139825086,
          18.040753529707544,
          21.752024381882908,
          21.804865949398035,
          4.190264372734615,
          4.657740221045246,
          21.336889814787824,
          16.97010860262216,
          33.51619236741214,
          35.753394199467664,
          14.268985169299853,
          12.16967620818891,
          21.415299888727333,
          21.266836560152168,
          9.481131901453509,
          7.739189414804567,
          36.87224824370192,
          17.449440022593617,
          15.032974273301008,
          13.589762491249099,
          13.605339337761052,
          14.09523510262281,
          17.682159672297907,
          14.526782048766131,
          17.521868377821338,
          17.598218896455336,
          15.68192591041191,
          17.984844344047133,
          15.631853381940678,
          29.641502386603474,
          15.664818750813359,
          19.024424971411335,
          14.377937291631477,
          17.564492625487873,
          11.515091263493494,
          22.217713671682052,
          22.721616532140345,
          18.175036981235262,
          13.814138235727041,
          11.363540111846916,
          10.434154314827852,
          5.110504136230859,
          5.015868974143408,
          15.116297443522598,
          14.205891053135085,
          6.827354360467209,
          4.964061821264274,
          6.737010933052859,
          8.208189718518014,
          5.486285593128926,
          3.962783773521173,
          6.356020558176529,
          5.4455616837478376,
          4.748118992215374,
          5.676526625585194,
          22.30738546745772,
          19.628255331894646,
          4.916447886280902,
          39.900890514079926,
          18.09188675578363,
          17.209357596769955,
          9.63932330169255,
          18.018596667256222,
          18.60089096059006,
          18.340089485864258,
          16.36012940579845,
          28.10064235417701,
          28.28170680403471,
          32.105096397160736,
          33.665022590688345,
          32.20028820833853,
          19.24961731431654,
          23.91136833689406,
          22.470185912589034,
          21.3577268557097,
          22.35195448537733,
          28.01011138792457,
          23.972567172321703,
          22.63554412021797,
          19.536295414907375,
          19.04569592182013,
          25.347670753782026,
          16.57405423077369,
          24.794157759798424,
          24.083123520237592,
          3.7830957201075477,
          5.4646467904200335,
          4.516525076259892,
          6.350287428834207,
          11.944702869086635,
          5.733960494198002,
          7.130731072162045,
          20.577180762918037,
          4.61787445145566,
          22.10838822353402,
          8.734092515058288,
          16.456100825403436,
          15.411205960587205,
          24.657872246584844,
          23.929169389157675,
          16.386375297002896,
          24.59327692124154,
          17.277281515838737,
          11.00473816557232,
          6.557715228218817,
          24.01624315506544,
          16.190743429600833,
          13.351283385198409,
          14.39494693888178,
          11.202954659357488,
          13.897963286655186,
          22.421029113566533,
          24.502405108853072,
          22.236353504365166,
          22.935265315443363,
          21.84548120927315,
          23.938825237280103,
          21.224623586067224,
          22.693580348529768,
          21.01777971289453,
          23.969225572574327,
          21.781466243597034,
          23.059714466802834,
          20.36405214940248,
          23.261322326940746,
          20.03216916745218,
          23.498954773173068,
          26.190882979161234,
          13.919762723869878,
          13.302117179699644,
          10.64429135893812,
          8.235611674051803,
          24.258614269254906,
          24.72480237405757,
          22.974570612630092,
          24.877776348887362,
          23.168113557883544,
          24.00167654994105,
          22.3648668008077,
          24.319539143511975,
          22.38483694563696,
          23.52252221618673,
          22.624782298675466,
          9.604138800037871,
          14.63378065380544,
          15.737662679744027,
          15.002982229394513,
          14.019764718656953,
          14.516850808390743,
          12.001731227528522,
          15.503245492497465,
          14.943472204777024,
          15.60407576414145,
          18.07557946942494,
          19.134800777531545,
          17.687551599695436,
          19.33458518063949,
          30.151929070322968,
          33.04135620447669,
          33.644494917916724,
          33.39320826035015,
          33.130535769514076,
          30.239611687439066,
          33.2322593015476,
          33.14239831327872,
          33.63382917709331,
          32.46022320307114,
          33.4711721257521,
          33.28249991535748,
          31.05484507719724,
          30.96362589742966,
          32.35252414501381,
          33.54499421347736,
          33.79473215475907,
          33.44734860931925,
          31.89763198194814,
          32.59530496884161,
          30.344893469651527,
          33.300246308043576,
          28.421762158489,
          30.113979139003664,
          31.62637597704408,
          32.25442290686063,
          32.44806132978754,
          45.293139342041435,
          17.168311352749736
         ],
         "xaxis": "x",
         "yaxis": "y"
        }
       ],
       "layout": {
        "barmode": "relative",
        "legend": {
         "tracegroupgap": 0
        },
        "template": {
         "data": {
          "bar": [
           {
            "error_x": {
             "color": "#2a3f5f"
            },
            "error_y": {
             "color": "#2a3f5f"
            },
            "marker": {
             "line": {
              "color": "#E5ECF6",
              "width": 0.5
             },
             "pattern": {
              "fillmode": "overlay",
              "size": 10,
              "solidity": 0.2
             }
            },
            "type": "bar"
           }
          ],
          "barpolar": [
           {
            "marker": {
             "line": {
              "color": "#E5ECF6",
              "width": 0.5
             },
             "pattern": {
              "fillmode": "overlay",
              "size": 10,
              "solidity": 0.2
             }
            },
            "type": "barpolar"
           }
          ],
          "carpet": [
           {
            "aaxis": {
             "endlinecolor": "#2a3f5f",
             "gridcolor": "white",
             "linecolor": "white",
             "minorgridcolor": "white",
             "startlinecolor": "#2a3f5f"
            },
            "baxis": {
             "endlinecolor": "#2a3f5f",
             "gridcolor": "white",
             "linecolor": "white",
             "minorgridcolor": "white",
             "startlinecolor": "#2a3f5f"
            },
            "type": "carpet"
           }
          ],
          "choropleth": [
           {
            "colorbar": {
             "outlinewidth": 0,
             "ticks": ""
            },
            "type": "choropleth"
           }
          ],
          "contour": [
           {
            "colorbar": {
             "outlinewidth": 0,
             "ticks": ""
            },
            "colorscale": [
             [
              0,
              "#0d0887"
             ],
             [
              0.1111111111111111,
              "#46039f"
             ],
             [
              0.2222222222222222,
              "#7201a8"
             ],
             [
              0.3333333333333333,
              "#9c179e"
             ],
             [
              0.4444444444444444,
              "#bd3786"
             ],
             [
              0.5555555555555556,
              "#d8576b"
             ],
             [
              0.6666666666666666,
              "#ed7953"
             ],
             [
              0.7777777777777778,
              "#fb9f3a"
             ],
             [
              0.8888888888888888,
              "#fdca26"
             ],
             [
              1,
              "#f0f921"
             ]
            ],
            "type": "contour"
           }
          ],
          "contourcarpet": [
           {
            "colorbar": {
             "outlinewidth": 0,
             "ticks": ""
            },
            "type": "contourcarpet"
           }
          ],
          "heatmap": [
           {
            "colorbar": {
             "outlinewidth": 0,
             "ticks": ""
            },
            "colorscale": [
             [
              0,
              "#0d0887"
             ],
             [
              0.1111111111111111,
              "#46039f"
             ],
             [
              0.2222222222222222,
              "#7201a8"
             ],
             [
              0.3333333333333333,
              "#9c179e"
             ],
             [
              0.4444444444444444,
              "#bd3786"
             ],
             [
              0.5555555555555556,
              "#d8576b"
             ],
             [
              0.6666666666666666,
              "#ed7953"
             ],
             [
              0.7777777777777778,
              "#fb9f3a"
             ],
             [
              0.8888888888888888,
              "#fdca26"
             ],
             [
              1,
              "#f0f921"
             ]
            ],
            "type": "heatmap"
           }
          ],
          "heatmapgl": [
           {
            "colorbar": {
             "outlinewidth": 0,
             "ticks": ""
            },
            "colorscale": [
             [
              0,
              "#0d0887"
             ],
             [
              0.1111111111111111,
              "#46039f"
             ],
             [
              0.2222222222222222,
              "#7201a8"
             ],
             [
              0.3333333333333333,
              "#9c179e"
             ],
             [
              0.4444444444444444,
              "#bd3786"
             ],
             [
              0.5555555555555556,
              "#d8576b"
             ],
             [
              0.6666666666666666,
              "#ed7953"
             ],
             [
              0.7777777777777778,
              "#fb9f3a"
             ],
             [
              0.8888888888888888,
              "#fdca26"
             ],
             [
              1,
              "#f0f921"
             ]
            ],
            "type": "heatmapgl"
           }
          ],
          "histogram": [
           {
            "marker": {
             "pattern": {
              "fillmode": "overlay",
              "size": 10,
              "solidity": 0.2
             }
            },
            "type": "histogram"
           }
          ],
          "histogram2d": [
           {
            "colorbar": {
             "outlinewidth": 0,
             "ticks": ""
            },
            "colorscale": [
             [
              0,
              "#0d0887"
             ],
             [
              0.1111111111111111,
              "#46039f"
             ],
             [
              0.2222222222222222,
              "#7201a8"
             ],
             [
              0.3333333333333333,
              "#9c179e"
             ],
             [
              0.4444444444444444,
              "#bd3786"
             ],
             [
              0.5555555555555556,
              "#d8576b"
             ],
             [
              0.6666666666666666,
              "#ed7953"
             ],
             [
              0.7777777777777778,
              "#fb9f3a"
             ],
             [
              0.8888888888888888,
              "#fdca26"
             ],
             [
              1,
              "#f0f921"
             ]
            ],
            "type": "histogram2d"
           }
          ],
          "histogram2dcontour": [
           {
            "colorbar": {
             "outlinewidth": 0,
             "ticks": ""
            },
            "colorscale": [
             [
              0,
              "#0d0887"
             ],
             [
              0.1111111111111111,
              "#46039f"
             ],
             [
              0.2222222222222222,
              "#7201a8"
             ],
             [
              0.3333333333333333,
              "#9c179e"
             ],
             [
              0.4444444444444444,
              "#bd3786"
             ],
             [
              0.5555555555555556,
              "#d8576b"
             ],
             [
              0.6666666666666666,
              "#ed7953"
             ],
             [
              0.7777777777777778,
              "#fb9f3a"
             ],
             [
              0.8888888888888888,
              "#fdca26"
             ],
             [
              1,
              "#f0f921"
             ]
            ],
            "type": "histogram2dcontour"
           }
          ],
          "mesh3d": [
           {
            "colorbar": {
             "outlinewidth": 0,
             "ticks": ""
            },
            "type": "mesh3d"
           }
          ],
          "parcoords": [
           {
            "line": {
             "colorbar": {
              "outlinewidth": 0,
              "ticks": ""
             }
            },
            "type": "parcoords"
           }
          ],
          "pie": [
           {
            "automargin": true,
            "type": "pie"
           }
          ],
          "scatter": [
           {
            "fillpattern": {
             "fillmode": "overlay",
             "size": 10,
             "solidity": 0.2
            },
            "type": "scatter"
           }
          ],
          "scatter3d": [
           {
            "line": {
             "colorbar": {
              "outlinewidth": 0,
              "ticks": ""
             }
            },
            "marker": {
             "colorbar": {
              "outlinewidth": 0,
              "ticks": ""
             }
            },
            "type": "scatter3d"
           }
          ],
          "scattercarpet": [
           {
            "marker": {
             "colorbar": {
              "outlinewidth": 0,
              "ticks": ""
             }
            },
            "type": "scattercarpet"
           }
          ],
          "scattergeo": [
           {
            "marker": {
             "colorbar": {
              "outlinewidth": 0,
              "ticks": ""
             }
            },
            "type": "scattergeo"
           }
          ],
          "scattergl": [
           {
            "marker": {
             "colorbar": {
              "outlinewidth": 0,
              "ticks": ""
             }
            },
            "type": "scattergl"
           }
          ],
          "scattermapbox": [
           {
            "marker": {
             "colorbar": {
              "outlinewidth": 0,
              "ticks": ""
             }
            },
            "type": "scattermapbox"
           }
          ],
          "scatterpolar": [
           {
            "marker": {
             "colorbar": {
              "outlinewidth": 0,
              "ticks": ""
             }
            },
            "type": "scatterpolar"
           }
          ],
          "scatterpolargl": [
           {
            "marker": {
             "colorbar": {
              "outlinewidth": 0,
              "ticks": ""
             }
            },
            "type": "scatterpolargl"
           }
          ],
          "scatterternary": [
           {
            "marker": {
             "colorbar": {
              "outlinewidth": 0,
              "ticks": ""
             }
            },
            "type": "scatterternary"
           }
          ],
          "surface": [
           {
            "colorbar": {
             "outlinewidth": 0,
             "ticks": ""
            },
            "colorscale": [
             [
              0,
              "#0d0887"
             ],
             [
              0.1111111111111111,
              "#46039f"
             ],
             [
              0.2222222222222222,
              "#7201a8"
             ],
             [
              0.3333333333333333,
              "#9c179e"
             ],
             [
              0.4444444444444444,
              "#bd3786"
             ],
             [
              0.5555555555555556,
              "#d8576b"
             ],
             [
              0.6666666666666666,
              "#ed7953"
             ],
             [
              0.7777777777777778,
              "#fb9f3a"
             ],
             [
              0.8888888888888888,
              "#fdca26"
             ],
             [
              1,
              "#f0f921"
             ]
            ],
            "type": "surface"
           }
          ],
          "table": [
           {
            "cells": {
             "fill": {
              "color": "#EBF0F8"
             },
             "line": {
              "color": "white"
             }
            },
            "header": {
             "fill": {
              "color": "#C8D4E3"
             },
             "line": {
              "color": "white"
             }
            },
            "type": "table"
           }
          ]
         },
         "layout": {
          "annotationdefaults": {
           "arrowcolor": "#2a3f5f",
           "arrowhead": 0,
           "arrowwidth": 1
          },
          "autotypenumbers": "strict",
          "coloraxis": {
           "colorbar": {
            "outlinewidth": 0,
            "ticks": ""
           }
          },
          "colorscale": {
           "diverging": [
            [
             0,
             "#8e0152"
            ],
            [
             0.1,
             "#c51b7d"
            ],
            [
             0.2,
             "#de77ae"
            ],
            [
             0.3,
             "#f1b6da"
            ],
            [
             0.4,
             "#fde0ef"
            ],
            [
             0.5,
             "#f7f7f7"
            ],
            [
             0.6,
             "#e6f5d0"
            ],
            [
             0.7,
             "#b8e186"
            ],
            [
             0.8,
             "#7fbc41"
            ],
            [
             0.9,
             "#4d9221"
            ],
            [
             1,
             "#276419"
            ]
           ],
           "sequential": [
            [
             0,
             "#0d0887"
            ],
            [
             0.1111111111111111,
             "#46039f"
            ],
            [
             0.2222222222222222,
             "#7201a8"
            ],
            [
             0.3333333333333333,
             "#9c179e"
            ],
            [
             0.4444444444444444,
             "#bd3786"
            ],
            [
             0.5555555555555556,
             "#d8576b"
            ],
            [
             0.6666666666666666,
             "#ed7953"
            ],
            [
             0.7777777777777778,
             "#fb9f3a"
            ],
            [
             0.8888888888888888,
             "#fdca26"
            ],
            [
             1,
             "#f0f921"
            ]
           ],
           "sequentialminus": [
            [
             0,
             "#0d0887"
            ],
            [
             0.1111111111111111,
             "#46039f"
            ],
            [
             0.2222222222222222,
             "#7201a8"
            ],
            [
             0.3333333333333333,
             "#9c179e"
            ],
            [
             0.4444444444444444,
             "#bd3786"
            ],
            [
             0.5555555555555556,
             "#d8576b"
            ],
            [
             0.6666666666666666,
             "#ed7953"
            ],
            [
             0.7777777777777778,
             "#fb9f3a"
            ],
            [
             0.8888888888888888,
             "#fdca26"
            ],
            [
             1,
             "#f0f921"
            ]
           ]
          },
          "colorway": [
           "#636efa",
           "#EF553B",
           "#00cc96",
           "#ab63fa",
           "#FFA15A",
           "#19d3f3",
           "#FF6692",
           "#B6E880",
           "#FF97FF",
           "#FECB52"
          ],
          "font": {
           "color": "#2a3f5f"
          },
          "geo": {
           "bgcolor": "white",
           "lakecolor": "white",
           "landcolor": "#E5ECF6",
           "showlakes": true,
           "showland": true,
           "subunitcolor": "white"
          },
          "hoverlabel": {
           "align": "left"
          },
          "hovermode": "closest",
          "mapbox": {
           "style": "light"
          },
          "paper_bgcolor": "white",
          "plot_bgcolor": "#E5ECF6",
          "polar": {
           "angularaxis": {
            "gridcolor": "white",
            "linecolor": "white",
            "ticks": ""
           },
           "bgcolor": "#E5ECF6",
           "radialaxis": {
            "gridcolor": "white",
            "linecolor": "white",
            "ticks": ""
           }
          },
          "scene": {
           "xaxis": {
            "backgroundcolor": "#E5ECF6",
            "gridcolor": "white",
            "gridwidth": 2,
            "linecolor": "white",
            "showbackground": true,
            "ticks": "",
            "zerolinecolor": "white"
           },
           "yaxis": {
            "backgroundcolor": "#E5ECF6",
            "gridcolor": "white",
            "gridwidth": 2,
            "linecolor": "white",
            "showbackground": true,
            "ticks": "",
            "zerolinecolor": "white"
           },
           "zaxis": {
            "backgroundcolor": "#E5ECF6",
            "gridcolor": "white",
            "gridwidth": 2,
            "linecolor": "white",
            "showbackground": true,
            "ticks": "",
            "zerolinecolor": "white"
           }
          },
          "shapedefaults": {
           "line": {
            "color": "#2a3f5f"
           }
          },
          "ternary": {
           "aaxis": {
            "gridcolor": "white",
            "linecolor": "white",
            "ticks": ""
           },
           "baxis": {
            "gridcolor": "white",
            "linecolor": "white",
            "ticks": ""
           },
           "bgcolor": "#E5ECF6",
           "caxis": {
            "gridcolor": "white",
            "linecolor": "white",
            "ticks": ""
           }
          },
          "title": {
           "x": 0.05
          },
          "xaxis": {
           "automargin": true,
           "gridcolor": "white",
           "linecolor": "white",
           "ticks": "",
           "title": {
            "standoff": 15
           },
           "zerolinecolor": "white",
           "zerolinewidth": 2
          },
          "yaxis": {
           "automargin": true,
           "gridcolor": "white",
           "linecolor": "white",
           "ticks": "",
           "title": {
            "standoff": 15
           },
           "zerolinecolor": "white",
           "zerolinewidth": 2
          }
         }
        },
        "title": {
         "text": "Distribution des scores"
        },
        "xaxis": {
         "anchor": "y",
         "domain": [
          0,
          1
         ],
         "title": {
          "text": "score"
         }
        },
        "yaxis": {
         "anchor": "x",
         "domain": [
          0,
          1
         ],
         "title": {
          "text": "count"
         }
        }
       }
      }
     },
     "metadata": {},
     "output_type": "display_data"
    }
   ],
   "source": [
    "# distributions des scores\n",
    "fig = px.histogram(df, x=\"score\", nbins=50, title=\"Distribution des scores\")\n",
    "fig.show()\n",
    "\n"
   ]
  },
  {
   "cell_type": "code",
   "execution_count": 20,
   "metadata": {},
   "outputs": [
    {
     "data": {
      "application/vnd.plotly.v1+json": {
       "config": {
        "plotlyServerURL": "https://plot.ly"
       },
       "data": [
        {
         "alignmentgroup": "True",
         "bingroup": "x",
         "hovertemplate": "type=%{x}<br>count=%{y}<extra></extra>",
         "legendgroup": "",
         "marker": {
          "color": "#636efa",
          "pattern": {
           "shape": ""
          }
         },
         "name": "",
         "nbinsx": 50,
         "offsetgroup": "",
         "orientation": "v",
         "showlegend": false,
         "type": "histogram",
         "x": [
          "💬 chat models (RLHF, DPO, IFT, ...)",
          "🟢 pretrained",
          "🟢 pretrained",
          "💬 chat models (RLHF, DPO, IFT, ...)",
          "💬 chat models (RLHF, DPO, IFT, ...)",
          "🟢 pretrained",
          "💬 chat models (RLHF, DPO, IFT, ...)",
          "🟢 pretrained",
          "🟢 pretrained",
          "💬 chat models (RLHF, DPO, IFT, ...)",
          "💬 chat models (RLHF, DPO, IFT, ...)",
          "🟢 pretrained",
          "🟢 pretrained",
          "💬 chat models (RLHF, DPO, IFT, ...)",
          "🟢 pretrained",
          "🟢 pretrained",
          "💬 chat models (RLHF, DPO, IFT, ...)",
          "🟢 pretrained",
          "🟢 pretrained",
          "🔶 fine-tuned on domain-specific datasets",
          "🔶 fine-tuned on domain-specific datasets",
          "💬 chat models (RLHF, DPO, IFT, ...)",
          "🔶 fine-tuned on domain-specific datasets",
          "🔶 fine-tuned on domain-specific datasets",
          "🤝 base merges and moerges",
          "🤝 base merges and moerges",
          "🔶 fine-tuned on domain-specific datasets",
          "🔶 fine-tuned on domain-specific datasets",
          "💬 chat models (RLHF, DPO, IFT, ...)",
          "🔶 fine-tuned on domain-specific datasets",
          "💬 chat models (RLHF, DPO, IFT, ...)",
          "💬 chat models (RLHF, DPO, IFT, ...)",
          "🤝 base merges and moerges",
          "💬 chat models (RLHF, DPO, IFT, ...)",
          "🔶 fine-tuned on domain-specific datasets",
          "🔶 fine-tuned on domain-specific datasets",
          "🔶 fine-tuned on domain-specific datasets",
          "🔶 fine-tuned on domain-specific datasets",
          "🟢 pretrained",
          "🤝 base merges and moerges",
          "🔶 fine-tuned on domain-specific datasets",
          "🔶 fine-tuned on domain-specific datasets",
          "🔶 fine-tuned on domain-specific datasets",
          "🤝 base merges and moerges",
          "🤝 base merges and moerges",
          "🤝 base merges and moerges",
          "🔶 fine-tuned on domain-specific datasets",
          "💬 chat models (RLHF, DPO, IFT, ...)",
          "🤝 base merges and moerges",
          "💬 chat models (RLHF, DPO, IFT, ...)",
          "💬 chat models (RLHF, DPO, IFT, ...)",
          "💬 chat models (RLHF, DPO, IFT, ...)",
          "💬 chat models (RLHF, DPO, IFT, ...)",
          "🔶 fine-tuned on domain-specific datasets",
          "🔶 fine-tuned on domain-specific datasets",
          "🔶 fine-tuned on domain-specific datasets",
          "🔶 fine-tuned on domain-specific datasets",
          "💬 chat models (RLHF, DPO, IFT, ...)",
          "🔶 fine-tuned on domain-specific datasets",
          "🔶 fine-tuned on domain-specific datasets",
          "🔶 fine-tuned on domain-specific datasets",
          "🔶 fine-tuned on domain-specific datasets",
          "🔶 fine-tuned on domain-specific datasets",
          "🔶 fine-tuned on domain-specific datasets",
          "🔶 fine-tuned on domain-specific datasets",
          "🔶 fine-tuned on domain-specific datasets",
          "🔶 fine-tuned on domain-specific datasets",
          "🔶 fine-tuned on domain-specific datasets",
          "🟢 pretrained",
          "🟢 pretrained",
          "🟩 continuously pretrained",
          "💬 chat models (RLHF, DPO, IFT, ...)",
          "🔶 fine-tuned on domain-specific datasets",
          "🔶 fine-tuned on domain-specific datasets",
          "🔶 fine-tuned on domain-specific datasets",
          "💬 chat models (RLHF, DPO, IFT, ...)",
          "🟢 pretrained",
          "🟢 pretrained",
          "🔶 fine-tuned on domain-specific datasets",
          "🤝 base merges and moerges",
          "🤝 base merges and moerges",
          "🤝 base merges and moerges",
          "💬 chat models (RLHF, DPO, IFT, ...)",
          "💬 chat models (RLHF, DPO, IFT, ...)",
          "💬 chat models (RLHF, DPO, IFT, ...)",
          "🤝 base merges and moerges",
          "🔶 fine-tuned on domain-specific datasets",
          "🤝 base merges and moerges",
          "🤝 base merges and moerges",
          "🔶 fine-tuned on domain-specific datasets",
          "🤝 base merges and moerges",
          "🔶 fine-tuned on domain-specific datasets",
          "💬 chat models (RLHF, DPO, IFT, ...)",
          "🟩 continuously pretrained",
          "💬 chat models (RLHF, DPO, IFT, ...)",
          "💬 chat models (RLHF, DPO, IFT, ...)",
          "🤝 base merges and moerges",
          "🔶 fine-tuned on domain-specific datasets",
          "🔶 fine-tuned on domain-specific datasets",
          "🔶 fine-tuned on domain-specific datasets",
          "🔶 fine-tuned on domain-specific datasets",
          "🤝 base merges and moerges",
          "🤝 base merges and moerges",
          "🤝 base merges and moerges",
          "💬 chat models (RLHF, DPO, IFT, ...)",
          "💬 chat models (RLHF, DPO, IFT, ...)",
          "💬 chat models (RLHF, DPO, IFT, ...)",
          "💬 chat models (RLHF, DPO, IFT, ...)",
          "💬 chat models (RLHF, DPO, IFT, ...)",
          "💬 chat models (RLHF, DPO, IFT, ...)",
          "💬 chat models (RLHF, DPO, IFT, ...)",
          "💬 chat models (RLHF, DPO, IFT, ...)",
          "💬 chat models (RLHF, DPO, IFT, ...)",
          "💬 chat models (RLHF, DPO, IFT, ...)",
          "💬 chat models (RLHF, DPO, IFT, ...)",
          "💬 chat models (RLHF, DPO, IFT, ...)",
          "💬 chat models (RLHF, DPO, IFT, ...)",
          "💬 chat models (RLHF, DPO, IFT, ...)",
          "🤝 base merges and moerges",
          "🤝 base merges and moerges",
          "💬 chat models (RLHF, DPO, IFT, ...)",
          "🤝 base merges and moerges",
          "🤝 base merges and moerges",
          "🔶 fine-tuned on domain-specific datasets",
          "🟢 pretrained",
          "💬 chat models (RLHF, DPO, IFT, ...)",
          "🤝 base merges and moerges",
          "🤝 base merges and moerges",
          "🤝 base merges and moerges",
          "🔶 fine-tuned on domain-specific datasets",
          "🤝 base merges and moerges",
          "🔶 fine-tuned on domain-specific datasets",
          "🤝 base merges and moerges",
          "💬 chat models (RLHF, DPO, IFT, ...)",
          "🤝 base merges and moerges",
          "🤝 base merges and moerges",
          "💬 chat models (RLHF, DPO, IFT, ...)",
          "💬 chat models (RLHF, DPO, IFT, ...)",
          "🔶 fine-tuned on domain-specific datasets",
          "🔶 fine-tuned on domain-specific datasets",
          "🔶 fine-tuned on domain-specific datasets",
          "🔶 fine-tuned on domain-specific datasets",
          "🔶 fine-tuned on domain-specific datasets",
          "🔶 fine-tuned on domain-specific datasets",
          "🤝 base merges and moerges",
          "🔶 fine-tuned on domain-specific datasets",
          "🔶 fine-tuned on domain-specific datasets",
          "🔶 fine-tuned on domain-specific datasets",
          "🔶 fine-tuned on domain-specific datasets",
          "🔶 fine-tuned on domain-specific datasets",
          "🔶 fine-tuned on domain-specific datasets",
          "🟢 pretrained",
          "💬 chat models (RLHF, DPO, IFT, ...)",
          "🤝 base merges and moerges",
          "🤝 base merges and moerges",
          "🤝 base merges and moerges",
          "🤝 base merges and moerges",
          "🤝 base merges and moerges",
          "🤝 base merges and moerges",
          "🤝 base merges and moerges",
          "🤝 base merges and moerges",
          "🤝 base merges and moerges",
          "🤝 base merges and moerges",
          "🤝 base merges and moerges",
          "🤝 base merges and moerges",
          "🔶 fine-tuned on domain-specific datasets",
          "🔶 fine-tuned on domain-specific datasets",
          "🔶 fine-tuned on domain-specific datasets",
          "🔶 fine-tuned on domain-specific datasets",
          "🔶 fine-tuned on domain-specific datasets",
          "🔶 fine-tuned on domain-specific datasets",
          "🔶 fine-tuned on domain-specific datasets",
          "🔶 fine-tuned on domain-specific datasets",
          "🔶 fine-tuned on domain-specific datasets",
          "🔶 fine-tuned on domain-specific datasets",
          "🔶 fine-tuned on domain-specific datasets",
          "🔶 fine-tuned on domain-specific datasets",
          "🤝 base merges and moerges",
          "🤝 base merges and moerges",
          "🤝 base merges and moerges",
          "🤝 base merges and moerges",
          "🤝 base merges and moerges",
          "🤝 base merges and moerges",
          "🤝 base merges and moerges",
          "🤝 base merges and moerges",
          "🤝 base merges and moerges",
          "🤝 base merges and moerges",
          "🤝 base merges and moerges",
          "🤝 base merges and moerges",
          "🤝 base merges and moerges",
          "🤝 base merges and moerges",
          "🤝 base merges and moerges",
          "🤝 base merges and moerges",
          "🤝 base merges and moerges",
          "🤝 base merges and moerges",
          "🤝 base merges and moerges",
          "🤝 base merges and moerges",
          "🤝 base merges and moerges",
          "🤝 base merges and moerges",
          "🟢 pretrained",
          "🟢 pretrained",
          "🟢 pretrained",
          "🟢 pretrained",
          "🟢 pretrained",
          "🟢 pretrained",
          "🟢 pretrained",
          "🟢 pretrained",
          "🟢 pretrained",
          "🟢 pretrained",
          "💬 chat models (RLHF, DPO, IFT, ...)",
          "💬 chat models (RLHF, DPO, IFT, ...)",
          "🔶 fine-tuned on domain-specific datasets",
          "🔶 fine-tuned on domain-specific datasets",
          "🔶 fine-tuned on domain-specific datasets",
          "🔶 fine-tuned on domain-specific datasets",
          "🔶 fine-tuned on domain-specific datasets",
          "🔶 fine-tuned on domain-specific datasets",
          "🤝 base merges and moerges",
          "🔶 fine-tuned on domain-specific datasets",
          "🔶 fine-tuned on domain-specific datasets",
          "🔶 fine-tuned on domain-specific datasets",
          "🔶 fine-tuned on domain-specific datasets",
          "🔶 fine-tuned on domain-specific datasets",
          "🔶 fine-tuned on domain-specific datasets",
          "🔶 fine-tuned on domain-specific datasets",
          "💬 chat models (RLHF, DPO, IFT, ...)",
          "💬 chat models (RLHF, DPO, IFT, ...)",
          "🔶 fine-tuned on domain-specific datasets",
          "🔶 fine-tuned on domain-specific datasets",
          "🔶 fine-tuned on domain-specific datasets",
          "🔶 fine-tuned on domain-specific datasets",
          "🔶 fine-tuned on domain-specific datasets",
          "🔶 fine-tuned on domain-specific datasets",
          "🔶 fine-tuned on domain-specific datasets",
          "🔶 fine-tuned on domain-specific datasets",
          "🔶 fine-tuned on domain-specific datasets",
          "💬 chat models (RLHF, DPO, IFT, ...)",
          "🔶 fine-tuned on domain-specific datasets",
          "🔶 fine-tuned on domain-specific datasets",
          "🔶 fine-tuned on domain-specific datasets",
          "🔶 fine-tuned on domain-specific datasets",
          "🔶 fine-tuned on domain-specific datasets",
          "🔶 fine-tuned on domain-specific datasets",
          "🔶 fine-tuned on domain-specific datasets",
          "🔶 fine-tuned on domain-specific datasets",
          "🔶 fine-tuned on domain-specific datasets",
          "💬 chat models (RLHF, DPO, IFT, ...)",
          "🔶 fine-tuned on domain-specific datasets",
          "💬 chat models (RLHF, DPO, IFT, ...)",
          "🔶 fine-tuned on domain-specific datasets",
          "🔶 fine-tuned on domain-specific datasets",
          "💬 chat models (RLHF, DPO, IFT, ...)",
          "🔶 fine-tuned on domain-specific datasets",
          "🔶 fine-tuned on domain-specific datasets",
          "💬 chat models (RLHF, DPO, IFT, ...)",
          "🔶 fine-tuned on domain-specific datasets",
          "🔶 fine-tuned on domain-specific datasets",
          "🔶 fine-tuned on domain-specific datasets",
          "🔶 fine-tuned on domain-specific datasets",
          "🔶 fine-tuned on domain-specific datasets",
          "🔶 fine-tuned on domain-specific datasets",
          "🔶 fine-tuned on domain-specific datasets",
          "🤝 base merges and moerges",
          "🔶 fine-tuned on domain-specific datasets",
          "🔶 fine-tuned on domain-specific datasets",
          "🔶 fine-tuned on domain-specific datasets",
          "🔶 fine-tuned on domain-specific datasets",
          "🤝 base merges and moerges",
          "💬 chat models (RLHF, DPO, IFT, ...)",
          "💬 chat models (RLHF, DPO, IFT, ...)",
          "🟩 continuously pretrained",
          "🟩 continuously pretrained",
          "💬 chat models (RLHF, DPO, IFT, ...)",
          "💬 chat models (RLHF, DPO, IFT, ...)",
          "🔶 fine-tuned on domain-specific datasets",
          "🔶 fine-tuned on domain-specific datasets",
          "🔶 fine-tuned on domain-specific datasets",
          "🤝 base merges and moerges",
          "🤝 base merges and moerges",
          "🔶 fine-tuned on domain-specific datasets",
          "🔶 fine-tuned on domain-specific datasets",
          "🔶 fine-tuned on domain-specific datasets",
          "🔶 fine-tuned on domain-specific datasets",
          "💬 chat models (RLHF, DPO, IFT, ...)",
          "💬 chat models (RLHF, DPO, IFT, ...)",
          "💬 chat models (RLHF, DPO, IFT, ...)",
          "🔶 fine-tuned on domain-specific datasets",
          "💬 chat models (RLHF, DPO, IFT, ...)",
          "🔶 fine-tuned on domain-specific datasets",
          "🟩 continuously pretrained",
          "💬 chat models (RLHF, DPO, IFT, ...)",
          "💬 chat models (RLHF, DPO, IFT, ...)",
          "🔶 fine-tuned on domain-specific datasets",
          "🔶 fine-tuned on domain-specific datasets",
          "🔶 fine-tuned on domain-specific datasets",
          "🔶 fine-tuned on domain-specific datasets",
          "🔶 fine-tuned on domain-specific datasets",
          "💬 chat models (RLHF, DPO, IFT, ...)",
          "🔶 fine-tuned on domain-specific datasets",
          "💬 chat models (RLHF, DPO, IFT, ...)",
          "🔶 fine-tuned on domain-specific datasets",
          "🔶 fine-tuned on domain-specific datasets",
          "🔶 fine-tuned on domain-specific datasets",
          "🤝 base merges and moerges",
          "🤝 base merges and moerges",
          "💬 chat models (RLHF, DPO, IFT, ...)",
          "💬 chat models (RLHF, DPO, IFT, ...)",
          "💬 chat models (RLHF, DPO, IFT, ...)",
          "💬 chat models (RLHF, DPO, IFT, ...)",
          "🟢 pretrained",
          "💬 chat models (RLHF, DPO, IFT, ...)",
          "🟢 pretrained",
          "💬 chat models (RLHF, DPO, IFT, ...)",
          "🟢 pretrained",
          "💬 chat models (RLHF, DPO, IFT, ...)",
          "🟢 pretrained",
          "💬 chat models (RLHF, DPO, IFT, ...)",
          "🟢 pretrained",
          "💬 chat models (RLHF, DPO, IFT, ...)",
          "🔶 fine-tuned on domain-specific datasets",
          "🟢 pretrained",
          "🔶 fine-tuned on domain-specific datasets",
          "💬 chat models (RLHF, DPO, IFT, ...)",
          "💬 chat models (RLHF, DPO, IFT, ...)",
          "💬 chat models (RLHF, DPO, IFT, ...)",
          "💬 chat models (RLHF, DPO, IFT, ...)",
          "🔶 fine-tuned on domain-specific datasets",
          "🔶 fine-tuned on domain-specific datasets",
          "🔶 fine-tuned on domain-specific datasets",
          "🔶 fine-tuned on domain-specific datasets",
          "🔶 fine-tuned on domain-specific datasets",
          "🔶 fine-tuned on domain-specific datasets",
          "🟢 pretrained",
          "💬 chat models (RLHF, DPO, IFT, ...)",
          "🔶 fine-tuned on domain-specific datasets",
          "🔶 fine-tuned on domain-specific datasets",
          "🔶 fine-tuned on domain-specific datasets",
          "🔶 fine-tuned on domain-specific datasets",
          "🔶 fine-tuned on domain-specific datasets",
          "🤝 base merges and moerges",
          "🤝 base merges and moerges",
          "🤝 base merges and moerges",
          "🤝 base merges and moerges",
          "🤝 base merges and moerges",
          "🤝 base merges and moerges",
          "💬 chat models (RLHF, DPO, IFT, ...)",
          "🔶 fine-tuned on domain-specific datasets",
          "🔶 fine-tuned on domain-specific datasets",
          "🔶 fine-tuned on domain-specific datasets",
          "💬 chat models (RLHF, DPO, IFT, ...)",
          "💬 chat models (RLHF, DPO, IFT, ...)",
          "🔶 fine-tuned on domain-specific datasets",
          "🔶 fine-tuned on domain-specific datasets",
          "🔶 fine-tuned on domain-specific datasets",
          "🔶 fine-tuned on domain-specific datasets",
          "🔶 fine-tuned on domain-specific datasets",
          "🔶 fine-tuned on domain-specific datasets",
          "🔶 fine-tuned on domain-specific datasets",
          "🔶 fine-tuned on domain-specific datasets",
          "🔶 fine-tuned on domain-specific datasets",
          "🔶 fine-tuned on domain-specific datasets",
          "🔶 fine-tuned on domain-specific datasets",
          "🔶 fine-tuned on domain-specific datasets",
          "🔶 fine-tuned on domain-specific datasets",
          "🔶 fine-tuned on domain-specific datasets",
          "🔶 fine-tuned on domain-specific datasets",
          "🔶 fine-tuned on domain-specific datasets",
          "🤝 base merges and moerges",
          "🔶 fine-tuned on domain-specific datasets",
          "🔶 fine-tuned on domain-specific datasets",
          "🤝 base merges and moerges",
          "💬 chat models (RLHF, DPO, IFT, ...)",
          "🤝 base merges and moerges",
          "🤝 base merges and moerges",
          "🤝 base merges and moerges",
          "🤝 base merges and moerges",
          "🤝 base merges and moerges",
          "🔶 fine-tuned on domain-specific datasets",
          "🔶 fine-tuned on domain-specific datasets",
          "🔶 fine-tuned on domain-specific datasets",
          "🔶 fine-tuned on domain-specific datasets",
          "💬 chat models (RLHF, DPO, IFT, ...)",
          "🟢 pretrained",
          "💬 chat models (RLHF, DPO, IFT, ...)",
          "🔶 fine-tuned on domain-specific datasets",
          "🤝 base merges and moerges",
          "💬 chat models (RLHF, DPO, IFT, ...)",
          "💬 chat models (RLHF, DPO, IFT, ...)",
          "💬 chat models (RLHF, DPO, IFT, ...)",
          "🔶 fine-tuned on domain-specific datasets",
          "🔶 fine-tuned on domain-specific datasets",
          "🔶 fine-tuned on domain-specific datasets",
          "🔶 fine-tuned on domain-specific datasets",
          "🔶 fine-tuned on domain-specific datasets",
          "🤝 base merges and moerges",
          "🔶 fine-tuned on domain-specific datasets",
          "🔶 fine-tuned on domain-specific datasets",
          "🔶 fine-tuned on domain-specific datasets",
          "🔶 fine-tuned on domain-specific datasets",
          "🔶 fine-tuned on domain-specific datasets",
          "🔶 fine-tuned on domain-specific datasets",
          "🔶 fine-tuned on domain-specific datasets",
          "🤝 base merges and moerges",
          "🤝 base merges and moerges",
          "🤝 base merges and moerges",
          "🔶 fine-tuned on domain-specific datasets",
          "🔶 fine-tuned on domain-specific datasets",
          "🔶 fine-tuned on domain-specific datasets",
          "🔶 fine-tuned on domain-specific datasets",
          "🔶 fine-tuned on domain-specific datasets",
          "🔶 fine-tuned on domain-specific datasets",
          "🤝 base merges and moerges",
          "🤝 base merges and moerges",
          "🤝 base merges and moerges",
          "🤝 base merges and moerges",
          "🤝 base merges and moerges",
          "🤝 base merges and moerges",
          "🤝 base merges and moerges",
          "🤝 base merges and moerges",
          "🤝 base merges and moerges",
          "🤝 base merges and moerges",
          "🔶 fine-tuned on domain-specific datasets",
          "🤝 base merges and moerges",
          "🤝 base merges and moerges",
          "🤝 base merges and moerges",
          "🤝 base merges and moerges",
          "🤝 base merges and moerges",
          "🤝 base merges and moerges",
          "🤝 base merges and moerges",
          "🔶 fine-tuned on domain-specific datasets",
          "🔶 fine-tuned on domain-specific datasets",
          "🔶 fine-tuned on domain-specific datasets",
          "🔶 fine-tuned on domain-specific datasets",
          "🔶 fine-tuned on domain-specific datasets",
          "💬 chat models (RLHF, DPO, IFT, ...)",
          "🔶 fine-tuned on domain-specific datasets",
          "💬 chat models (RLHF, DPO, IFT, ...)",
          "🤝 base merges and moerges",
          "🟩 continuously pretrained",
          "🤝 base merges and moerges",
          "🤝 base merges and moerges",
          "🔶 fine-tuned on domain-specific datasets",
          "💬 chat models (RLHF, DPO, IFT, ...)",
          "🔶 fine-tuned on domain-specific datasets",
          "🟢 pretrained",
          "🔶 fine-tuned on domain-specific datasets",
          "💬 chat models (RLHF, DPO, IFT, ...)",
          "💬 chat models (RLHF, DPO, IFT, ...)",
          "🔶 fine-tuned on domain-specific datasets",
          "🔶 fine-tuned on domain-specific datasets",
          "💬 chat models (RLHF, DPO, IFT, ...)",
          "💬 chat models (RLHF, DPO, IFT, ...)",
          "💬 chat models (RLHF, DPO, IFT, ...)",
          "🔶 fine-tuned on domain-specific datasets",
          "💬 chat models (RLHF, DPO, IFT, ...)",
          "💬 chat models (RLHF, DPO, IFT, ...)",
          "🔶 fine-tuned on domain-specific datasets",
          "🤝 base merges and moerges",
          "🤝 base merges and moerges",
          "🤝 base merges and moerges",
          "🤝 base merges and moerges",
          "🤝 base merges and moerges",
          "🤝 base merges and moerges",
          "🤝 base merges and moerges",
          "🤝 base merges and moerges",
          "🤝 base merges and moerges",
          "🔶 fine-tuned on domain-specific datasets",
          "🤝 base merges and moerges",
          "🤝 base merges and moerges",
          "🤝 base merges and moerges",
          "🤝 base merges and moerges",
          "🤝 base merges and moerges",
          "💬 chat models (RLHF, DPO, IFT, ...)",
          "🔶 fine-tuned on domain-specific datasets",
          "🔶 fine-tuned on domain-specific datasets",
          "🔶 fine-tuned on domain-specific datasets",
          "🔶 fine-tuned on domain-specific datasets",
          "🔶 fine-tuned on domain-specific datasets",
          "🔶 fine-tuned on domain-specific datasets",
          "💬 chat models (RLHF, DPO, IFT, ...)",
          "💬 chat models (RLHF, DPO, IFT, ...)",
          "💬 chat models (RLHF, DPO, IFT, ...)",
          "💬 chat models (RLHF, DPO, IFT, ...)",
          "🔶 fine-tuned on domain-specific datasets",
          "💬 chat models (RLHF, DPO, IFT, ...)",
          "💬 chat models (RLHF, DPO, IFT, ...)",
          "💬 chat models (RLHF, DPO, IFT, ...)",
          "💬 chat models (RLHF, DPO, IFT, ...)",
          "💬 chat models (RLHF, DPO, IFT, ...)",
          "💬 chat models (RLHF, DPO, IFT, ...)",
          "🔶 fine-tuned on domain-specific datasets",
          "💬 chat models (RLHF, DPO, IFT, ...)",
          "💬 chat models (RLHF, DPO, IFT, ...)",
          "💬 chat models (RLHF, DPO, IFT, ...)",
          "💬 chat models (RLHF, DPO, IFT, ...)",
          "💬 chat models (RLHF, DPO, IFT, ...)",
          "💬 chat models (RLHF, DPO, IFT, ...)",
          "🔶 fine-tuned on domain-specific datasets",
          "💬 chat models (RLHF, DPO, IFT, ...)",
          "💬 chat models (RLHF, DPO, IFT, ...)",
          "🔶 fine-tuned on domain-specific datasets",
          "💬 chat models (RLHF, DPO, IFT, ...)",
          "🔶 fine-tuned on domain-specific datasets",
          "🔶 fine-tuned on domain-specific datasets",
          "🔶 fine-tuned on domain-specific datasets",
          "🔶 fine-tuned on domain-specific datasets",
          "🔶 fine-tuned on domain-specific datasets",
          "🔶 fine-tuned on domain-specific datasets",
          "🔶 fine-tuned on domain-specific datasets",
          "🔶 fine-tuned on domain-specific datasets",
          "🔶 fine-tuned on domain-specific datasets",
          "🔶 fine-tuned on domain-specific datasets",
          "💬 chat models (RLHF, DPO, IFT, ...)",
          "🔶 fine-tuned on domain-specific datasets",
          "🔶 fine-tuned on domain-specific datasets",
          "🔶 fine-tuned on domain-specific datasets",
          "🔶 fine-tuned on domain-specific datasets",
          "🔶 fine-tuned on domain-specific datasets",
          "🔶 fine-tuned on domain-specific datasets",
          "🔶 fine-tuned on domain-specific datasets",
          "🔶 fine-tuned on domain-specific datasets",
          "💬 chat models (RLHF, DPO, IFT, ...)",
          "💬 chat models (RLHF, DPO, IFT, ...)",
          "🔶 fine-tuned on domain-specific datasets",
          "🔶 fine-tuned on domain-specific datasets",
          "💬 chat models (RLHF, DPO, IFT, ...)",
          "💬 chat models (RLHF, DPO, IFT, ...)",
          "💬 chat models (RLHF, DPO, IFT, ...)",
          "🟢 pretrained",
          "🟩 continuously pretrained",
          "🔶 fine-tuned on domain-specific datasets",
          "🔶 fine-tuned on domain-specific datasets",
          "🔶 fine-tuned on domain-specific datasets",
          "🔶 fine-tuned on domain-specific datasets",
          "🔶 fine-tuned on domain-specific datasets",
          "🔶 fine-tuned on domain-specific datasets",
          "🔶 fine-tuned on domain-specific datasets",
          "🔶 fine-tuned on domain-specific datasets",
          "🔶 fine-tuned on domain-specific datasets",
          "🤝 base merges and moerges",
          "🤝 base merges and moerges",
          "🔶 fine-tuned on domain-specific datasets",
          "🔶 fine-tuned on domain-specific datasets",
          "🔶 fine-tuned on domain-specific datasets",
          "🔶 fine-tuned on domain-specific datasets",
          "💬 chat models (RLHF, DPO, IFT, ...)",
          "💬 chat models (RLHF, DPO, IFT, ...)",
          "🔶 fine-tuned on domain-specific datasets",
          "💬 chat models (RLHF, DPO, IFT, ...)",
          "💬 chat models (RLHF, DPO, IFT, ...)",
          "💬 chat models (RLHF, DPO, IFT, ...)",
          "💬 chat models (RLHF, DPO, IFT, ...)",
          "💬 chat models (RLHF, DPO, IFT, ...)",
          "💬 chat models (RLHF, DPO, IFT, ...)",
          "🔶 fine-tuned on domain-specific datasets",
          "🟩 continuously pretrained",
          "🟩 continuously pretrained",
          "🟩 continuously pretrained",
          "🟩 continuously pretrained",
          "🟩 continuously pretrained",
          "🟩 continuously pretrained",
          "🟩 continuously pretrained",
          "🟢 pretrained",
          "🟢 pretrained",
          "🟩 continuously pretrained",
          "🟢 pretrained",
          "🟩 continuously pretrained",
          "🔶 fine-tuned on domain-specific datasets",
          "🤝 base merges and moerges",
          "🔶 fine-tuned on domain-specific datasets",
          "🤝 base merges and moerges",
          "💬 chat models (RLHF, DPO, IFT, ...)",
          "🔶 fine-tuned on domain-specific datasets",
          "💬 chat models (RLHF, DPO, IFT, ...)",
          "💬 chat models (RLHF, DPO, IFT, ...)",
          "💬 chat models (RLHF, DPO, IFT, ...)",
          "💬 chat models (RLHF, DPO, IFT, ...)",
          "💬 chat models (RLHF, DPO, IFT, ...)",
          "💬 chat models (RLHF, DPO, IFT, ...)",
          "💬 chat models (RLHF, DPO, IFT, ...)",
          "💬 chat models (RLHF, DPO, IFT, ...)",
          "💬 chat models (RLHF, DPO, IFT, ...)",
          "💬 chat models (RLHF, DPO, IFT, ...)",
          "💬 chat models (RLHF, DPO, IFT, ...)",
          "💬 chat models (RLHF, DPO, IFT, ...)",
          "💬 chat models (RLHF, DPO, IFT, ...)",
          "💬 chat models (RLHF, DPO, IFT, ...)",
          "💬 chat models (RLHF, DPO, IFT, ...)",
          "💬 chat models (RLHF, DPO, IFT, ...)",
          "💬 chat models (RLHF, DPO, IFT, ...)",
          "🤝 base merges and moerges",
          "💬 chat models (RLHF, DPO, IFT, ...)",
          "🔶 fine-tuned on domain-specific datasets",
          "🔶 fine-tuned on domain-specific datasets",
          "💬 chat models (RLHF, DPO, IFT, ...)",
          "🔶 fine-tuned on domain-specific datasets",
          "🤝 base merges and moerges",
          "💬 chat models (RLHF, DPO, IFT, ...)",
          "💬 chat models (RLHF, DPO, IFT, ...)",
          "💬 chat models (RLHF, DPO, IFT, ...)",
          "🤝 base merges and moerges",
          "🤝 base merges and moerges",
          "🔶 fine-tuned on domain-specific datasets",
          "🔶 fine-tuned on domain-specific datasets",
          "🔶 fine-tuned on domain-specific datasets",
          "🔶 fine-tuned on domain-specific datasets",
          "🤝 base merges and moerges",
          "🔶 fine-tuned on domain-specific datasets",
          "🔶 fine-tuned on domain-specific datasets",
          "🤝 base merges and moerges",
          "🔶 fine-tuned on domain-specific datasets",
          "🤝 base merges and moerges",
          "🔶 fine-tuned on domain-specific datasets",
          "🤝 base merges and moerges",
          "🔶 fine-tuned on domain-specific datasets",
          "🔶 fine-tuned on domain-specific datasets",
          "🔶 fine-tuned on domain-specific datasets",
          "🟢 pretrained",
          "💬 chat models (RLHF, DPO, IFT, ...)",
          "🟢 pretrained",
          "💬 chat models (RLHF, DPO, IFT, ...)",
          "🟢 pretrained",
          "💬 chat models (RLHF, DPO, IFT, ...)",
          "🟢 pretrained",
          "💬 chat models (RLHF, DPO, IFT, ...)",
          "🟢 pretrained",
          "💬 chat models (RLHF, DPO, IFT, ...)",
          "🟢 pretrained",
          "💬 chat models (RLHF, DPO, IFT, ...)",
          "🟢 pretrained",
          "💬 chat models (RLHF, DPO, IFT, ...)",
          "🟢 pretrained",
          "💬 chat models (RLHF, DPO, IFT, ...)",
          "🟢 pretrained",
          "💬 chat models (RLHF, DPO, IFT, ...)",
          "🟢 pretrained",
          "💬 chat models (RLHF, DPO, IFT, ...)",
          "🟢 pretrained",
          "💬 chat models (RLHF, DPO, IFT, ...)",
          "🟢 pretrained",
          "💬 chat models (RLHF, DPO, IFT, ...)",
          "🟢 pretrained",
          "💬 chat models (RLHF, DPO, IFT, ...)",
          "💬 chat models (RLHF, DPO, IFT, ...)",
          "🔶 fine-tuned on domain-specific datasets",
          "🌸 multimodal",
          "🌸 multimodal",
          "🟢 pretrained",
          "💬 chat models (RLHF, DPO, IFT, ...)",
          "💬 chat models (RLHF, DPO, IFT, ...)",
          "🟢 pretrained",
          "💬 chat models (RLHF, DPO, IFT, ...)",
          "🟢 pretrained",
          "💬 chat models (RLHF, DPO, IFT, ...)",
          "🟢 pretrained",
          "💬 chat models (RLHF, DPO, IFT, ...)",
          "🟢 pretrained",
          "💬 chat models (RLHF, DPO, IFT, ...)",
          "🟢 pretrained",
          "💬 chat models (RLHF, DPO, IFT, ...)",
          "🟢 pretrained",
          "💬 chat models (RLHF, DPO, IFT, ...)",
          "🟢 pretrained",
          "🔶 fine-tuned on domain-specific datasets",
          "🟢 pretrained",
          "💬 chat models (RLHF, DPO, IFT, ...)",
          "💬 chat models (RLHF, DPO, IFT, ...)",
          "🔶 fine-tuned on domain-specific datasets",
          "🟩 continuously pretrained",
          "🔶 fine-tuned on domain-specific datasets",
          "🔶 fine-tuned on domain-specific datasets",
          "💬 chat models (RLHF, DPO, IFT, ...)",
          "🔶 fine-tuned on domain-specific datasets",
          "🔶 fine-tuned on domain-specific datasets",
          "🔶 fine-tuned on domain-specific datasets",
          "🔶 fine-tuned on domain-specific datasets",
          "🔶 fine-tuned on domain-specific datasets",
          "🔶 fine-tuned on domain-specific datasets",
          "🔶 fine-tuned on domain-specific datasets",
          "🤝 base merges and moerges",
          "🔶 fine-tuned on domain-specific datasets",
          "🔶 fine-tuned on domain-specific datasets",
          "🔶 fine-tuned on domain-specific datasets",
          "🔶 fine-tuned on domain-specific datasets",
          "🔶 fine-tuned on domain-specific datasets",
          "🔶 fine-tuned on domain-specific datasets",
          "🤝 base merges and moerges",
          "🔶 fine-tuned on domain-specific datasets",
          "🔶 fine-tuned on domain-specific datasets",
          "🔶 fine-tuned on domain-specific datasets",
          "🔶 fine-tuned on domain-specific datasets",
          "🔶 fine-tuned on domain-specific datasets",
          "🤝 base merges and moerges",
          "🔶 fine-tuned on domain-specific datasets",
          "🔶 fine-tuned on domain-specific datasets",
          "🔶 fine-tuned on domain-specific datasets",
          "🤝 base merges and moerges",
          "🔶 fine-tuned on domain-specific datasets",
          "🔶 fine-tuned on domain-specific datasets",
          "🔶 fine-tuned on domain-specific datasets",
          "🔶 fine-tuned on domain-specific datasets",
          "🔶 fine-tuned on domain-specific datasets",
          "🔶 fine-tuned on domain-specific datasets",
          "💬 chat models (RLHF, DPO, IFT, ...)",
          "💬 chat models (RLHF, DPO, IFT, ...)",
          "💬 chat models (RLHF, DPO, IFT, ...)",
          "💬 chat models (RLHF, DPO, IFT, ...)",
          "🤝 base merges and moerges",
          "💬 chat models (RLHF, DPO, IFT, ...)",
          "🔶 fine-tuned on domain-specific datasets",
          "🔶 fine-tuned on domain-specific datasets",
          "🔶 fine-tuned on domain-specific datasets",
          "🔶 fine-tuned on domain-specific datasets",
          "🔶 fine-tuned on domain-specific datasets",
          "🔶 fine-tuned on domain-specific datasets",
          "🔶 fine-tuned on domain-specific datasets",
          "💬 chat models (RLHF, DPO, IFT, ...)",
          "🔶 fine-tuned on domain-specific datasets",
          "🔶 fine-tuned on domain-specific datasets",
          "🤝 base merges and moerges",
          "🤝 base merges and moerges",
          "🤝 base merges and moerges",
          "🤝 base merges and moerges",
          "🤝 base merges and moerges",
          "🔶 fine-tuned on domain-specific datasets",
          "🔶 fine-tuned on domain-specific datasets",
          "🤝 base merges and moerges",
          "🤝 base merges and moerges",
          "💬 chat models (RLHF, DPO, IFT, ...)",
          "💬 chat models (RLHF, DPO, IFT, ...)",
          "🟢 pretrained",
          "💬 chat models (RLHF, DPO, IFT, ...)",
          "💬 chat models (RLHF, DPO, IFT, ...)",
          "🔶 fine-tuned on domain-specific datasets",
          "💬 chat models (RLHF, DPO, IFT, ...)",
          "🤝 base merges and moerges",
          "🔶 fine-tuned on domain-specific datasets",
          "💬 chat models (RLHF, DPO, IFT, ...)",
          "🔶 fine-tuned on domain-specific datasets",
          "🔶 fine-tuned on domain-specific datasets",
          "🔶 fine-tuned on domain-specific datasets",
          "🤝 base merges and moerges",
          "💬 chat models (RLHF, DPO, IFT, ...)",
          "🔶 fine-tuned on domain-specific datasets",
          "🔶 fine-tuned on domain-specific datasets",
          "🤝 base merges and moerges",
          "💬 chat models (RLHF, DPO, IFT, ...)",
          "💬 chat models (RLHF, DPO, IFT, ...)",
          "💬 chat models (RLHF, DPO, IFT, ...)",
          "💬 chat models (RLHF, DPO, IFT, ...)",
          "💬 chat models (RLHF, DPO, IFT, ...)",
          "💬 chat models (RLHF, DPO, IFT, ...)",
          "🔶 fine-tuned on domain-specific datasets",
          "💬 chat models (RLHF, DPO, IFT, ...)",
          "💬 chat models (RLHF, DPO, IFT, ...)",
          "🔶 fine-tuned on domain-specific datasets",
          "🟢 pretrained",
          "🤝 base merges and moerges",
          "🔶 fine-tuned on domain-specific datasets",
          "🔶 fine-tuned on domain-specific datasets",
          "💬 chat models (RLHF, DPO, IFT, ...)",
          "💬 chat models (RLHF, DPO, IFT, ...)",
          "💬 chat models (RLHF, DPO, IFT, ...)",
          "💬 chat models (RLHF, DPO, IFT, ...)",
          "💬 chat models (RLHF, DPO, IFT, ...)",
          "💬 chat models (RLHF, DPO, IFT, ...)",
          "🔶 fine-tuned on domain-specific datasets",
          "💬 chat models (RLHF, DPO, IFT, ...)",
          "💬 chat models (RLHF, DPO, IFT, ...)",
          "🔶 fine-tuned on domain-specific datasets",
          "💬 chat models (RLHF, DPO, IFT, ...)",
          "💬 chat models (RLHF, DPO, IFT, ...)",
          "💬 chat models (RLHF, DPO, IFT, ...)",
          "💬 chat models (RLHF, DPO, IFT, ...)",
          "💬 chat models (RLHF, DPO, IFT, ...)",
          "🤝 base merges and moerges",
          "🔶 fine-tuned on domain-specific datasets",
          "🔶 fine-tuned on domain-specific datasets",
          "🔶 fine-tuned on domain-specific datasets",
          "🔶 fine-tuned on domain-specific datasets",
          "🔶 fine-tuned on domain-specific datasets",
          "🔶 fine-tuned on domain-specific datasets",
          "🔶 fine-tuned on domain-specific datasets",
          "🔶 fine-tuned on domain-specific datasets",
          "🔶 fine-tuned on domain-specific datasets",
          "🔶 fine-tuned on domain-specific datasets",
          "🔶 fine-tuned on domain-specific datasets",
          "🔶 fine-tuned on domain-specific datasets",
          "🔶 fine-tuned on domain-specific datasets",
          "🔶 fine-tuned on domain-specific datasets",
          "🔶 fine-tuned on domain-specific datasets",
          "🔶 fine-tuned on domain-specific datasets",
          "🔶 fine-tuned on domain-specific datasets",
          "🔶 fine-tuned on domain-specific datasets",
          "🔶 fine-tuned on domain-specific datasets",
          "🔶 fine-tuned on domain-specific datasets",
          "🔶 fine-tuned on domain-specific datasets",
          "🔶 fine-tuned on domain-specific datasets",
          "🔶 fine-tuned on domain-specific datasets",
          "💬 chat models (RLHF, DPO, IFT, ...)",
          "🔶 fine-tuned on domain-specific datasets",
          "🔶 fine-tuned on domain-specific datasets",
          "💬 chat models (RLHF, DPO, IFT, ...)",
          "🔶 fine-tuned on domain-specific datasets",
          "🔶 fine-tuned on domain-specific datasets",
          "🔶 fine-tuned on domain-specific datasets",
          "💬 chat models (RLHF, DPO, IFT, ...)",
          "🔶 fine-tuned on domain-specific datasets",
          "🔶 fine-tuned on domain-specific datasets",
          "🔶 fine-tuned on domain-specific datasets",
          "🔶 fine-tuned on domain-specific datasets",
          "🔶 fine-tuned on domain-specific datasets",
          "💬 chat models (RLHF, DPO, IFT, ...)",
          "💬 chat models (RLHF, DPO, IFT, ...)",
          "💬 chat models (RLHF, DPO, IFT, ...)",
          "🤝 base merges and moerges",
          "💬 chat models (RLHF, DPO, IFT, ...)",
          "💬 chat models (RLHF, DPO, IFT, ...)",
          "💬 chat models (RLHF, DPO, IFT, ...)",
          "🔶 fine-tuned on domain-specific datasets",
          "💬 chat models (RLHF, DPO, IFT, ...)",
          "💬 chat models (RLHF, DPO, IFT, ...)",
          "🔶 fine-tuned on domain-specific datasets",
          "🔶 fine-tuned on domain-specific datasets",
          "🔶 fine-tuned on domain-specific datasets",
          "🔶 fine-tuned on domain-specific datasets",
          "🔶 fine-tuned on domain-specific datasets",
          "🔶 fine-tuned on domain-specific datasets",
          "🔶 fine-tuned on domain-specific datasets",
          "🟢 pretrained",
          "🤝 base merges and moerges",
          "🤝 base merges and moerges",
          "🤝 base merges and moerges",
          "🤝 base merges and moerges",
          "🔶 fine-tuned on domain-specific datasets",
          "🔶 fine-tuned on domain-specific datasets",
          "🔶 fine-tuned on domain-specific datasets",
          "🤝 base merges and moerges",
          "🤝 base merges and moerges",
          "🤝 base merges and moerges",
          "🤝 base merges and moerges",
          "🤝 base merges and moerges",
          "🔶 fine-tuned on domain-specific datasets",
          "🤝 base merges and moerges",
          "🔶 fine-tuned on domain-specific datasets",
          "🔶 fine-tuned on domain-specific datasets",
          "🤝 base merges and moerges",
          "🔶 fine-tuned on domain-specific datasets",
          "🤝 base merges and moerges",
          "🤝 base merges and moerges",
          "🤝 base merges and moerges",
          "🤝 base merges and moerges",
          "🤝 base merges and moerges",
          "🔶 fine-tuned on domain-specific datasets",
          "🔶 fine-tuned on domain-specific datasets",
          "🔶 fine-tuned on domain-specific datasets",
          "🔶 fine-tuned on domain-specific datasets",
          "🔶 fine-tuned on domain-specific datasets",
          "🔶 fine-tuned on domain-specific datasets",
          "🔶 fine-tuned on domain-specific datasets",
          "💬 chat models (RLHF, DPO, IFT, ...)",
          "🔶 fine-tuned on domain-specific datasets",
          "💬 chat models (RLHF, DPO, IFT, ...)",
          "💬 chat models (RLHF, DPO, IFT, ...)",
          "💬 chat models (RLHF, DPO, IFT, ...)",
          "🤝 base merges and moerges",
          "🤝 base merges and moerges",
          "💬 chat models (RLHF, DPO, IFT, ...)",
          "🔶 fine-tuned on domain-specific datasets",
          "💬 chat models (RLHF, DPO, IFT, ...)",
          "🔶 fine-tuned on domain-specific datasets",
          "🔶 fine-tuned on domain-specific datasets",
          "🤝 base merges and moerges",
          "🤝 base merges and moerges",
          "🟢 pretrained",
          "🤝 base merges and moerges",
          "🤝 base merges and moerges",
          "🔶 fine-tuned on domain-specific datasets",
          "🔶 fine-tuned on domain-specific datasets",
          "💬 chat models (RLHF, DPO, IFT, ...)",
          "💬 chat models (RLHF, DPO, IFT, ...)",
          "💬 chat models (RLHF, DPO, IFT, ...)",
          "💬 chat models (RLHF, DPO, IFT, ...)",
          "🟢 pretrained",
          "💬 chat models (RLHF, DPO, IFT, ...)",
          "🟢 pretrained",
          "🟢 pretrained",
          "💬 chat models (RLHF, DPO, IFT, ...)",
          "🤝 base merges and moerges",
          "🤝 base merges and moerges",
          "🤝 base merges and moerges",
          "🤝 base merges and moerges",
          "🤝 base merges and moerges",
          "🤝 base merges and moerges",
          "🤝 base merges and moerges",
          "🤝 base merges and moerges",
          "🤝 base merges and moerges",
          "🤝 base merges and moerges",
          "🤝 base merges and moerges",
          "🤝 base merges and moerges",
          "🤝 base merges and moerges",
          "🤝 base merges and moerges",
          "🤝 base merges and moerges",
          "🤝 base merges and moerges",
          "🤝 base merges and moerges",
          "🤝 base merges and moerges",
          "🤝 base merges and moerges",
          "🤝 base merges and moerges",
          "🤝 base merges and moerges",
          "🤝 base merges and moerges",
          "🤝 base merges and moerges",
          "🤝 base merges and moerges",
          "🤝 base merges and moerges",
          "🤝 base merges and moerges",
          "🤝 base merges and moerges",
          "🤝 base merges and moerges",
          "🤝 base merges and moerges",
          "🤝 base merges and moerges",
          "🤝 base merges and moerges",
          "🤝 base merges and moerges",
          "🤝 base merges and moerges",
          "🤝 base merges and moerges",
          "🤝 base merges and moerges",
          "🤝 base merges and moerges",
          "🤝 base merges and moerges",
          "🤝 base merges and moerges",
          "🤝 base merges and moerges",
          "🤝 base merges and moerges",
          "🤝 base merges and moerges",
          "🤝 base merges and moerges",
          "🤝 base merges and moerges",
          "🤝 base merges and moerges",
          "🤝 base merges and moerges",
          "🤝 base merges and moerges",
          "🤝 base merges and moerges",
          "🤝 base merges and moerges",
          "🤝 base merges and moerges",
          "🤝 base merges and moerges",
          "🤝 base merges and moerges",
          "🤝 base merges and moerges",
          "🤝 base merges and moerges",
          "🤝 base merges and moerges",
          "🤝 base merges and moerges",
          "🤝 base merges and moerges",
          "🤝 base merges and moerges",
          "🤝 base merges and moerges",
          "🤝 base merges and moerges",
          "🤝 base merges and moerges",
          "🤝 base merges and moerges",
          "🤝 base merges and moerges",
          "🤝 base merges and moerges",
          "🤝 base merges and moerges",
          "🤝 base merges and moerges",
          "🤝 base merges and moerges",
          "🤝 base merges and moerges",
          "🤝 base merges and moerges",
          "🤝 base merges and moerges",
          "🤝 base merges and moerges",
          "🤝 base merges and moerges",
          "🤝 base merges and moerges",
          "🤝 base merges and moerges",
          "🤝 base merges and moerges",
          "🤝 base merges and moerges",
          "🔶 fine-tuned on domain-specific datasets",
          "🔶 fine-tuned on domain-specific datasets",
          "🔶 fine-tuned on domain-specific datasets",
          "🔶 fine-tuned on domain-specific datasets",
          "💬 chat models (RLHF, DPO, IFT, ...)",
          "🤝 base merges and moerges",
          "🔶 fine-tuned on domain-specific datasets",
          "🔶 fine-tuned on domain-specific datasets",
          "🟢 pretrained",
          "💬 chat models (RLHF, DPO, IFT, ...)",
          "💬 chat models (RLHF, DPO, IFT, ...)",
          "💬 chat models (RLHF, DPO, IFT, ...)",
          "💬 chat models (RLHF, DPO, IFT, ...)",
          "💬 chat models (RLHF, DPO, IFT, ...)",
          "💬 chat models (RLHF, DPO, IFT, ...)",
          "🔶 fine-tuned on domain-specific datasets",
          "💬 chat models (RLHF, DPO, IFT, ...)",
          "💬 chat models (RLHF, DPO, IFT, ...)",
          "🔶 fine-tuned on domain-specific datasets",
          "🔶 fine-tuned on domain-specific datasets",
          "🔶 fine-tuned on domain-specific datasets",
          "🔶 fine-tuned on domain-specific datasets",
          "🟢 pretrained",
          "💬 chat models (RLHF, DPO, IFT, ...)",
          "🔶 fine-tuned on domain-specific datasets",
          "💬 chat models (RLHF, DPO, IFT, ...)",
          "🔶 fine-tuned on domain-specific datasets",
          "🔶 fine-tuned on domain-specific datasets",
          "🔶 fine-tuned on domain-specific datasets",
          "🔶 fine-tuned on domain-specific datasets",
          "💬 chat models (RLHF, DPO, IFT, ...)",
          "💬 chat models (RLHF, DPO, IFT, ...)",
          "💬 chat models (RLHF, DPO, IFT, ...)",
          "💬 chat models (RLHF, DPO, IFT, ...)",
          "🤝 base merges and moerges",
          "🟢 pretrained",
          "🟢 pretrained",
          "🟢 pretrained",
          "🟢 pretrained",
          "🟢 pretrained",
          "🔶 fine-tuned on domain-specific datasets",
          "💬 chat models (RLHF, DPO, IFT, ...)",
          "🟩 continuously pretrained",
          "🔶 fine-tuned on domain-specific datasets",
          "💬 chat models (RLHF, DPO, IFT, ...)",
          "🟢 pretrained",
          "🟢 pretrained",
          "🟢 pretrained",
          "🟢 pretrained",
          "🟢 pretrained",
          "🟢 pretrained",
          "🟢 pretrained",
          "🟢 pretrained",
          "💬 chat models (RLHF, DPO, IFT, ...)",
          "🤝 base merges and moerges",
          "🤝 base merges and moerges",
          "🤝 base merges and moerges",
          "🤝 base merges and moerges",
          "🤝 base merges and moerges",
          "🤝 base merges and moerges",
          "🤝 base merges and moerges",
          "🤝 base merges and moerges",
          "🤝 base merges and moerges",
          "🔶 fine-tuned on domain-specific datasets",
          "🔶 fine-tuned on domain-specific datasets",
          "🔶 fine-tuned on domain-specific datasets",
          "🔶 fine-tuned on domain-specific datasets",
          "🔶 fine-tuned on domain-specific datasets",
          "🤝 base merges and moerges",
          "🤝 base merges and moerges",
          "🤝 base merges and moerges",
          "🤝 base merges and moerges",
          "🤝 base merges and moerges",
          "🔶 fine-tuned on domain-specific datasets",
          "🤝 base merges and moerges",
          "🤝 base merges and moerges",
          "🔶 fine-tuned on domain-specific datasets",
          "🔶 fine-tuned on domain-specific datasets",
          "🔶 fine-tuned on domain-specific datasets",
          "💬 chat models (RLHF, DPO, IFT, ...)",
          "🔶 fine-tuned on domain-specific datasets",
          "🤝 base merges and moerges",
          "🤝 base merges and moerges",
          "🔶 fine-tuned on domain-specific datasets",
          "🔶 fine-tuned on domain-specific datasets",
          "💬 chat models (RLHF, DPO, IFT, ...)",
          "💬 chat models (RLHF, DPO, IFT, ...)",
          "🔶 fine-tuned on domain-specific datasets",
          "🔶 fine-tuned on domain-specific datasets",
          "🔶 fine-tuned on domain-specific datasets",
          "🔶 fine-tuned on domain-specific datasets",
          "🔶 fine-tuned on domain-specific datasets",
          "🤝 base merges and moerges",
          "💬 chat models (RLHF, DPO, IFT, ...)",
          "💬 chat models (RLHF, DPO, IFT, ...)",
          "💬 chat models (RLHF, DPO, IFT, ...)",
          "💬 chat models (RLHF, DPO, IFT, ...)",
          "💬 chat models (RLHF, DPO, IFT, ...)",
          "💬 chat models (RLHF, DPO, IFT, ...)",
          "🔶 fine-tuned on domain-specific datasets",
          "🔶 fine-tuned on domain-specific datasets",
          "💬 chat models (RLHF, DPO, IFT, ...)",
          "🔶 fine-tuned on domain-specific datasets",
          "🔶 fine-tuned on domain-specific datasets",
          "🔶 fine-tuned on domain-specific datasets",
          "💬 chat models (RLHF, DPO, IFT, ...)",
          "🔶 fine-tuned on domain-specific datasets",
          "💬 chat models (RLHF, DPO, IFT, ...)",
          "🔶 fine-tuned on domain-specific datasets",
          "💬 chat models (RLHF, DPO, IFT, ...)",
          "🔶 fine-tuned on domain-specific datasets",
          "🔶 fine-tuned on domain-specific datasets",
          "🤝 base merges and moerges",
          "💬 chat models (RLHF, DPO, IFT, ...)",
          "🔶 fine-tuned on domain-specific datasets",
          "🤝 base merges and moerges",
          "💬 chat models (RLHF, DPO, IFT, ...)",
          "🟢 pretrained",
          "🔶 fine-tuned on domain-specific datasets",
          "🔶 fine-tuned on domain-specific datasets",
          "🔶 fine-tuned on domain-specific datasets",
          "💬 chat models (RLHF, DPO, IFT, ...)",
          "🔶 fine-tuned on domain-specific datasets",
          "💬 chat models (RLHF, DPO, IFT, ...)",
          "🟢 pretrained",
          "💬 chat models (RLHF, DPO, IFT, ...)",
          "🟢 pretrained",
          "💬 chat models (RLHF, DPO, IFT, ...)",
          "💬 chat models (RLHF, DPO, IFT, ...)",
          "💬 chat models (RLHF, DPO, IFT, ...)",
          "💬 chat models (RLHF, DPO, IFT, ...)",
          "💬 chat models (RLHF, DPO, IFT, ...)",
          "💬 chat models (RLHF, DPO, IFT, ...)",
          "🟩 continuously pretrained",
          "💬 chat models (RLHF, DPO, IFT, ...)",
          "🟢 pretrained",
          "🤝 base merges and moerges",
          "🤝 base merges and moerges",
          "🤝 base merges and moerges",
          "🤝 base merges and moerges",
          "🤝 base merges and moerges",
          "🤝 base merges and moerges",
          "🤝 base merges and moerges",
          "🤝 base merges and moerges",
          "🤝 base merges and moerges",
          "🤝 base merges and moerges",
          "🤝 base merges and moerges",
          "🤝 base merges and moerges",
          "🟩 continuously pretrained",
          "💬 chat models (RLHF, DPO, IFT, ...)",
          "💬 chat models (RLHF, DPO, IFT, ...)",
          "💬 chat models (RLHF, DPO, IFT, ...)",
          "🔶 fine-tuned on domain-specific datasets",
          "🔶 fine-tuned on domain-specific datasets",
          "🟢 pretrained",
          "🔶 fine-tuned on domain-specific datasets",
          "🔶 fine-tuned on domain-specific datasets",
          "🔶 fine-tuned on domain-specific datasets",
          "🔶 fine-tuned on domain-specific datasets",
          "🔶 fine-tuned on domain-specific datasets",
          "🔶 fine-tuned on domain-specific datasets",
          "🔶 fine-tuned on domain-specific datasets",
          "🔶 fine-tuned on domain-specific datasets",
          "🔶 fine-tuned on domain-specific datasets",
          "🔶 fine-tuned on domain-specific datasets",
          "🔶 fine-tuned on domain-specific datasets",
          "🔶 fine-tuned on domain-specific datasets",
          "🔶 fine-tuned on domain-specific datasets",
          "💬 chat models (RLHF, DPO, IFT, ...)",
          "🔶 fine-tuned on domain-specific datasets",
          "🤝 base merges and moerges",
          "🔶 fine-tuned on domain-specific datasets",
          "🔶 fine-tuned on domain-specific datasets",
          "🔶 fine-tuned on domain-specific datasets",
          "🔶 fine-tuned on domain-specific datasets",
          "🟢 pretrained",
          "🟢 pretrained",
          "🔶 fine-tuned on domain-specific datasets",
          "🔶 fine-tuned on domain-specific datasets",
          "🔶 fine-tuned on domain-specific datasets",
          "🔶 fine-tuned on domain-specific datasets",
          "🔶 fine-tuned on domain-specific datasets",
          "🔶 fine-tuned on domain-specific datasets",
          "🔶 fine-tuned on domain-specific datasets",
          "🔶 fine-tuned on domain-specific datasets",
          "🔶 fine-tuned on domain-specific datasets",
          "🔶 fine-tuned on domain-specific datasets",
          "🔶 fine-tuned on domain-specific datasets",
          "🔶 fine-tuned on domain-specific datasets",
          "🔶 fine-tuned on domain-specific datasets",
          "🔶 fine-tuned on domain-specific datasets",
          "🟩 continuously pretrained",
          "🔶 fine-tuned on domain-specific datasets",
          "🔶 fine-tuned on domain-specific datasets",
          "🔶 fine-tuned on domain-specific datasets",
          "🔶 fine-tuned on domain-specific datasets",
          "🔶 fine-tuned on domain-specific datasets",
          "🔶 fine-tuned on domain-specific datasets",
          "🔶 fine-tuned on domain-specific datasets",
          "🔶 fine-tuned on domain-specific datasets",
          "🔶 fine-tuned on domain-specific datasets",
          "🔶 fine-tuned on domain-specific datasets",
          "🔶 fine-tuned on domain-specific datasets",
          "🔶 fine-tuned on domain-specific datasets",
          "🤝 base merges and moerges",
          "🤝 base merges and moerges",
          "🤝 base merges and moerges",
          "🤝 base merges and moerges",
          "💬 chat models (RLHF, DPO, IFT, ...)",
          "💬 chat models (RLHF, DPO, IFT, ...)",
          "💬 chat models (RLHF, DPO, IFT, ...)",
          "💬 chat models (RLHF, DPO, IFT, ...)",
          "🤝 base merges and moerges",
          "🟢 pretrained",
          "🟢 pretrained",
          "🟢 pretrained",
          "🟢 pretrained",
          "🟢 pretrained",
          "🟢 pretrained",
          "🔶 fine-tuned on domain-specific datasets",
          "🟢 pretrained",
          "💬 chat models (RLHF, DPO, IFT, ...)",
          "💬 chat models (RLHF, DPO, IFT, ...)",
          "🟢 pretrained",
          "💬 chat models (RLHF, DPO, IFT, ...)",
          "🟢 pretrained",
          "🔶 fine-tuned on domain-specific datasets",
          "🔶 fine-tuned on domain-specific datasets",
          "🟢 pretrained",
          "💬 chat models (RLHF, DPO, IFT, ...)",
          "🟢 pretrained",
          "💬 chat models (RLHF, DPO, IFT, ...)",
          "🟢 pretrained",
          "💬 chat models (RLHF, DPO, IFT, ...)",
          "🟢 pretrained",
          "💬 chat models (RLHF, DPO, IFT, ...)",
          "🔶 fine-tuned on domain-specific datasets",
          "🔶 fine-tuned on domain-specific datasets",
          "🔶 fine-tuned on domain-specific datasets",
          "🔶 fine-tuned on domain-specific datasets",
          "🟢 pretrained",
          "💬 chat models (RLHF, DPO, IFT, ...)",
          "🟢 pretrained",
          "💬 chat models (RLHF, DPO, IFT, ...)",
          "🔶 fine-tuned on domain-specific datasets",
          "🔶 fine-tuned on domain-specific datasets",
          "🤝 base merges and moerges",
          "🟢 pretrained",
          "🟢 pretrained",
          "💬 chat models (RLHF, DPO, IFT, ...)",
          "🤝 base merges and moerges",
          "🤝 base merges and moerges",
          "🔶 fine-tuned on domain-specific datasets",
          "🤝 base merges and moerges",
          "🤝 base merges and moerges",
          "🤝 base merges and moerges",
          "🤝 base merges and moerges",
          "🤝 base merges and moerges",
          "🔶 fine-tuned on domain-specific datasets",
          "🟩 continuously pretrained",
          "💬 chat models (RLHF, DPO, IFT, ...)",
          "💬 chat models (RLHF, DPO, IFT, ...)",
          "💬 chat models (RLHF, DPO, IFT, ...)",
          "💬 chat models (RLHF, DPO, IFT, ...)",
          "💬 chat models (RLHF, DPO, IFT, ...)",
          "🟩 continuously pretrained",
          "🔶 fine-tuned on domain-specific datasets",
          "🔶 fine-tuned on domain-specific datasets",
          "🟢 pretrained",
          "🔶 fine-tuned on domain-specific datasets",
          "🔶 fine-tuned on domain-specific datasets",
          "🔶 fine-tuned on domain-specific datasets",
          "🔶 fine-tuned on domain-specific datasets",
          "🔶 fine-tuned on domain-specific datasets",
          "🔶 fine-tuned on domain-specific datasets",
          "🔶 fine-tuned on domain-specific datasets",
          "💬 chat models (RLHF, DPO, IFT, ...)",
          "💬 chat models (RLHF, DPO, IFT, ...)",
          "🟢 pretrained",
          "💬 chat models (RLHF, DPO, IFT, ...)",
          "🟢 pretrained",
          "💬 chat models (RLHF, DPO, IFT, ...)",
          "🤝 base merges and moerges",
          "🤝 base merges and moerges",
          "🤝 base merges and moerges",
          "🤝 base merges and moerges",
          "🤝 base merges and moerges",
          "🤝 base merges and moerges",
          "🤝 base merges and moerges",
          "🤝 base merges and moerges",
          "🤝 base merges and moerges",
          "🤝 base merges and moerges",
          "🤝 base merges and moerges",
          "🤝 base merges and moerges",
          "🤝 base merges and moerges",
          "🤝 base merges and moerges",
          "🤝 base merges and moerges",
          "🤝 base merges and moerges",
          "🤝 base merges and moerges",
          "🤝 base merges and moerges",
          "🤝 base merges and moerges",
          "🤝 base merges and moerges",
          "🤝 base merges and moerges",
          "🤝 base merges and moerges",
          "🤝 base merges and moerges",
          "🔶 fine-tuned on domain-specific datasets",
          "🤝 base merges and moerges",
          "🤝 base merges and moerges",
          "🤝 base merges and moerges",
          "🤝 base merges and moerges",
          "🤝 base merges and moerges",
          "🤝 base merges and moerges",
          "🔶 fine-tuned on domain-specific datasets",
          "🔶 fine-tuned on domain-specific datasets",
          "🟢 pretrained",
          "🟢 pretrained",
          "💬 chat models (RLHF, DPO, IFT, ...)",
          "💬 chat models (RLHF, DPO, IFT, ...)",
          "💬 chat models (RLHF, DPO, IFT, ...)",
          "💬 chat models (RLHF, DPO, IFT, ...)",
          "🔶 fine-tuned on domain-specific datasets",
          "🤝 base merges and moerges",
          "🤝 base merges and moerges",
          "🤝 base merges and moerges",
          "🔶 fine-tuned on domain-specific datasets",
          "🤝 base merges and moerges",
          "💬 chat models (RLHF, DPO, IFT, ...)",
          "🤝 base merges and moerges",
          "💬 chat models (RLHF, DPO, IFT, ...)",
          "💬 chat models (RLHF, DPO, IFT, ...)",
          "🤝 base merges and moerges",
          "💬 chat models (RLHF, DPO, IFT, ...)",
          "💬 chat models (RLHF, DPO, IFT, ...)",
          "💬 chat models (RLHF, DPO, IFT, ...)",
          "💬 chat models (RLHF, DPO, IFT, ...)",
          "💬 chat models (RLHF, DPO, IFT, ...)",
          "💬 chat models (RLHF, DPO, IFT, ...)",
          "🤝 base merges and moerges",
          "💬 chat models (RLHF, DPO, IFT, ...)",
          "🔶 fine-tuned on domain-specific datasets",
          "🤝 base merges and moerges",
          "🤝 base merges and moerges",
          "🤝 base merges and moerges",
          "🤝 base merges and moerges",
          "🤝 base merges and moerges",
          "🤝 base merges and moerges",
          "🤝 base merges and moerges",
          "🤝 base merges and moerges",
          "🤝 base merges and moerges",
          "🤝 base merges and moerges",
          "🤝 base merges and moerges",
          "🤝 base merges and moerges",
          "🤝 base merges and moerges",
          "🤝 base merges and moerges",
          "🤝 base merges and moerges",
          "🤝 base merges and moerges",
          "🤝 base merges and moerges",
          "🤝 base merges and moerges",
          "🤝 base merges and moerges",
          "🤝 base merges and moerges",
          "🤝 base merges and moerges",
          "🤝 base merges and moerges",
          "🤝 base merges and moerges",
          "🤝 base merges and moerges",
          "🤝 base merges and moerges",
          "🤝 base merges and moerges",
          "🤝 base merges and moerges",
          "🤝 base merges and moerges",
          "🤝 base merges and moerges",
          "🤝 base merges and moerges",
          "🤝 base merges and moerges",
          "🔶 fine-tuned on domain-specific datasets",
          "💬 chat models (RLHF, DPO, IFT, ...)",
          "💬 chat models (RLHF, DPO, IFT, ...)",
          "🔶 fine-tuned on domain-specific datasets",
          "💬 chat models (RLHF, DPO, IFT, ...)",
          "🤝 base merges and moerges",
          "🤝 base merges and moerges",
          "🔶 fine-tuned on domain-specific datasets",
          "🔶 fine-tuned on domain-specific datasets",
          "🔶 fine-tuned on domain-specific datasets",
          "💬 chat models (RLHF, DPO, IFT, ...)",
          "🟢 pretrained",
          "🤝 base merges and moerges",
          "🔶 fine-tuned on domain-specific datasets",
          "🔶 fine-tuned on domain-specific datasets",
          "🔶 fine-tuned on domain-specific datasets",
          "🔶 fine-tuned on domain-specific datasets",
          "🔶 fine-tuned on domain-specific datasets",
          "💬 chat models (RLHF, DPO, IFT, ...)",
          "🤝 base merges and moerges",
          "🤝 base merges and moerges",
          "🔶 fine-tuned on domain-specific datasets",
          "🤝 base merges and moerges",
          "🤝 base merges and moerges",
          "🤝 base merges and moerges",
          "🤝 base merges and moerges",
          "🤝 base merges and moerges",
          "🤝 base merges and moerges",
          "💬 chat models (RLHF, DPO, IFT, ...)",
          "💬 chat models (RLHF, DPO, IFT, ...)",
          "🔶 fine-tuned on domain-specific datasets",
          "🔶 fine-tuned on domain-specific datasets",
          "🔶 fine-tuned on domain-specific datasets",
          "🔶 fine-tuned on domain-specific datasets",
          "🔶 fine-tuned on domain-specific datasets",
          "🔶 fine-tuned on domain-specific datasets",
          "🔶 fine-tuned on domain-specific datasets",
          "🔶 fine-tuned on domain-specific datasets",
          "🔶 fine-tuned on domain-specific datasets",
          "🔶 fine-tuned on domain-specific datasets",
          "🔶 fine-tuned on domain-specific datasets",
          "🤝 base merges and moerges",
          "🤝 base merges and moerges",
          "🔶 fine-tuned on domain-specific datasets",
          "🤝 base merges and moerges",
          "🤝 base merges and moerges",
          "🔶 fine-tuned on domain-specific datasets",
          "🔶 fine-tuned on domain-specific datasets",
          "🤝 base merges and moerges",
          "🤝 base merges and moerges",
          "🤝 base merges and moerges",
          "🤝 base merges and moerges",
          "🤝 base merges and moerges",
          "🤝 base merges and moerges",
          "🤝 base merges and moerges",
          "🔶 fine-tuned on domain-specific datasets",
          "🔶 fine-tuned on domain-specific datasets",
          "💬 chat models (RLHF, DPO, IFT, ...)",
          "💬 chat models (RLHF, DPO, IFT, ...)",
          "💬 chat models (RLHF, DPO, IFT, ...)",
          "💬 chat models (RLHF, DPO, IFT, ...)",
          "💬 chat models (RLHF, DPO, IFT, ...)",
          "💬 chat models (RLHF, DPO, IFT, ...)",
          "🤝 base merges and moerges",
          "🤝 base merges and moerges",
          "🤝 base merges and moerges",
          "🤝 base merges and moerges",
          "🤝 base merges and moerges",
          "🔶 fine-tuned on domain-specific datasets",
          "🔶 fine-tuned on domain-specific datasets",
          "🔶 fine-tuned on domain-specific datasets",
          "🔶 fine-tuned on domain-specific datasets",
          "💬 chat models (RLHF, DPO, IFT, ...)",
          "💬 chat models (RLHF, DPO, IFT, ...)",
          "🔶 fine-tuned on domain-specific datasets",
          "🔶 fine-tuned on domain-specific datasets",
          "🟩 continuously pretrained",
          "🔶 fine-tuned on domain-specific datasets",
          "🤝 base merges and moerges",
          "🤝 base merges and moerges",
          "🤝 base merges and moerges",
          "🔶 fine-tuned on domain-specific datasets",
          "🔶 fine-tuned on domain-specific datasets",
          "🔶 fine-tuned on domain-specific datasets",
          "🔶 fine-tuned on domain-specific datasets",
          "🔶 fine-tuned on domain-specific datasets",
          "🔶 fine-tuned on domain-specific datasets",
          "💬 chat models (RLHF, DPO, IFT, ...)",
          "💬 chat models (RLHF, DPO, IFT, ...)",
          "🔶 fine-tuned on domain-specific datasets",
          "💬 chat models (RLHF, DPO, IFT, ...)",
          "💬 chat models (RLHF, DPO, IFT, ...)",
          "💬 chat models (RLHF, DPO, IFT, ...)",
          "💬 chat models (RLHF, DPO, IFT, ...)",
          "💬 chat models (RLHF, DPO, IFT, ...)",
          "💬 chat models (RLHF, DPO, IFT, ...)",
          "💬 chat models (RLHF, DPO, IFT, ...)",
          "💬 chat models (RLHF, DPO, IFT, ...)",
          "💬 chat models (RLHF, DPO, IFT, ...)",
          "🔶 fine-tuned on domain-specific datasets",
          "🤝 base merges and moerges",
          "💬 chat models (RLHF, DPO, IFT, ...)",
          "🟢 pretrained",
          "💬 chat models (RLHF, DPO, IFT, ...)",
          "🟢 pretrained",
          "🟢 pretrained",
          "🟢 pretrained",
          "🟢 pretrained",
          "💬 chat models (RLHF, DPO, IFT, ...)",
          "🟢 pretrained",
          "💬 chat models (RLHF, DPO, IFT, ...)",
          "🟢 pretrained",
          "💬 chat models (RLHF, DPO, IFT, ...)",
          "🟢 pretrained",
          "💬 chat models (RLHF, DPO, IFT, ...)",
          "💬 chat models (RLHF, DPO, IFT, ...)",
          "🟢 pretrained",
          "💬 chat models (RLHF, DPO, IFT, ...)",
          "🟢 pretrained",
          "💬 chat models (RLHF, DPO, IFT, ...)",
          "💬 chat models (RLHF, DPO, IFT, ...)",
          "🔶 fine-tuned on domain-specific datasets",
          "🔶 fine-tuned on domain-specific datasets",
          "💬 chat models (RLHF, DPO, IFT, ...)",
          "💬 chat models (RLHF, DPO, IFT, ...)",
          "💬 chat models (RLHF, DPO, IFT, ...)",
          "💬 chat models (RLHF, DPO, IFT, ...)",
          "💬 chat models (RLHF, DPO, IFT, ...)",
          "💬 chat models (RLHF, DPO, IFT, ...)",
          "💬 chat models (RLHF, DPO, IFT, ...)",
          "💬 chat models (RLHF, DPO, IFT, ...)",
          "💬 chat models (RLHF, DPO, IFT, ...)",
          "🟢 pretrained",
          "🟢 pretrained",
          "🟢 pretrained",
          "🔶 fine-tuned on domain-specific datasets",
          "🔶 fine-tuned on domain-specific datasets",
          "🔶 fine-tuned on domain-specific datasets",
          "🔶 fine-tuned on domain-specific datasets",
          "🔶 fine-tuned on domain-specific datasets",
          "🔶 fine-tuned on domain-specific datasets",
          "🔶 fine-tuned on domain-specific datasets",
          "🔶 fine-tuned on domain-specific datasets",
          "🔶 fine-tuned on domain-specific datasets",
          "💬 chat models (RLHF, DPO, IFT, ...)",
          "🔶 fine-tuned on domain-specific datasets",
          "🟢 pretrained",
          "🟢 pretrained",
          "🟢 pretrained",
          "💬 chat models (RLHF, DPO, IFT, ...)",
          "💬 chat models (RLHF, DPO, IFT, ...)",
          "💬 chat models (RLHF, DPO, IFT, ...)",
          "🟢 pretrained",
          "🟢 pretrained",
          "💬 chat models (RLHF, DPO, IFT, ...)",
          "🟢 pretrained",
          "💬 chat models (RLHF, DPO, IFT, ...)",
          "💬 chat models (RLHF, DPO, IFT, ...)",
          "🔶 fine-tuned on domain-specific datasets",
          "💬 chat models (RLHF, DPO, IFT, ...)",
          "🟢 pretrained",
          "💬 chat models (RLHF, DPO, IFT, ...)",
          "🟢 pretrained",
          "🔶 fine-tuned on domain-specific datasets",
          "🔶 fine-tuned on domain-specific datasets",
          "💬 chat models (RLHF, DPO, IFT, ...)",
          "🤝 base merges and moerges",
          "🤝 base merges and moerges",
          "🤝 base merges and moerges",
          "🤝 base merges and moerges",
          "🤝 base merges and moerges",
          "🔶 fine-tuned on domain-specific datasets",
          "🔶 fine-tuned on domain-specific datasets",
          "🔶 fine-tuned on domain-specific datasets",
          "🔶 fine-tuned on domain-specific datasets",
          "💬 chat models (RLHF, DPO, IFT, ...)",
          "🤝 base merges and moerges",
          "🔶 fine-tuned on domain-specific datasets",
          "💬 chat models (RLHF, DPO, IFT, ...)",
          "🤝 base merges and moerges",
          "🔶 fine-tuned on domain-specific datasets",
          "🤝 base merges and moerges",
          "🤝 base merges and moerges",
          "🤝 base merges and moerges",
          "💬 chat models (RLHF, DPO, IFT, ...)",
          "🔶 fine-tuned on domain-specific datasets",
          "🟢 pretrained",
          "🔶 fine-tuned on domain-specific datasets",
          "🔶 fine-tuned on domain-specific datasets",
          "🟩 continuously pretrained",
          "🔶 fine-tuned on domain-specific datasets",
          "🔶 fine-tuned on domain-specific datasets",
          "🔶 fine-tuned on domain-specific datasets",
          "🔶 fine-tuned on domain-specific datasets",
          "🔶 fine-tuned on domain-specific datasets",
          "🔶 fine-tuned on domain-specific datasets",
          "🔶 fine-tuned on domain-specific datasets",
          "🔶 fine-tuned on domain-specific datasets",
          "🔶 fine-tuned on domain-specific datasets",
          "🔶 fine-tuned on domain-specific datasets",
          "🔶 fine-tuned on domain-specific datasets",
          "🤝 base merges and moerges",
          "🔶 fine-tuned on domain-specific datasets",
          "🔶 fine-tuned on domain-specific datasets",
          "🔶 fine-tuned on domain-specific datasets",
          "🔶 fine-tuned on domain-specific datasets",
          "🔶 fine-tuned on domain-specific datasets",
          "🔶 fine-tuned on domain-specific datasets",
          "🔶 fine-tuned on domain-specific datasets",
          "🔶 fine-tuned on domain-specific datasets",
          "🔶 fine-tuned on domain-specific datasets",
          "🔶 fine-tuned on domain-specific datasets",
          "🔶 fine-tuned on domain-specific datasets",
          "🔶 fine-tuned on domain-specific datasets",
          "🤝 base merges and moerges",
          "🔶 fine-tuned on domain-specific datasets",
          "🔶 fine-tuned on domain-specific datasets",
          "🔶 fine-tuned on domain-specific datasets",
          "🔶 fine-tuned on domain-specific datasets",
          "🔶 fine-tuned on domain-specific datasets",
          "🔶 fine-tuned on domain-specific datasets",
          "🔶 fine-tuned on domain-specific datasets",
          "💬 chat models (RLHF, DPO, IFT, ...)",
          "🔶 fine-tuned on domain-specific datasets",
          "🤝 base merges and moerges",
          "🤝 base merges and moerges",
          "🤝 base merges and moerges",
          "🤝 base merges and moerges",
          "🤝 base merges and moerges",
          "🔶 fine-tuned on domain-specific datasets",
          "🤝 base merges and moerges",
          "🤝 base merges and moerges",
          "🤝 base merges and moerges",
          "🔶 fine-tuned on domain-specific datasets",
          "🔶 fine-tuned on domain-specific datasets",
          "🔶 fine-tuned on domain-specific datasets",
          "🔶 fine-tuned on domain-specific datasets",
          "🔶 fine-tuned on domain-specific datasets",
          "🔶 fine-tuned on domain-specific datasets",
          "🔶 fine-tuned on domain-specific datasets",
          "🔶 fine-tuned on domain-specific datasets",
          "🔶 fine-tuned on domain-specific datasets",
          "🔶 fine-tuned on domain-specific datasets",
          "🔶 fine-tuned on domain-specific datasets",
          "🔶 fine-tuned on domain-specific datasets",
          "🔶 fine-tuned on domain-specific datasets",
          "🔶 fine-tuned on domain-specific datasets",
          "🔶 fine-tuned on domain-specific datasets",
          "💬 chat models (RLHF, DPO, IFT, ...)",
          "💬 chat models (RLHF, DPO, IFT, ...)",
          "💬 chat models (RLHF, DPO, IFT, ...)",
          "💬 chat models (RLHF, DPO, IFT, ...)",
          "🔶 fine-tuned on domain-specific datasets",
          "🔶 fine-tuned on domain-specific datasets",
          "🔶 fine-tuned on domain-specific datasets",
          "🔶 fine-tuned on domain-specific datasets",
          "🔶 fine-tuned on domain-specific datasets",
          "🔶 fine-tuned on domain-specific datasets",
          "🔶 fine-tuned on domain-specific datasets",
          "🤝 base merges and moerges",
          "🔶 fine-tuned on domain-specific datasets",
          "🟢 pretrained",
          "🟢 pretrained",
          "🟢 pretrained",
          "🤝 base merges and moerges",
          "🤝 base merges and moerges",
          "🤝 base merges and moerges",
          "🤝 base merges and moerges",
          "🔶 fine-tuned on domain-specific datasets",
          "💬 chat models (RLHF, DPO, IFT, ...)",
          "🟢 pretrained",
          "🟢 pretrained",
          "🔶 fine-tuned on domain-specific datasets",
          "💬 chat models (RLHF, DPO, IFT, ...)",
          "💬 chat models (RLHF, DPO, IFT, ...)",
          "🤝 base merges and moerges",
          "💬 chat models (RLHF, DPO, IFT, ...)",
          "🔶 fine-tuned on domain-specific datasets",
          "🤝 base merges and moerges",
          "🤝 base merges and moerges",
          "🟢 pretrained",
          "🟢 pretrained",
          "🟢 pretrained",
          "🟢 pretrained",
          "🟢 pretrained",
          "🔶 fine-tuned on domain-specific datasets",
          "🔶 fine-tuned on domain-specific datasets",
          "💬 chat models (RLHF, DPO, IFT, ...)",
          "🔶 fine-tuned on domain-specific datasets",
          "💬 chat models (RLHF, DPO, IFT, ...)",
          "🔶 fine-tuned on domain-specific datasets",
          "🔶 fine-tuned on domain-specific datasets",
          "🟩 continuously pretrained",
          "🤝 base merges and moerges",
          "🤝 base merges and moerges",
          "🤝 base merges and moerges",
          "🤝 base merges and moerges",
          "🤝 base merges and moerges",
          "🔶 fine-tuned on domain-specific datasets",
          "🔶 fine-tuned on domain-specific datasets",
          "🔶 fine-tuned on domain-specific datasets",
          "🔶 fine-tuned on domain-specific datasets",
          "🔶 fine-tuned on domain-specific datasets",
          "🔶 fine-tuned on domain-specific datasets",
          "🔶 fine-tuned on domain-specific datasets",
          "🔶 fine-tuned on domain-specific datasets",
          "🔶 fine-tuned on domain-specific datasets",
          "🔶 fine-tuned on domain-specific datasets",
          "🔶 fine-tuned on domain-specific datasets",
          "🔶 fine-tuned on domain-specific datasets",
          "🔶 fine-tuned on domain-specific datasets",
          "🔶 fine-tuned on domain-specific datasets",
          "🤝 base merges and moerges",
          "🟢 pretrained",
          "🟢 pretrained",
          "🔶 fine-tuned on domain-specific datasets",
          "🔶 fine-tuned on domain-specific datasets",
          "🔶 fine-tuned on domain-specific datasets",
          "🟩 continuously pretrained",
          "🔶 fine-tuned on domain-specific datasets",
          "🟩 continuously pretrained",
          "💬 chat models (RLHF, DPO, IFT, ...)",
          "🔶 fine-tuned on domain-specific datasets",
          "🟩 continuously pretrained",
          "🔶 fine-tuned on domain-specific datasets",
          "🔶 fine-tuned on domain-specific datasets",
          "💬 chat models (RLHF, DPO, IFT, ...)",
          "💬 chat models (RLHF, DPO, IFT, ...)",
          "💬 chat models (RLHF, DPO, IFT, ...)",
          "💬 chat models (RLHF, DPO, IFT, ...)",
          "💬 chat models (RLHF, DPO, IFT, ...)",
          "💬 chat models (RLHF, DPO, IFT, ...)",
          "💬 chat models (RLHF, DPO, IFT, ...)",
          "💬 chat models (RLHF, DPO, IFT, ...)",
          "💬 chat models (RLHF, DPO, IFT, ...)",
          "💬 chat models (RLHF, DPO, IFT, ...)",
          "💬 chat models (RLHF, DPO, IFT, ...)",
          "💬 chat models (RLHF, DPO, IFT, ...)",
          "💬 chat models (RLHF, DPO, IFT, ...)",
          "💬 chat models (RLHF, DPO, IFT, ...)",
          "💬 chat models (RLHF, DPO, IFT, ...)",
          "💬 chat models (RLHF, DPO, IFT, ...)",
          "💬 chat models (RLHF, DPO, IFT, ...)",
          "💬 chat models (RLHF, DPO, IFT, ...)",
          "💬 chat models (RLHF, DPO, IFT, ...)",
          "💬 chat models (RLHF, DPO, IFT, ...)",
          "💬 chat models (RLHF, DPO, IFT, ...)",
          "💬 chat models (RLHF, DPO, IFT, ...)",
          "💬 chat models (RLHF, DPO, IFT, ...)",
          "💬 chat models (RLHF, DPO, IFT, ...)",
          "💬 chat models (RLHF, DPO, IFT, ...)",
          "💬 chat models (RLHF, DPO, IFT, ...)",
          "💬 chat models (RLHF, DPO, IFT, ...)",
          "💬 chat models (RLHF, DPO, IFT, ...)",
          "💬 chat models (RLHF, DPO, IFT, ...)",
          "💬 chat models (RLHF, DPO, IFT, ...)",
          "💬 chat models (RLHF, DPO, IFT, ...)",
          "💬 chat models (RLHF, DPO, IFT, ...)",
          "💬 chat models (RLHF, DPO, IFT, ...)",
          "💬 chat models (RLHF, DPO, IFT, ...)",
          "💬 chat models (RLHF, DPO, IFT, ...)",
          "💬 chat models (RLHF, DPO, IFT, ...)",
          "💬 chat models (RLHF, DPO, IFT, ...)",
          "💬 chat models (RLHF, DPO, IFT, ...)",
          "💬 chat models (RLHF, DPO, IFT, ...)",
          "💬 chat models (RLHF, DPO, IFT, ...)",
          "💬 chat models (RLHF, DPO, IFT, ...)",
          "💬 chat models (RLHF, DPO, IFT, ...)",
          "🟢 pretrained",
          "🟢 pretrained",
          "💬 chat models (RLHF, DPO, IFT, ...)",
          "💬 chat models (RLHF, DPO, IFT, ...)",
          "🟩 continuously pretrained",
          "🟩 continuously pretrained",
          "🔶 fine-tuned on domain-specific datasets",
          "💬 chat models (RLHF, DPO, IFT, ...)",
          "💬 chat models (RLHF, DPO, IFT, ...)",
          "💬 chat models (RLHF, DPO, IFT, ...)",
          "💬 chat models (RLHF, DPO, IFT, ...)",
          "💬 chat models (RLHF, DPO, IFT, ...)",
          "🔶 fine-tuned on domain-specific datasets",
          "💬 chat models (RLHF, DPO, IFT, ...)",
          "🤝 base merges and moerges",
          "💬 chat models (RLHF, DPO, IFT, ...)",
          "💬 chat models (RLHF, DPO, IFT, ...)",
          "🤝 base merges and moerges",
          "💬 chat models (RLHF, DPO, IFT, ...)",
          "🤝 base merges and moerges",
          "🤝 base merges and moerges",
          "💬 chat models (RLHF, DPO, IFT, ...)",
          "💬 chat models (RLHF, DPO, IFT, ...)",
          "🌸 multimodal",
          "🔶 fine-tuned on domain-specific datasets",
          "🔶 fine-tuned on domain-specific datasets",
          "🔶 fine-tuned on domain-specific datasets",
          "🤝 base merges and moerges",
          "🔶 fine-tuned on domain-specific datasets",
          "🔶 fine-tuned on domain-specific datasets",
          "🔶 fine-tuned on domain-specific datasets",
          "🔶 fine-tuned on domain-specific datasets",
          "🔶 fine-tuned on domain-specific datasets",
          "🔶 fine-tuned on domain-specific datasets",
          "🔶 fine-tuned on domain-specific datasets",
          "🤝 base merges and moerges",
          "🔶 fine-tuned on domain-specific datasets",
          "🔶 fine-tuned on domain-specific datasets",
          "🔶 fine-tuned on domain-specific datasets",
          "🤝 base merges and moerges",
          "🔶 fine-tuned on domain-specific datasets",
          "💬 chat models (RLHF, DPO, IFT, ...)",
          "🤝 base merges and moerges",
          "🔶 fine-tuned on domain-specific datasets",
          "💬 chat models (RLHF, DPO, IFT, ...)",
          "💬 chat models (RLHF, DPO, IFT, ...)",
          "🤝 base merges and moerges",
          "🔶 fine-tuned on domain-specific datasets",
          "🔶 fine-tuned on domain-specific datasets",
          "🤝 base merges and moerges",
          "💬 chat models (RLHF, DPO, IFT, ...)",
          "💬 chat models (RLHF, DPO, IFT, ...)",
          "💬 chat models (RLHF, DPO, IFT, ...)",
          "🔶 fine-tuned on domain-specific datasets",
          "🔶 fine-tuned on domain-specific datasets",
          "🔶 fine-tuned on domain-specific datasets",
          "🔶 fine-tuned on domain-specific datasets",
          "🔶 fine-tuned on domain-specific datasets",
          "🔶 fine-tuned on domain-specific datasets",
          "🤝 base merges and moerges",
          "🤝 base merges and moerges",
          "🤝 base merges and moerges",
          "🤝 base merges and moerges",
          "🟩 continuously pretrained",
          "💬 chat models (RLHF, DPO, IFT, ...)",
          "🤝 base merges and moerges",
          "🔶 fine-tuned on domain-specific datasets",
          "🔶 fine-tuned on domain-specific datasets",
          "💬 chat models (RLHF, DPO, IFT, ...)",
          "💬 chat models (RLHF, DPO, IFT, ...)",
          "💬 chat models (RLHF, DPO, IFT, ...)",
          "💬 chat models (RLHF, DPO, IFT, ...)",
          "💬 chat models (RLHF, DPO, IFT, ...)",
          "💬 chat models (RLHF, DPO, IFT, ...)",
          "🤝 base merges and moerges",
          "🟩 continuously pretrained",
          "💬 chat models (RLHF, DPO, IFT, ...)",
          "💬 chat models (RLHF, DPO, IFT, ...)",
          "💬 chat models (RLHF, DPO, IFT, ...)",
          "💬 chat models (RLHF, DPO, IFT, ...)",
          "🔶 fine-tuned on domain-specific datasets",
          "🔶 fine-tuned on domain-specific datasets",
          "🔶 fine-tuned on domain-specific datasets",
          "🔶 fine-tuned on domain-specific datasets",
          "🔶 fine-tuned on domain-specific datasets",
          "🔶 fine-tuned on domain-specific datasets",
          "💬 chat models (RLHF, DPO, IFT, ...)",
          "🔶 fine-tuned on domain-specific datasets",
          "🟢 pretrained",
          "💬 chat models (RLHF, DPO, IFT, ...)",
          "🟢 pretrained",
          "💬 chat models (RLHF, DPO, IFT, ...)",
          "💬 chat models (RLHF, DPO, IFT, ...)",
          "🟢 pretrained",
          "💬 chat models (RLHF, DPO, IFT, ...)",
          "💬 chat models (RLHF, DPO, IFT, ...)",
          "🔶 fine-tuned on domain-specific datasets",
          "🤝 base merges and moerges",
          "🔶 fine-tuned on domain-specific datasets",
          "💬 chat models (RLHF, DPO, IFT, ...)",
          "🔶 fine-tuned on domain-specific datasets",
          "🤝 base merges and moerges",
          "🔶 fine-tuned on domain-specific datasets",
          "🔶 fine-tuned on domain-specific datasets",
          "💬 chat models (RLHF, DPO, IFT, ...)",
          "💬 chat models (RLHF, DPO, IFT, ...)",
          "💬 chat models (RLHF, DPO, IFT, ...)",
          "💬 chat models (RLHF, DPO, IFT, ...)",
          "🔶 fine-tuned on domain-specific datasets",
          "🔶 fine-tuned on domain-specific datasets",
          "💬 chat models (RLHF, DPO, IFT, ...)",
          "💬 chat models (RLHF, DPO, IFT, ...)",
          "🔶 fine-tuned on domain-specific datasets",
          "🟢 pretrained",
          "💬 chat models (RLHF, DPO, IFT, ...)",
          "🔶 fine-tuned on domain-specific datasets",
          "🔶 fine-tuned on domain-specific datasets",
          "🔶 fine-tuned on domain-specific datasets",
          "🔶 fine-tuned on domain-specific datasets",
          "🔶 fine-tuned on domain-specific datasets",
          "🔶 fine-tuned on domain-specific datasets",
          "🤝 base merges and moerges",
          "🔶 fine-tuned on domain-specific datasets",
          "🔶 fine-tuned on domain-specific datasets",
          "🔶 fine-tuned on domain-specific datasets",
          "🔶 fine-tuned on domain-specific datasets",
          "🔶 fine-tuned on domain-specific datasets",
          "🔶 fine-tuned on domain-specific datasets",
          "🤝 base merges and moerges",
          "🔶 fine-tuned on domain-specific datasets",
          "🔶 fine-tuned on domain-specific datasets",
          "🔶 fine-tuned on domain-specific datasets",
          "🔶 fine-tuned on domain-specific datasets",
          "🔶 fine-tuned on domain-specific datasets",
          "🔶 fine-tuned on domain-specific datasets",
          "💬 chat models (RLHF, DPO, IFT, ...)",
          "🟢 pretrained",
          "🟢 pretrained",
          "💬 chat models (RLHF, DPO, IFT, ...)",
          "🟢 pretrained",
          "💬 chat models (RLHF, DPO, IFT, ...)",
          "🟢 pretrained",
          "🟢 pretrained",
          "🔶 fine-tuned on domain-specific datasets",
          "🔶 fine-tuned on domain-specific datasets",
          "🔶 fine-tuned on domain-specific datasets",
          "🔶 fine-tuned on domain-specific datasets",
          "🟢 pretrained",
          "🔶 fine-tuned on domain-specific datasets",
          "🔶 fine-tuned on domain-specific datasets",
          "🟢 pretrained",
          "🔶 fine-tuned on domain-specific datasets",
          "🔶 fine-tuned on domain-specific datasets",
          "🔶 fine-tuned on domain-specific datasets",
          "💬 chat models (RLHF, DPO, IFT, ...)",
          "🟢 pretrained",
          "💬 chat models (RLHF, DPO, IFT, ...)",
          "🔶 fine-tuned on domain-specific datasets",
          "🔶 fine-tuned on domain-specific datasets",
          "🔶 fine-tuned on domain-specific datasets",
          "🔶 fine-tuned on domain-specific datasets",
          "🔶 fine-tuned on domain-specific datasets",
          "🔶 fine-tuned on domain-specific datasets",
          "🔶 fine-tuned on domain-specific datasets",
          "💬 chat models (RLHF, DPO, IFT, ...)",
          "🤝 base merges and moerges",
          "💬 chat models (RLHF, DPO, IFT, ...)",
          "🤝 base merges and moerges",
          "💬 chat models (RLHF, DPO, IFT, ...)",
          "🤝 base merges and moerges",
          "🤝 base merges and moerges",
          "💬 chat models (RLHF, DPO, IFT, ...)",
          "💬 chat models (RLHF, DPO, IFT, ...)",
          "🔶 fine-tuned on domain-specific datasets",
          "💬 chat models (RLHF, DPO, IFT, ...)",
          "💬 chat models (RLHF, DPO, IFT, ...)",
          "💬 chat models (RLHF, DPO, IFT, ...)",
          "💬 chat models (RLHF, DPO, IFT, ...)",
          "💬 chat models (RLHF, DPO, IFT, ...)",
          "💬 chat models (RLHF, DPO, IFT, ...)",
          "🤝 base merges and moerges",
          "🤝 base merges and moerges",
          "💬 chat models (RLHF, DPO, IFT, ...)",
          "🔶 fine-tuned on domain-specific datasets",
          "🟢 pretrained",
          "🔶 fine-tuned on domain-specific datasets",
          "🔶 fine-tuned on domain-specific datasets",
          "🔶 fine-tuned on domain-specific datasets",
          "🔶 fine-tuned on domain-specific datasets",
          "🔶 fine-tuned on domain-specific datasets",
          "🔶 fine-tuned on domain-specific datasets",
          "💬 chat models (RLHF, DPO, IFT, ...)",
          "🤝 base merges and moerges",
          "🤝 base merges and moerges",
          "🤝 base merges and moerges",
          "🤝 base merges and moerges",
          "🤝 base merges and moerges",
          "💬 chat models (RLHF, DPO, IFT, ...)",
          "🤝 base merges and moerges",
          "🤝 base merges and moerges",
          "🔶 fine-tuned on domain-specific datasets",
          "🔶 fine-tuned on domain-specific datasets",
          "🔶 fine-tuned on domain-specific datasets",
          "🔶 fine-tuned on domain-specific datasets",
          "🔶 fine-tuned on domain-specific datasets",
          "🔶 fine-tuned on domain-specific datasets",
          "🔶 fine-tuned on domain-specific datasets",
          "🔶 fine-tuned on domain-specific datasets",
          "🔶 fine-tuned on domain-specific datasets",
          "💬 chat models (RLHF, DPO, IFT, ...)",
          "💬 chat models (RLHF, DPO, IFT, ...)",
          "💬 chat models (RLHF, DPO, IFT, ...)",
          "💬 chat models (RLHF, DPO, IFT, ...)",
          "💬 chat models (RLHF, DPO, IFT, ...)",
          "💬 chat models (RLHF, DPO, IFT, ...)",
          "💬 chat models (RLHF, DPO, IFT, ...)",
          "💬 chat models (RLHF, DPO, IFT, ...)",
          "💬 chat models (RLHF, DPO, IFT, ...)",
          "💬 chat models (RLHF, DPO, IFT, ...)",
          "💬 chat models (RLHF, DPO, IFT, ...)",
          "💬 chat models (RLHF, DPO, IFT, ...)",
          "💬 chat models (RLHF, DPO, IFT, ...)",
          "💬 chat models (RLHF, DPO, IFT, ...)",
          "💬 chat models (RLHF, DPO, IFT, ...)",
          "💬 chat models (RLHF, DPO, IFT, ...)",
          "🤝 base merges and moerges",
          "💬 chat models (RLHF, DPO, IFT, ...)",
          "🔶 fine-tuned on domain-specific datasets",
          "🔶 fine-tuned on domain-specific datasets",
          "🟩 continuously pretrained",
          "🔶 fine-tuned on domain-specific datasets",
          "💬 chat models (RLHF, DPO, IFT, ...)",
          "💬 chat models (RLHF, DPO, IFT, ...)",
          "💬 chat models (RLHF, DPO, IFT, ...)",
          "💬 chat models (RLHF, DPO, IFT, ...)",
          "💬 chat models (RLHF, DPO, IFT, ...)",
          "💬 chat models (RLHF, DPO, IFT, ...)",
          "💬 chat models (RLHF, DPO, IFT, ...)",
          "💬 chat models (RLHF, DPO, IFT, ...)",
          "💬 chat models (RLHF, DPO, IFT, ...)",
          "💬 chat models (RLHF, DPO, IFT, ...)",
          "🤝 base merges and moerges",
          "🔶 fine-tuned on domain-specific datasets",
          "🔶 fine-tuned on domain-specific datasets",
          "🔶 fine-tuned on domain-specific datasets",
          "🔶 fine-tuned on domain-specific datasets",
          "🔶 fine-tuned on domain-specific datasets",
          "🔶 fine-tuned on domain-specific datasets",
          "🔶 fine-tuned on domain-specific datasets",
          "🔶 fine-tuned on domain-specific datasets",
          "🔶 fine-tuned on domain-specific datasets",
          "💬 chat models (RLHF, DPO, IFT, ...)",
          "🤝 base merges and moerges",
          "🤝 base merges and moerges",
          "🔶 fine-tuned on domain-specific datasets",
          "🤝 base merges and moerges",
          "🤝 base merges and moerges",
          "🤝 base merges and moerges",
          "🤝 base merges and moerges",
          "🤝 base merges and moerges",
          "🤝 base merges and moerges",
          "🤝 base merges and moerges",
          "🤝 base merges and moerges",
          "🤝 base merges and moerges",
          "🤝 base merges and moerges",
          "🤝 base merges and moerges",
          "🤝 base merges and moerges",
          "🤝 base merges and moerges",
          "🤝 base merges and moerges",
          "🤝 base merges and moerges",
          "🤝 base merges and moerges",
          "🤝 base merges and moerges",
          "🤝 base merges and moerges",
          "🤝 base merges and moerges",
          "🤝 base merges and moerges",
          "🤝 base merges and moerges",
          "🤝 base merges and moerges",
          "🤝 base merges and moerges",
          "🤝 base merges and moerges",
          "🤝 base merges and moerges",
          "🤝 base merges and moerges",
          "🤝 base merges and moerges",
          "🔶 fine-tuned on domain-specific datasets",
          "🔶 fine-tuned on domain-specific datasets"
         ],
         "xaxis": "x",
         "yaxis": "y"
        }
       ],
       "layout": {
        "barmode": "relative",
        "legend": {
         "tracegroupgap": 0
        },
        "template": {
         "data": {
          "bar": [
           {
            "error_x": {
             "color": "#2a3f5f"
            },
            "error_y": {
             "color": "#2a3f5f"
            },
            "marker": {
             "line": {
              "color": "#E5ECF6",
              "width": 0.5
             },
             "pattern": {
              "fillmode": "overlay",
              "size": 10,
              "solidity": 0.2
             }
            },
            "type": "bar"
           }
          ],
          "barpolar": [
           {
            "marker": {
             "line": {
              "color": "#E5ECF6",
              "width": 0.5
             },
             "pattern": {
              "fillmode": "overlay",
              "size": 10,
              "solidity": 0.2
             }
            },
            "type": "barpolar"
           }
          ],
          "carpet": [
           {
            "aaxis": {
             "endlinecolor": "#2a3f5f",
             "gridcolor": "white",
             "linecolor": "white",
             "minorgridcolor": "white",
             "startlinecolor": "#2a3f5f"
            },
            "baxis": {
             "endlinecolor": "#2a3f5f",
             "gridcolor": "white",
             "linecolor": "white",
             "minorgridcolor": "white",
             "startlinecolor": "#2a3f5f"
            },
            "type": "carpet"
           }
          ],
          "choropleth": [
           {
            "colorbar": {
             "outlinewidth": 0,
             "ticks": ""
            },
            "type": "choropleth"
           }
          ],
          "contour": [
           {
            "colorbar": {
             "outlinewidth": 0,
             "ticks": ""
            },
            "colorscale": [
             [
              0,
              "#0d0887"
             ],
             [
              0.1111111111111111,
              "#46039f"
             ],
             [
              0.2222222222222222,
              "#7201a8"
             ],
             [
              0.3333333333333333,
              "#9c179e"
             ],
             [
              0.4444444444444444,
              "#bd3786"
             ],
             [
              0.5555555555555556,
              "#d8576b"
             ],
             [
              0.6666666666666666,
              "#ed7953"
             ],
             [
              0.7777777777777778,
              "#fb9f3a"
             ],
             [
              0.8888888888888888,
              "#fdca26"
             ],
             [
              1,
              "#f0f921"
             ]
            ],
            "type": "contour"
           }
          ],
          "contourcarpet": [
           {
            "colorbar": {
             "outlinewidth": 0,
             "ticks": ""
            },
            "type": "contourcarpet"
           }
          ],
          "heatmap": [
           {
            "colorbar": {
             "outlinewidth": 0,
             "ticks": ""
            },
            "colorscale": [
             [
              0,
              "#0d0887"
             ],
             [
              0.1111111111111111,
              "#46039f"
             ],
             [
              0.2222222222222222,
              "#7201a8"
             ],
             [
              0.3333333333333333,
              "#9c179e"
             ],
             [
              0.4444444444444444,
              "#bd3786"
             ],
             [
              0.5555555555555556,
              "#d8576b"
             ],
             [
              0.6666666666666666,
              "#ed7953"
             ],
             [
              0.7777777777777778,
              "#fb9f3a"
             ],
             [
              0.8888888888888888,
              "#fdca26"
             ],
             [
              1,
              "#f0f921"
             ]
            ],
            "type": "heatmap"
           }
          ],
          "heatmapgl": [
           {
            "colorbar": {
             "outlinewidth": 0,
             "ticks": ""
            },
            "colorscale": [
             [
              0,
              "#0d0887"
             ],
             [
              0.1111111111111111,
              "#46039f"
             ],
             [
              0.2222222222222222,
              "#7201a8"
             ],
             [
              0.3333333333333333,
              "#9c179e"
             ],
             [
              0.4444444444444444,
              "#bd3786"
             ],
             [
              0.5555555555555556,
              "#d8576b"
             ],
             [
              0.6666666666666666,
              "#ed7953"
             ],
             [
              0.7777777777777778,
              "#fb9f3a"
             ],
             [
              0.8888888888888888,
              "#fdca26"
             ],
             [
              1,
              "#f0f921"
             ]
            ],
            "type": "heatmapgl"
           }
          ],
          "histogram": [
           {
            "marker": {
             "pattern": {
              "fillmode": "overlay",
              "size": 10,
              "solidity": 0.2
             }
            },
            "type": "histogram"
           }
          ],
          "histogram2d": [
           {
            "colorbar": {
             "outlinewidth": 0,
             "ticks": ""
            },
            "colorscale": [
             [
              0,
              "#0d0887"
             ],
             [
              0.1111111111111111,
              "#46039f"
             ],
             [
              0.2222222222222222,
              "#7201a8"
             ],
             [
              0.3333333333333333,
              "#9c179e"
             ],
             [
              0.4444444444444444,
              "#bd3786"
             ],
             [
              0.5555555555555556,
              "#d8576b"
             ],
             [
              0.6666666666666666,
              "#ed7953"
             ],
             [
              0.7777777777777778,
              "#fb9f3a"
             ],
             [
              0.8888888888888888,
              "#fdca26"
             ],
             [
              1,
              "#f0f921"
             ]
            ],
            "type": "histogram2d"
           }
          ],
          "histogram2dcontour": [
           {
            "colorbar": {
             "outlinewidth": 0,
             "ticks": ""
            },
            "colorscale": [
             [
              0,
              "#0d0887"
             ],
             [
              0.1111111111111111,
              "#46039f"
             ],
             [
              0.2222222222222222,
              "#7201a8"
             ],
             [
              0.3333333333333333,
              "#9c179e"
             ],
             [
              0.4444444444444444,
              "#bd3786"
             ],
             [
              0.5555555555555556,
              "#d8576b"
             ],
             [
              0.6666666666666666,
              "#ed7953"
             ],
             [
              0.7777777777777778,
              "#fb9f3a"
             ],
             [
              0.8888888888888888,
              "#fdca26"
             ],
             [
              1,
              "#f0f921"
             ]
            ],
            "type": "histogram2dcontour"
           }
          ],
          "mesh3d": [
           {
            "colorbar": {
             "outlinewidth": 0,
             "ticks": ""
            },
            "type": "mesh3d"
           }
          ],
          "parcoords": [
           {
            "line": {
             "colorbar": {
              "outlinewidth": 0,
              "ticks": ""
             }
            },
            "type": "parcoords"
           }
          ],
          "pie": [
           {
            "automargin": true,
            "type": "pie"
           }
          ],
          "scatter": [
           {
            "fillpattern": {
             "fillmode": "overlay",
             "size": 10,
             "solidity": 0.2
            },
            "type": "scatter"
           }
          ],
          "scatter3d": [
           {
            "line": {
             "colorbar": {
              "outlinewidth": 0,
              "ticks": ""
             }
            },
            "marker": {
             "colorbar": {
              "outlinewidth": 0,
              "ticks": ""
             }
            },
            "type": "scatter3d"
           }
          ],
          "scattercarpet": [
           {
            "marker": {
             "colorbar": {
              "outlinewidth": 0,
              "ticks": ""
             }
            },
            "type": "scattercarpet"
           }
          ],
          "scattergeo": [
           {
            "marker": {
             "colorbar": {
              "outlinewidth": 0,
              "ticks": ""
             }
            },
            "type": "scattergeo"
           }
          ],
          "scattergl": [
           {
            "marker": {
             "colorbar": {
              "outlinewidth": 0,
              "ticks": ""
             }
            },
            "type": "scattergl"
           }
          ],
          "scattermapbox": [
           {
            "marker": {
             "colorbar": {
              "outlinewidth": 0,
              "ticks": ""
             }
            },
            "type": "scattermapbox"
           }
          ],
          "scatterpolar": [
           {
            "marker": {
             "colorbar": {
              "outlinewidth": 0,
              "ticks": ""
             }
            },
            "type": "scatterpolar"
           }
          ],
          "scatterpolargl": [
           {
            "marker": {
             "colorbar": {
              "outlinewidth": 0,
              "ticks": ""
             }
            },
            "type": "scatterpolargl"
           }
          ],
          "scatterternary": [
           {
            "marker": {
             "colorbar": {
              "outlinewidth": 0,
              "ticks": ""
             }
            },
            "type": "scatterternary"
           }
          ],
          "surface": [
           {
            "colorbar": {
             "outlinewidth": 0,
             "ticks": ""
            },
            "colorscale": [
             [
              0,
              "#0d0887"
             ],
             [
              0.1111111111111111,
              "#46039f"
             ],
             [
              0.2222222222222222,
              "#7201a8"
             ],
             [
              0.3333333333333333,
              "#9c179e"
             ],
             [
              0.4444444444444444,
              "#bd3786"
             ],
             [
              0.5555555555555556,
              "#d8576b"
             ],
             [
              0.6666666666666666,
              "#ed7953"
             ],
             [
              0.7777777777777778,
              "#fb9f3a"
             ],
             [
              0.8888888888888888,
              "#fdca26"
             ],
             [
              1,
              "#f0f921"
             ]
            ],
            "type": "surface"
           }
          ],
          "table": [
           {
            "cells": {
             "fill": {
              "color": "#EBF0F8"
             },
             "line": {
              "color": "white"
             }
            },
            "header": {
             "fill": {
              "color": "#C8D4E3"
             },
             "line": {
              "color": "white"
             }
            },
            "type": "table"
           }
          ]
         },
         "layout": {
          "annotationdefaults": {
           "arrowcolor": "#2a3f5f",
           "arrowhead": 0,
           "arrowwidth": 1
          },
          "autotypenumbers": "strict",
          "coloraxis": {
           "colorbar": {
            "outlinewidth": 0,
            "ticks": ""
           }
          },
          "colorscale": {
           "diverging": [
            [
             0,
             "#8e0152"
            ],
            [
             0.1,
             "#c51b7d"
            ],
            [
             0.2,
             "#de77ae"
            ],
            [
             0.3,
             "#f1b6da"
            ],
            [
             0.4,
             "#fde0ef"
            ],
            [
             0.5,
             "#f7f7f7"
            ],
            [
             0.6,
             "#e6f5d0"
            ],
            [
             0.7,
             "#b8e186"
            ],
            [
             0.8,
             "#7fbc41"
            ],
            [
             0.9,
             "#4d9221"
            ],
            [
             1,
             "#276419"
            ]
           ],
           "sequential": [
            [
             0,
             "#0d0887"
            ],
            [
             0.1111111111111111,
             "#46039f"
            ],
            [
             0.2222222222222222,
             "#7201a8"
            ],
            [
             0.3333333333333333,
             "#9c179e"
            ],
            [
             0.4444444444444444,
             "#bd3786"
            ],
            [
             0.5555555555555556,
             "#d8576b"
            ],
            [
             0.6666666666666666,
             "#ed7953"
            ],
            [
             0.7777777777777778,
             "#fb9f3a"
            ],
            [
             0.8888888888888888,
             "#fdca26"
            ],
            [
             1,
             "#f0f921"
            ]
           ],
           "sequentialminus": [
            [
             0,
             "#0d0887"
            ],
            [
             0.1111111111111111,
             "#46039f"
            ],
            [
             0.2222222222222222,
             "#7201a8"
            ],
            [
             0.3333333333333333,
             "#9c179e"
            ],
            [
             0.4444444444444444,
             "#bd3786"
            ],
            [
             0.5555555555555556,
             "#d8576b"
            ],
            [
             0.6666666666666666,
             "#ed7953"
            ],
            [
             0.7777777777777778,
             "#fb9f3a"
            ],
            [
             0.8888888888888888,
             "#fdca26"
            ],
            [
             1,
             "#f0f921"
            ]
           ]
          },
          "colorway": [
           "#636efa",
           "#EF553B",
           "#00cc96",
           "#ab63fa",
           "#FFA15A",
           "#19d3f3",
           "#FF6692",
           "#B6E880",
           "#FF97FF",
           "#FECB52"
          ],
          "font": {
           "color": "#2a3f5f"
          },
          "geo": {
           "bgcolor": "white",
           "lakecolor": "white",
           "landcolor": "#E5ECF6",
           "showlakes": true,
           "showland": true,
           "subunitcolor": "white"
          },
          "hoverlabel": {
           "align": "left"
          },
          "hovermode": "closest",
          "mapbox": {
           "style": "light"
          },
          "paper_bgcolor": "white",
          "plot_bgcolor": "#E5ECF6",
          "polar": {
           "angularaxis": {
            "gridcolor": "white",
            "linecolor": "white",
            "ticks": ""
           },
           "bgcolor": "#E5ECF6",
           "radialaxis": {
            "gridcolor": "white",
            "linecolor": "white",
            "ticks": ""
           }
          },
          "scene": {
           "xaxis": {
            "backgroundcolor": "#E5ECF6",
            "gridcolor": "white",
            "gridwidth": 2,
            "linecolor": "white",
            "showbackground": true,
            "ticks": "",
            "zerolinecolor": "white"
           },
           "yaxis": {
            "backgroundcolor": "#E5ECF6",
            "gridcolor": "white",
            "gridwidth": 2,
            "linecolor": "white",
            "showbackground": true,
            "ticks": "",
            "zerolinecolor": "white"
           },
           "zaxis": {
            "backgroundcolor": "#E5ECF6",
            "gridcolor": "white",
            "gridwidth": 2,
            "linecolor": "white",
            "showbackground": true,
            "ticks": "",
            "zerolinecolor": "white"
           }
          },
          "shapedefaults": {
           "line": {
            "color": "#2a3f5f"
           }
          },
          "ternary": {
           "aaxis": {
            "gridcolor": "white",
            "linecolor": "white",
            "ticks": ""
           },
           "baxis": {
            "gridcolor": "white",
            "linecolor": "white",
            "ticks": ""
           },
           "bgcolor": "#E5ECF6",
           "caxis": {
            "gridcolor": "white",
            "linecolor": "white",
            "ticks": ""
           }
          },
          "title": {
           "x": 0.05
          },
          "xaxis": {
           "automargin": true,
           "gridcolor": "white",
           "linecolor": "white",
           "ticks": "",
           "title": {
            "standoff": 15
           },
           "zerolinecolor": "white",
           "zerolinewidth": 2
          },
          "yaxis": {
           "automargin": true,
           "gridcolor": "white",
           "linecolor": "white",
           "ticks": "",
           "title": {
            "standoff": 15
           },
           "zerolinecolor": "white",
           "zerolinewidth": 2
          }
         }
        },
        "title": {
         "text": "Distribution des types de modèles"
        },
        "xaxis": {
         "anchor": "y",
         "domain": [
          0,
          1
         ],
         "title": {
          "text": "type"
         }
        },
        "yaxis": {
         "anchor": "x",
         "domain": [
          0,
          1
         ],
         "title": {
          "text": "count"
         }
        }
       }
      }
     },
     "metadata": {},
     "output_type": "display_data"
    }
   ],
   "source": [
    "# distributions des types de modèles\n",
    "fig = px.histogram(df, x=\"type\", nbins=50, title=\"Distribution des types de modèles\")\n",
    "fig.show()"
   ]
  },
  {
   "cell_type": "code",
   "execution_count": 21,
   "metadata": {},
   "outputs": [
    {
     "data": {
      "application/vnd.plotly.v1+json": {
       "config": {
        "plotlyServerURL": "https://plot.ly"
       },
       "data": [
        {
         "alignmentgroup": "True",
         "bingroup": "x",
         "hovertemplate": "params_b=%{x}<br>count=%{y}<extra></extra>",
         "legendgroup": "",
         "marker": {
          "color": "#636efa",
          "pattern": {
           "shape": ""
          }
         },
         "name": "",
         "nbinsx": 50,
         "offsetgroup": "",
         "orientation": "v",
         "showlegend": false,
         "type": "histogram",
         "x": [
          7,
          34,
          34,
          34,
          34,
          6,
          6,
          8,
          8,
          8,
          8,
          34,
          34,
          34,
          6,
          6,
          6,
          8,
          8,
          8,
          68,
          7,
          7,
          8,
          8,
          8,
          8,
          21,
          8,
          8,
          27,
          27,
          9,
          10,
          8,
          6,
          6,
          8,
          39,
          34,
          7,
          12,
          8,
          7,
          2,
          8,
          1,
          1,
          7,
          32,
          8,
          34,
          8,
          9,
          70,
          7,
          70,
          8,
          7,
          7,
          8,
          8,
          7,
          70,
          8,
          7,
          8,
          8,
          0,
          0,
          0,
          0,
          0,
          0,
          0,
          0,
          7,
          7,
          3,
          28,
          8,
          20,
          9,
          8,
          4,
          8,
          8,
          8,
          8,
          8,
          8,
          3,
          7,
          2,
          2,
          2,
          8,
          14,
          34,
          14,
          14,
          8,
          12,
          7,
          34,
          8,
          32,
          8,
          103,
          103,
          34,
          2,
          2,
          2,
          2,
          8,
          8,
          8,
          7,
          34,
          0,
          0,
          0,
          -1,
          6,
          7,
          14,
          14,
          14,
          14,
          14,
          14,
          14,
          14,
          7,
          8,
          13,
          8,
          12,
          8,
          8,
          8,
          8,
          7,
          11,
          8,
          12,
          12,
          12,
          16,
          12,
          7,
          7,
          8,
          1,
          1,
          1,
          1,
          0,
          8,
          0,
          0,
          8,
          8,
          8,
          3,
          7,
          8,
          8,
          8,
          7,
          7,
          8,
          8,
          7,
          9,
          8,
          8,
          8,
          8,
          8,
          8,
          8,
          8,
          8,
          8,
          9,
          8,
          8,
          8,
          8,
          8,
          8,
          8,
          8,
          8,
          8,
          8,
          7,
          6,
          1,
          0,
          2,
          20,
          12,
          0,
          2,
          0,
          6,
          8,
          8,
          8,
          8,
          8,
          12,
          12,
          8,
          12,
          8,
          2,
          2,
          7,
          14,
          12,
          12,
          8,
          8,
          8,
          8,
          8,
          8,
          8,
          8,
          8,
          8,
          8,
          8,
          12,
          3,
          12,
          7,
          12,
          8,
          8,
          8,
          8,
          8,
          8,
          8,
          8,
          8,
          11,
          8,
          8,
          13,
          7,
          7,
          3,
          3,
          8,
          8,
          8,
          7,
          7,
          8,
          8,
          8,
          10,
          0,
          0,
          16,
          16,
          14,
          14,
          7,
          14,
          7,
          12,
          12,
          9,
          8,
          0,
          0,
          1,
          1,
          1,
          14,
          7,
          1,
          9,
          7,
          46,
          8,
          12,
          12,
          12,
          22,
          10,
          20,
          20,
          8,
          8,
          8,
          8,
          24,
          7,
          7,
          8,
          140,
          1,
          1,
          0,
          0,
          0,
          0,
          1,
          1,
          0,
          0,
          0,
          0,
          0,
          0,
          8,
          12,
          7,
          13,
          8,
          7,
          7,
          7,
          7,
          19,
          8,
          8,
          7,
          7,
          3,
          34,
          12,
          12,
          24,
          24,
          12,
          7,
          8,
          8,
          8,
          8,
          8,
          8,
          8,
          8,
          8,
          8,
          2,
          1,
          1,
          1,
          1,
          70,
          70,
          70,
          70,
          1,
          0,
          3,
          24,
          8,
          7,
          8,
          8,
          7,
          7,
          7,
          7,
          1,
          6,
          6,
          8,
          8,
          7,
          65,
          65,
          1,
          14,
          8,
          2,
          1,
          7,
          24,
          7,
          7,
          7,
          7,
          7,
          7,
          7,
          7,
          7,
          7,
          7,
          7,
          7,
          7,
          7,
          7,
          7,
          7,
          7,
          7,
          2,
          2,
          7,
          7,
          7,
          7,
          1,
          7,
          3,
          1,
          16,
          3,
          7,
          7,
          7,
          7,
          7,
          3,
          8,
          8,
          8,
          8,
          8,
          8,
          8,
          8,
          8,
          0,
          12,
          12,
          8,
          1,
          3,
          0,
          0,
          8,
          72,
          8,
          8,
          8,
          8,
          8,
          8,
          8,
          8,
          8,
          7,
          7,
          7,
          12,
          12,
          2,
          1,
          24,
          3,
          7,
          1,
          3,
          7,
          24,
          24,
          70,
          8,
          8,
          8,
          14,
          7,
          7,
          70,
          3,
          3,
          72,
          7,
          72,
          77,
          70,
          70,
          3,
          72,
          7,
          72,
          77,
          70,
          70,
          3,
          72,
          7,
          77,
          70,
          7,
          77,
          7,
          7,
          7,
          3,
          3,
          3,
          3,
          3,
          3,
          3,
          3,
          0,
          0,
          0,
          1,
          1,
          27,
          27,
          8,
          8,
          8,
          8,
          34,
          14,
          70,
          7,
          7,
          6,
          8,
          8,
          8,
          13,
          8,
          12,
          8,
          13,
          8,
          22,
          22,
          1,
          3,
          1,
          3,
          8,
          7,
          8,
          70,
          8,
          7,
          46,
          46,
          10,
          6,
          13,
          7,
          7,
          7,
          7,
          10,
          10,
          21,
          15,
          2,
          8,
          10,
          6,
          2,
          2,
          24,
          7,
          12,
          70,
          8,
          8,
          70,
          8,
          8,
          1,
          3,
          46,
          70,
          70,
          14,
          14,
          7,
          34,
          14,
          4,
          56,
          8,
          8,
          8,
          7,
          12,
          8,
          3,
          3,
          3,
          3,
          7,
          12,
          8,
          8,
          8,
          10,
          10,
          7,
          8,
          8,
          8,
          8,
          9,
          7,
          6,
          1,
          0,
          0,
          1,
          1,
          111,
          111,
          14,
          14,
          32,
          32,
          3,
          3,
          7,
          7,
          14,
          14,
          0,
          0,
          1,
          1,
          57,
          57,
          72,
          72,
          7,
          7,
          72,
          7,
          73,
          8,
          0,
          0,
          0,
          1,
          1,
          14,
          14,
          32,
          32,
          3,
          3,
          72,
          72,
          7,
          7,
          14,
          14,
          7,
          7,
          7,
          72,
          7,
          7,
          0,
          7,
          8,
          14,
          7,
          7,
          8,
          8,
          8,
          8,
          8,
          1,
          7,
          7,
          7,
          8,
          12,
          3,
          2,
          2,
          8,
          7,
          7,
          10,
          70,
          70,
          8,
          8,
          8,
          12,
          27,
          7,
          8,
          7,
          33,
          33,
          0,
          3,
          8,
          3,
          2,
          8,
          3,
          8,
          14,
          14,
          14,
          7,
          8,
          12,
          18,
          7,
          7,
          7,
          7,
          7,
          12,
          12,
          3,
          3,
          9,
          9,
          9,
          7,
          7,
          56,
          8,
          8,
          8,
          8,
          22,
          10,
          2,
          8,
          12,
          10,
          12,
          14,
          14,
          14,
          14,
          14,
          8,
          1,
          1,
          1,
          1,
          12,
          12,
          11,
          7,
          7,
          14,
          7,
          9,
          9,
          9,
          8,
          8,
          8,
          8,
          7,
          7,
          7,
          7,
          8,
          7,
          72,
          70,
          8,
          70,
          8,
          1,
          7,
          7,
          2,
          8,
          46,
          12,
          13,
          10,
          2,
          9,
          14,
          14,
          8,
          8,
          16,
          70,
          70,
          70,
          8,
          8,
          8,
          8,
          8,
          8,
          8,
          8,
          3,
          3,
          3,
          8,
          12,
          60,
          34,
          7,
          8,
          8,
          7,
          1,
          10,
          13,
          13,
          70,
          12,
          12,
          12,
          12,
          6,
          8,
          6,
          3,
          9,
          0,
          0,
          0,
          0,
          0,
          1,
          1,
          7,
          0,
          0,
          1,
          0,
          0,
          14,
          7,
          8,
          7,
          7,
          7,
          7,
          15,
          8,
          70,
          72,
          14,
          8,
          34,
          72,
          70,
          46,
          72,
          12,
          15,
          70,
          70,
          8,
          16,
          34,
          7,
          7,
          51,
          12,
          12,
          8,
          16,
          8,
          8,
          8,
          8,
          1,
          7,
          6,
          6,
          6,
          24,
          9,
          9,
          10,
          10,
          7,
          7,
          7,
          7,
          7,
          61,
          7,
          7,
          7,
          11,
          7,
          7,
          19,
          12,
          7,
          12,
          12,
          12,
          12,
          12,
          12,
          12,
          12,
          12,
          7,
          12,
          19,
          7,
          7,
          7,
          7,
          13,
          13,
          13,
          13,
          13,
          13,
          13,
          3,
          16,
          63,
          42,
          7,
          7,
          7,
          7,
          7,
          14,
          7,
          14,
          7,
          14,
          7,
          7,
          7,
          42,
          7,
          25,
          7,
          7,
          34,
          18,
          34,
          34,
          34,
          34,
          12,
          7,
          18,
          39,
          22,
          6,
          7,
          140,
          72,
          34,
          7,
          0,
          0,
          2,
          72,
          12,
          72,
          12,
          27,
          34,
          9,
          9,
          12,
          22,
          27,
          9,
          7,
          72,
          7,
          7,
          8,
          8,
          14,
          3,
          7,
          46,
          8,
          8,
          7,
          7,
          7,
          7,
          7,
          7,
          7,
          12,
          8,
          7,
          7,
          15,
          3,
          7,
          1,
          1,
          3,
          0,
          7,
          70,
          3,
          3,
          3,
          7,
          8,
          8,
          8,
          8,
          3,
          3,
          3,
          3,
          3,
          3,
          3,
          7,
          7,
          7,
          7,
          3,
          7,
          7,
          1,
          3,
          22,
          8,
          8,
          7,
          8,
          16,
          3,
          9,
          9,
          8,
          8,
          8,
          7,
          126,
          60,
          60,
          8,
          8,
          8,
          8,
          70,
          34,
          8,
          -1,
          13,
          13,
          72,
          7,
          34,
          7,
          12,
          2,
          8,
          8,
          8,
          22,
          8,
          0,
          131,
          6,
          12,
          3,
          7,
          72,
          10,
          67,
          7,
          7,
          16,
          16,
          77,
          70,
          8,
          8,
          72,
          7,
          7,
          0,
          27,
          10,
          10,
          8,
          8,
          8,
          8,
          8,
          12,
          7,
          3,
          3,
          18,
          8,
          99,
          73,
          8,
          81,
          17,
          77,
          77,
          77,
          7,
          8,
          8,
          8,
          8,
          8,
          8,
          8,
          2,
          2,
          14,
          14,
          24,
          9,
          9,
          12,
          2,
          1,
          30,
          8,
          8,
          70,
          13,
          70,
          32,
          32,
          34,
          7,
          21,
          7,
          7,
          7,
          1,
          3,
          7,
          70,
          8,
          7,
          70,
          12,
          7,
          72,
          10,
          10,
          10,
          1,
          8,
          8,
          70,
          70,
          8,
          69,
          8,
          7,
          9,
          2,
          0,
          0,
          0,
          2,
          2,
          11,
          19,
          2,
          8,
          27,
          27,
          2,
          2,
          2,
          2,
          2,
          9,
          9,
          2,
          2,
          8,
          8,
          0,
          0,
          3,
          11,
          2,
          2,
          9,
          9,
          0,
          -1,
          1,
          0,
          0,
          8,
          8,
          8,
          8,
          9,
          8,
          8,
          8,
          8,
          6,
          3,
          3,
          0,
          13,
          8,
          8,
          6,
          7,
          13,
          65,
          6,
          7,
          7,
          8,
          8,
          117,
          35,
          7,
          3,
          8,
          8,
          6,
          6,
          7,
          7,
          7,
          7,
          7,
          7,
          7,
          7,
          7,
          7,
          7,
          7,
          7,
          7,
          7,
          7,
          7,
          7,
          7,
          7,
          7,
          7,
          7,
          7,
          7,
          7,
          7,
          7,
          7,
          7,
          9,
          7,
          0,
          8,
          1,
          1,
          19,
          7,
          12,
          10,
          8,
          8,
          22,
          68,
          0,
          19,
          7,
          7,
          7,
          7,
          7,
          7,
          7,
          7,
          7,
          10,
          8,
          7,
          8,
          8,
          8,
          8,
          8,
          8,
          8,
          8,
          8,
          8,
          8,
          8,
          8,
          8,
          8,
          8,
          8,
          8,
          8,
          8,
          8,
          8,
          8,
          8,
          8,
          8,
          8,
          8,
          8,
          8,
          8,
          13,
          13,
          3,
          3,
          3,
          24,
          24,
          7,
          7,
          7,
          7,
          0,
          10,
          7,
          9,
          8,
          15,
          7,
          7,
          7,
          6,
          0,
          0,
          0,
          1,
          1,
          6,
          6,
          7,
          15,
          8,
          10,
          10,
          10,
          10,
          10,
          10,
          10,
          9,
          9,
          9,
          10,
          10,
          10,
          10,
          10,
          8,
          8,
          3,
          3,
          3,
          3,
          3,
          3,
          3,
          3,
          8,
          8,
          8,
          8,
          8,
          7,
          7,
          1,
          1,
          2,
          2,
          3,
          13,
          7,
          7,
          8,
          8,
          7,
          1,
          7,
          3,
          3,
          8,
          8,
          8,
          8,
          0,
          0,
          0,
          0,
          0,
          70,
          70,
          7,
          8,
          1,
          2,
          2,
          2,
          2,
          7,
          11,
          3,
          8,
          24,
          13,
          13,
          68,
          68,
          6,
          6,
          1,
          1,
          3,
          3,
          70,
          70,
          8,
          8,
          8,
          70,
          70,
          8,
          8,
          0,
          13,
          7,
          13,
          13,
          3,
          3,
          3,
          7,
          7,
          42,
          3,
          1,
          1,
          2,
          70,
          8,
          7,
          12,
          13,
          72,
          22,
          22,
          22,
          1,
          3,
          7,
          140,
          22,
          7,
          7,
          7,
          7,
          7,
          122,
          11,
          12,
          22,
          22,
          140,
          140,
          46,
          46,
          46,
          12,
          7,
          24,
          52,
          47,
          8,
          8,
          8,
          8,
          70,
          8,
          7,
          8,
          8,
          8,
          4,
          70,
          13,
          24,
          24,
          16,
          2,
          7,
          12,
          7,
          12,
          12,
          12,
          12,
          9,
          12,
          7,
          70,
          70,
          12,
          12,
          12,
          12,
          7,
          12,
          12,
          12,
          22,
          22,
          14,
          12,
          27,
          9,
          8,
          8,
          12,
          12,
          12,
          12,
          12,
          12,
          12,
          12,
          12,
          1,
          8,
          8,
          8,
          8,
          8,
          8,
          8,
          8,
          2,
          2,
          2,
          2,
          2,
          2,
          2,
          2,
          2,
          8,
          8,
          8,
          8,
          8,
          8,
          7,
          7,
          7,
          7,
          7,
          7,
          10,
          8,
          10,
          10,
          7,
          2,
          34,
          34,
          12,
          12,
          12,
          12,
          7,
          12,
          12,
          4,
          70,
          4,
          7,
          7,
          8,
          4,
          7,
          7,
          9,
          33,
          1,
          0,
          0,
          0,
          0,
          1,
          1,
          7,
          7,
          8,
          7,
          13,
          13,
          8,
          68,
          72,
          72,
          72,
          72,
          8,
          13,
          3,
          7,
          13,
          70,
          7,
          8,
          8,
          8,
          8,
          8,
          72,
          7,
          72,
          1,
          1,
          3,
          3,
          3,
          0,
          8,
          8,
          8,
          8,
          8,
          8,
          8,
          8,
          8,
          8,
          8,
          8,
          8,
          8,
          8,
          8,
          8,
          8,
          8,
          8,
          8,
          8,
          8,
          8,
          8,
          8,
          8,
          8,
          8,
          8,
          8,
          8,
          7,
          7,
          7,
          7,
          7,
          7,
          7,
          7,
          7,
          7,
          7,
          7,
          7,
          7,
          7,
          7,
          7,
          1,
          2,
          9,
          9,
          6,
          5,
          3,
          3,
          8,
          1,
          2,
          2,
          1,
          10,
          10,
          10,
          10,
          10,
          10,
          10,
          10,
          8,
          46,
          25,
          2,
          8,
          8,
          8,
          0,
          1,
          14,
          32,
          3,
          72,
          7,
          3,
          3,
          70,
          14,
          8,
          8,
          7,
          10,
          3,
          21,
          21,
          10,
          9,
          9,
          7,
          14,
          7,
          7,
          7,
          8,
          8,
          8,
          8,
          9,
          7,
          7,
          36,
          6,
          10,
          7,
          7,
          9,
          6,
          7,
          7,
          7,
          7,
          7,
          7,
          68,
          11,
          11,
          11,
          11,
          11,
          7,
          12,
          22,
          12,
          22,
          22,
          94,
          68,
          12,
          12,
          1,
          1,
          1,
          2,
          2,
          14,
          3,
          7,
          0,
          8,
          8,
          7,
          1,
          1,
          9,
          9,
          14,
          32,
          7,
          13,
          7,
          7,
          7,
          1,
          70,
          7,
          7,
          7,
          16,
          9,
          13,
          8,
          3,
          7,
          9,
          3,
          12,
          16,
          7,
          7,
          13,
          4,
          1,
          7,
          7,
          7,
          11,
          40,
          40,
          7,
          7,
          7,
          13,
          6,
          20,
          7,
          7,
          7,
          7,
          7,
          3,
          3,
          3,
          8,
          10,
          10,
          22,
          7,
          34,
          6,
          7,
          13,
          7,
          7,
          8,
          8,
          14,
          14,
          14,
          8,
          4,
          10,
          10,
          8,
          8,
          8,
          10,
          7,
          10,
          8,
          7,
          46,
          8,
          0,
          0,
          4,
          0,
          1,
          0,
          0,
          10,
          3,
          7,
          7,
          13,
          12,
          7,
          3,
          12,
          7,
          13,
          8,
          8,
          3,
          8,
          8,
          8,
          7,
          8,
          8,
          8,
          8,
          8,
          8,
          8,
          8,
          8,
          8,
          8,
          8,
          8,
          8,
          8,
          8,
          8,
          24,
          10,
          7,
          7,
          7,
          46,
          46,
          8,
          8,
          8,
          8,
          8,
          8,
          8,
          8,
          8,
          1,
          2,
          2,
          2,
          2,
          2,
          2,
          2,
          2,
          2,
          8,
          8,
          8,
          2,
          10,
          10,
          10,
          10,
          10,
          10,
          10,
          10,
          10,
          10,
          10,
          10,
          10,
          10,
          10,
          10,
          10,
          10,
          10,
          10,
          10,
          10,
          10,
          10,
          10,
          10,
          10,
          72,
          12
         ],
         "xaxis": "x",
         "yaxis": "y"
        }
       ],
       "layout": {
        "barmode": "relative",
        "legend": {
         "tracegroupgap": 0
        },
        "template": {
         "data": {
          "bar": [
           {
            "error_x": {
             "color": "#2a3f5f"
            },
            "error_y": {
             "color": "#2a3f5f"
            },
            "marker": {
             "line": {
              "color": "#E5ECF6",
              "width": 0.5
             },
             "pattern": {
              "fillmode": "overlay",
              "size": 10,
              "solidity": 0.2
             }
            },
            "type": "bar"
           }
          ],
          "barpolar": [
           {
            "marker": {
             "line": {
              "color": "#E5ECF6",
              "width": 0.5
             },
             "pattern": {
              "fillmode": "overlay",
              "size": 10,
              "solidity": 0.2
             }
            },
            "type": "barpolar"
           }
          ],
          "carpet": [
           {
            "aaxis": {
             "endlinecolor": "#2a3f5f",
             "gridcolor": "white",
             "linecolor": "white",
             "minorgridcolor": "white",
             "startlinecolor": "#2a3f5f"
            },
            "baxis": {
             "endlinecolor": "#2a3f5f",
             "gridcolor": "white",
             "linecolor": "white",
             "minorgridcolor": "white",
             "startlinecolor": "#2a3f5f"
            },
            "type": "carpet"
           }
          ],
          "choropleth": [
           {
            "colorbar": {
             "outlinewidth": 0,
             "ticks": ""
            },
            "type": "choropleth"
           }
          ],
          "contour": [
           {
            "colorbar": {
             "outlinewidth": 0,
             "ticks": ""
            },
            "colorscale": [
             [
              0,
              "#0d0887"
             ],
             [
              0.1111111111111111,
              "#46039f"
             ],
             [
              0.2222222222222222,
              "#7201a8"
             ],
             [
              0.3333333333333333,
              "#9c179e"
             ],
             [
              0.4444444444444444,
              "#bd3786"
             ],
             [
              0.5555555555555556,
              "#d8576b"
             ],
             [
              0.6666666666666666,
              "#ed7953"
             ],
             [
              0.7777777777777778,
              "#fb9f3a"
             ],
             [
              0.8888888888888888,
              "#fdca26"
             ],
             [
              1,
              "#f0f921"
             ]
            ],
            "type": "contour"
           }
          ],
          "contourcarpet": [
           {
            "colorbar": {
             "outlinewidth": 0,
             "ticks": ""
            },
            "type": "contourcarpet"
           }
          ],
          "heatmap": [
           {
            "colorbar": {
             "outlinewidth": 0,
             "ticks": ""
            },
            "colorscale": [
             [
              0,
              "#0d0887"
             ],
             [
              0.1111111111111111,
              "#46039f"
             ],
             [
              0.2222222222222222,
              "#7201a8"
             ],
             [
              0.3333333333333333,
              "#9c179e"
             ],
             [
              0.4444444444444444,
              "#bd3786"
             ],
             [
              0.5555555555555556,
              "#d8576b"
             ],
             [
              0.6666666666666666,
              "#ed7953"
             ],
             [
              0.7777777777777778,
              "#fb9f3a"
             ],
             [
              0.8888888888888888,
              "#fdca26"
             ],
             [
              1,
              "#f0f921"
             ]
            ],
            "type": "heatmap"
           }
          ],
          "heatmapgl": [
           {
            "colorbar": {
             "outlinewidth": 0,
             "ticks": ""
            },
            "colorscale": [
             [
              0,
              "#0d0887"
             ],
             [
              0.1111111111111111,
              "#46039f"
             ],
             [
              0.2222222222222222,
              "#7201a8"
             ],
             [
              0.3333333333333333,
              "#9c179e"
             ],
             [
              0.4444444444444444,
              "#bd3786"
             ],
             [
              0.5555555555555556,
              "#d8576b"
             ],
             [
              0.6666666666666666,
              "#ed7953"
             ],
             [
              0.7777777777777778,
              "#fb9f3a"
             ],
             [
              0.8888888888888888,
              "#fdca26"
             ],
             [
              1,
              "#f0f921"
             ]
            ],
            "type": "heatmapgl"
           }
          ],
          "histogram": [
           {
            "marker": {
             "pattern": {
              "fillmode": "overlay",
              "size": 10,
              "solidity": 0.2
             }
            },
            "type": "histogram"
           }
          ],
          "histogram2d": [
           {
            "colorbar": {
             "outlinewidth": 0,
             "ticks": ""
            },
            "colorscale": [
             [
              0,
              "#0d0887"
             ],
             [
              0.1111111111111111,
              "#46039f"
             ],
             [
              0.2222222222222222,
              "#7201a8"
             ],
             [
              0.3333333333333333,
              "#9c179e"
             ],
             [
              0.4444444444444444,
              "#bd3786"
             ],
             [
              0.5555555555555556,
              "#d8576b"
             ],
             [
              0.6666666666666666,
              "#ed7953"
             ],
             [
              0.7777777777777778,
              "#fb9f3a"
             ],
             [
              0.8888888888888888,
              "#fdca26"
             ],
             [
              1,
              "#f0f921"
             ]
            ],
            "type": "histogram2d"
           }
          ],
          "histogram2dcontour": [
           {
            "colorbar": {
             "outlinewidth": 0,
             "ticks": ""
            },
            "colorscale": [
             [
              0,
              "#0d0887"
             ],
             [
              0.1111111111111111,
              "#46039f"
             ],
             [
              0.2222222222222222,
              "#7201a8"
             ],
             [
              0.3333333333333333,
              "#9c179e"
             ],
             [
              0.4444444444444444,
              "#bd3786"
             ],
             [
              0.5555555555555556,
              "#d8576b"
             ],
             [
              0.6666666666666666,
              "#ed7953"
             ],
             [
              0.7777777777777778,
              "#fb9f3a"
             ],
             [
              0.8888888888888888,
              "#fdca26"
             ],
             [
              1,
              "#f0f921"
             ]
            ],
            "type": "histogram2dcontour"
           }
          ],
          "mesh3d": [
           {
            "colorbar": {
             "outlinewidth": 0,
             "ticks": ""
            },
            "type": "mesh3d"
           }
          ],
          "parcoords": [
           {
            "line": {
             "colorbar": {
              "outlinewidth": 0,
              "ticks": ""
             }
            },
            "type": "parcoords"
           }
          ],
          "pie": [
           {
            "automargin": true,
            "type": "pie"
           }
          ],
          "scatter": [
           {
            "fillpattern": {
             "fillmode": "overlay",
             "size": 10,
             "solidity": 0.2
            },
            "type": "scatter"
           }
          ],
          "scatter3d": [
           {
            "line": {
             "colorbar": {
              "outlinewidth": 0,
              "ticks": ""
             }
            },
            "marker": {
             "colorbar": {
              "outlinewidth": 0,
              "ticks": ""
             }
            },
            "type": "scatter3d"
           }
          ],
          "scattercarpet": [
           {
            "marker": {
             "colorbar": {
              "outlinewidth": 0,
              "ticks": ""
             }
            },
            "type": "scattercarpet"
           }
          ],
          "scattergeo": [
           {
            "marker": {
             "colorbar": {
              "outlinewidth": 0,
              "ticks": ""
             }
            },
            "type": "scattergeo"
           }
          ],
          "scattergl": [
           {
            "marker": {
             "colorbar": {
              "outlinewidth": 0,
              "ticks": ""
             }
            },
            "type": "scattergl"
           }
          ],
          "scattermapbox": [
           {
            "marker": {
             "colorbar": {
              "outlinewidth": 0,
              "ticks": ""
             }
            },
            "type": "scattermapbox"
           }
          ],
          "scatterpolar": [
           {
            "marker": {
             "colorbar": {
              "outlinewidth": 0,
              "ticks": ""
             }
            },
            "type": "scatterpolar"
           }
          ],
          "scatterpolargl": [
           {
            "marker": {
             "colorbar": {
              "outlinewidth": 0,
              "ticks": ""
             }
            },
            "type": "scatterpolargl"
           }
          ],
          "scatterternary": [
           {
            "marker": {
             "colorbar": {
              "outlinewidth": 0,
              "ticks": ""
             }
            },
            "type": "scatterternary"
           }
          ],
          "surface": [
           {
            "colorbar": {
             "outlinewidth": 0,
             "ticks": ""
            },
            "colorscale": [
             [
              0,
              "#0d0887"
             ],
             [
              0.1111111111111111,
              "#46039f"
             ],
             [
              0.2222222222222222,
              "#7201a8"
             ],
             [
              0.3333333333333333,
              "#9c179e"
             ],
             [
              0.4444444444444444,
              "#bd3786"
             ],
             [
              0.5555555555555556,
              "#d8576b"
             ],
             [
              0.6666666666666666,
              "#ed7953"
             ],
             [
              0.7777777777777778,
              "#fb9f3a"
             ],
             [
              0.8888888888888888,
              "#fdca26"
             ],
             [
              1,
              "#f0f921"
             ]
            ],
            "type": "surface"
           }
          ],
          "table": [
           {
            "cells": {
             "fill": {
              "color": "#EBF0F8"
             },
             "line": {
              "color": "white"
             }
            },
            "header": {
             "fill": {
              "color": "#C8D4E3"
             },
             "line": {
              "color": "white"
             }
            },
            "type": "table"
           }
          ]
         },
         "layout": {
          "annotationdefaults": {
           "arrowcolor": "#2a3f5f",
           "arrowhead": 0,
           "arrowwidth": 1
          },
          "autotypenumbers": "strict",
          "coloraxis": {
           "colorbar": {
            "outlinewidth": 0,
            "ticks": ""
           }
          },
          "colorscale": {
           "diverging": [
            [
             0,
             "#8e0152"
            ],
            [
             0.1,
             "#c51b7d"
            ],
            [
             0.2,
             "#de77ae"
            ],
            [
             0.3,
             "#f1b6da"
            ],
            [
             0.4,
             "#fde0ef"
            ],
            [
             0.5,
             "#f7f7f7"
            ],
            [
             0.6,
             "#e6f5d0"
            ],
            [
             0.7,
             "#b8e186"
            ],
            [
             0.8,
             "#7fbc41"
            ],
            [
             0.9,
             "#4d9221"
            ],
            [
             1,
             "#276419"
            ]
           ],
           "sequential": [
            [
             0,
             "#0d0887"
            ],
            [
             0.1111111111111111,
             "#46039f"
            ],
            [
             0.2222222222222222,
             "#7201a8"
            ],
            [
             0.3333333333333333,
             "#9c179e"
            ],
            [
             0.4444444444444444,
             "#bd3786"
            ],
            [
             0.5555555555555556,
             "#d8576b"
            ],
            [
             0.6666666666666666,
             "#ed7953"
            ],
            [
             0.7777777777777778,
             "#fb9f3a"
            ],
            [
             0.8888888888888888,
             "#fdca26"
            ],
            [
             1,
             "#f0f921"
            ]
           ],
           "sequentialminus": [
            [
             0,
             "#0d0887"
            ],
            [
             0.1111111111111111,
             "#46039f"
            ],
            [
             0.2222222222222222,
             "#7201a8"
            ],
            [
             0.3333333333333333,
             "#9c179e"
            ],
            [
             0.4444444444444444,
             "#bd3786"
            ],
            [
             0.5555555555555556,
             "#d8576b"
            ],
            [
             0.6666666666666666,
             "#ed7953"
            ],
            [
             0.7777777777777778,
             "#fb9f3a"
            ],
            [
             0.8888888888888888,
             "#fdca26"
            ],
            [
             1,
             "#f0f921"
            ]
           ]
          },
          "colorway": [
           "#636efa",
           "#EF553B",
           "#00cc96",
           "#ab63fa",
           "#FFA15A",
           "#19d3f3",
           "#FF6692",
           "#B6E880",
           "#FF97FF",
           "#FECB52"
          ],
          "font": {
           "color": "#2a3f5f"
          },
          "geo": {
           "bgcolor": "white",
           "lakecolor": "white",
           "landcolor": "#E5ECF6",
           "showlakes": true,
           "showland": true,
           "subunitcolor": "white"
          },
          "hoverlabel": {
           "align": "left"
          },
          "hovermode": "closest",
          "mapbox": {
           "style": "light"
          },
          "paper_bgcolor": "white",
          "plot_bgcolor": "#E5ECF6",
          "polar": {
           "angularaxis": {
            "gridcolor": "white",
            "linecolor": "white",
            "ticks": ""
           },
           "bgcolor": "#E5ECF6",
           "radialaxis": {
            "gridcolor": "white",
            "linecolor": "white",
            "ticks": ""
           }
          },
          "scene": {
           "xaxis": {
            "backgroundcolor": "#E5ECF6",
            "gridcolor": "white",
            "gridwidth": 2,
            "linecolor": "white",
            "showbackground": true,
            "ticks": "",
            "zerolinecolor": "white"
           },
           "yaxis": {
            "backgroundcolor": "#E5ECF6",
            "gridcolor": "white",
            "gridwidth": 2,
            "linecolor": "white",
            "showbackground": true,
            "ticks": "",
            "zerolinecolor": "white"
           },
           "zaxis": {
            "backgroundcolor": "#E5ECF6",
            "gridcolor": "white",
            "gridwidth": 2,
            "linecolor": "white",
            "showbackground": true,
            "ticks": "",
            "zerolinecolor": "white"
           }
          },
          "shapedefaults": {
           "line": {
            "color": "#2a3f5f"
           }
          },
          "ternary": {
           "aaxis": {
            "gridcolor": "white",
            "linecolor": "white",
            "ticks": ""
           },
           "baxis": {
            "gridcolor": "white",
            "linecolor": "white",
            "ticks": ""
           },
           "bgcolor": "#E5ECF6",
           "caxis": {
            "gridcolor": "white",
            "linecolor": "white",
            "ticks": ""
           }
          },
          "title": {
           "x": 0.05
          },
          "xaxis": {
           "automargin": true,
           "gridcolor": "white",
           "linecolor": "white",
           "ticks": "",
           "title": {
            "standoff": 15
           },
           "zerolinecolor": "white",
           "zerolinewidth": 2
          },
          "yaxis": {
           "automargin": true,
           "gridcolor": "white",
           "linecolor": "white",
           "ticks": "",
           "title": {
            "standoff": 15
           },
           "zerolinecolor": "white",
           "zerolinewidth": 2
          }
         }
        },
        "title": {
         "text": "Distribution des tailles des modèles"
        },
        "xaxis": {
         "anchor": "y",
         "domain": [
          0,
          1
         ],
         "title": {
          "text": "params_b"
         }
        },
        "yaxis": {
         "anchor": "x",
         "domain": [
          0,
          1
         ],
         "title": {
          "text": "count"
         }
        }
       }
      }
     },
     "metadata": {},
     "output_type": "display_data"
    }
   ],
   "source": [
    "# distributions des tailles des modèles\n",
    "fig = px.histogram(df, x=\"params_b\", nbins=50, title=\"Distribution des tailles des modèles\")\n",
    "fig.show()"
   ]
  },
  {
   "cell_type": "code",
   "execution_count": null,
   "metadata": {},
   "outputs": [],
   "source": []
  },
  {
   "cell_type": "code",
   "execution_count": 13,
   "metadata": {},
   "outputs": [],
   "source": [
    "df[\"submission_date\"] = pd.to_datetime(df[\"submission_date\"], errors='coerce')\n",
    "df[\"score\"] = pd.to_numeric(df[\"score\"], errors='coerce')\n",
    "df[\"co2_cost_kg\"] = pd.to_numeric(df[\"co2_cost_kg\"], errors='coerce')\n",
    "df[\"params_b\"] = pd.to_numeric(df[\"params_b\"], errors='coerce')\n",
    "\n",
    "# Liste des métriques de performance\n",
    "benchmark_metric_columns = [\"IFEval\", \"BBH\", \"MATH_Lvl_5\", \"GPQA\", \"MUSR\", \"MMLU_PRO\"]\n",
    "\n",
    "# Conversion des métriques de performance en numérique\n",
    "for col in benchmark_metric_columns:\n",
    "    df[col] = pd.to_numeric(df[col], errors='coerce')"
   ]
  },
  {
   "cell_type": "code",
   "execution_count": 14,
   "metadata": {},
   "outputs": [
    {
     "data": {
      "text/html": [
       "<div>\n",
       "<style scoped>\n",
       "    .dataframe tbody tr th:only-of-type {\n",
       "        vertical-align: middle;\n",
       "    }\n",
       "\n",
       "    .dataframe tbody tr th {\n",
       "        vertical-align: top;\n",
       "    }\n",
       "\n",
       "    .dataframe thead th {\n",
       "        text-align: right;\n",
       "    }\n",
       "</style>\n",
       "<table border=\"1\" class=\"dataframe\">\n",
       "  <thead>\n",
       "    <tr style=\"text-align: right;\">\n",
       "      <th></th>\n",
       "      <th>eval_name</th>\n",
       "      <th>precision</th>\n",
       "      <th>type</th>\n",
       "      <th>T</th>\n",
       "      <th>Weight type</th>\n",
       "      <th>Architecture</th>\n",
       "      <th>model_name_html</th>\n",
       "      <th>fullname</th>\n",
       "      <th>Model sha</th>\n",
       "      <th>score</th>\n",
       "      <th>...</th>\n",
       "      <th>MUSR</th>\n",
       "      <th>MMLU-PRO Raw</th>\n",
       "      <th>MMLU_PRO</th>\n",
       "      <th>Maintainer's Highlight</th>\n",
       "      <th>Upload To Hub Date</th>\n",
       "      <th>submission_date</th>\n",
       "      <th>Generation</th>\n",
       "      <th>Base Model</th>\n",
       "      <th>model_name</th>\n",
       "      <th>model_link</th>\n",
       "    </tr>\n",
       "  </thead>\n",
       "  <tbody>\n",
       "    <tr>\n",
       "      <th>0</th>\n",
       "      <td>0-hero_Matter-0.2-7B-DPO_bfloat16</td>\n",
       "      <td>bfloat16</td>\n",
       "      <td>💬 chat models (RLHF, DPO, IFT, ...)</td>\n",
       "      <td>💬</td>\n",
       "      <td>Original</td>\n",
       "      <td>MistralForCausalLM</td>\n",
       "      <td>&lt;a target=\"_blank\" href=\"https://huggingface.c...</td>\n",
       "      <td>0-hero/Matter-0.2-7B-DPO</td>\n",
       "      <td>26a66f0d862e2024ce4ad0a09c37052ac36e8af6</td>\n",
       "      <td>8.805656</td>\n",
       "      <td>...</td>\n",
       "      <td>5.871875</td>\n",
       "      <td>0.116356</td>\n",
       "      <td>1.817376</td>\n",
       "      <td>False</td>\n",
       "      <td>2024-04-13</td>\n",
       "      <td>2024-08-05</td>\n",
       "      <td>0</td>\n",
       "      <td>0-hero/Matter-0.2-7B-DPO</td>\n",
       "      <td>0-hero/Matter-0.2-7B-DPO</td>\n",
       "      <td>https://huggingface.co/0-hero/Matter-0.2-7B-DPO</td>\n",
       "    </tr>\n",
       "    <tr>\n",
       "      <th>1</th>\n",
       "      <td>01-ai_Yi-1.5-34B_bfloat16</td>\n",
       "      <td>bfloat16</td>\n",
       "      <td>🟢 pretrained</td>\n",
       "      <td>🟢</td>\n",
       "      <td>Original</td>\n",
       "      <td>LlamaForCausalLM</td>\n",
       "      <td>&lt;a target=\"_blank\" href=\"https://huggingface.c...</td>\n",
       "      <td>01-ai/Yi-1.5-34B</td>\n",
       "      <td>4b486f81c935a2dadde84c6baa1e1370d40a098f</td>\n",
       "      <td>25.621318</td>\n",
       "      <td>...</td>\n",
       "      <td>11.217188</td>\n",
       "      <td>0.466589</td>\n",
       "      <td>40.732122</td>\n",
       "      <td>True</td>\n",
       "      <td>2024-05-11</td>\n",
       "      <td>2024-06-12</td>\n",
       "      <td>0</td>\n",
       "      <td>01-ai/Yi-1.5-34B</td>\n",
       "      <td>01-ai/Yi-1.5-34B</td>\n",
       "      <td>https://huggingface.co/01-ai/Yi-1.5-34B</td>\n",
       "    </tr>\n",
       "    <tr>\n",
       "      <th>2</th>\n",
       "      <td>01-ai_Yi-1.5-34B-32K_bfloat16</td>\n",
       "      <td>bfloat16</td>\n",
       "      <td>🟢 pretrained</td>\n",
       "      <td>🟢</td>\n",
       "      <td>Original</td>\n",
       "      <td>LlamaForCausalLM</td>\n",
       "      <td>&lt;a target=\"_blank\" href=\"https://huggingface.c...</td>\n",
       "      <td>01-ai/Yi-1.5-34B-32K</td>\n",
       "      <td>2c03a29761e4174f20347a60fbe229be4383d48b</td>\n",
       "      <td>26.677560</td>\n",
       "      <td>...</td>\n",
       "      <td>14.077865</td>\n",
       "      <td>0.470911</td>\n",
       "      <td>41.212323</td>\n",
       "      <td>True</td>\n",
       "      <td>2024-05-15</td>\n",
       "      <td>2024-06-12</td>\n",
       "      <td>0</td>\n",
       "      <td>01-ai/Yi-1.5-34B-32K</td>\n",
       "      <td>01-ai/Yi-1.5-34B-32K</td>\n",
       "      <td>https://huggingface.co/01-ai/Yi-1.5-34B-32K</td>\n",
       "    </tr>\n",
       "    <tr>\n",
       "      <th>3</th>\n",
       "      <td>01-ai_Yi-1.5-34B-Chat_bfloat16</td>\n",
       "      <td>bfloat16</td>\n",
       "      <td>💬 chat models (RLHF, DPO, IFT, ...)</td>\n",
       "      <td>💬</td>\n",
       "      <td>Original</td>\n",
       "      <td>LlamaForCausalLM</td>\n",
       "      <td>&lt;a target=\"_blank\" href=\"https://huggingface.c...</td>\n",
       "      <td>01-ai/Yi-1.5-34B-Chat</td>\n",
       "      <td>f3128b2d02d82989daae566c0a7eadc621ca3254</td>\n",
       "      <td>32.892233</td>\n",
       "      <td>...</td>\n",
       "      <td>13.058073</td>\n",
       "      <td>0.452045</td>\n",
       "      <td>39.116061</td>\n",
       "      <td>True</td>\n",
       "      <td>2024-05-10</td>\n",
       "      <td>2024-06-12</td>\n",
       "      <td>0</td>\n",
       "      <td>01-ai/Yi-1.5-34B-Chat</td>\n",
       "      <td>01-ai/Yi-1.5-34B-Chat</td>\n",
       "      <td>https://huggingface.co/01-ai/Yi-1.5-34B-Chat</td>\n",
       "    </tr>\n",
       "    <tr>\n",
       "      <th>4</th>\n",
       "      <td>01-ai_Yi-1.5-34B-Chat-16K_bfloat16</td>\n",
       "      <td>bfloat16</td>\n",
       "      <td>💬 chat models (RLHF, DPO, IFT, ...)</td>\n",
       "      <td>💬</td>\n",
       "      <td>Original</td>\n",
       "      <td>LlamaForCausalLM</td>\n",
       "      <td>&lt;a target=\"_blank\" href=\"https://huggingface.c...</td>\n",
       "      <td>01-ai/Yi-1.5-34B-Chat-16K</td>\n",
       "      <td>ff74452e11f0f749ab872dc19b1dd3813c25c4d8</td>\n",
       "      <td>29.239909</td>\n",
       "      <td>...</td>\n",
       "      <td>13.736719</td>\n",
       "      <td>0.454455</td>\n",
       "      <td>39.383865</td>\n",
       "      <td>True</td>\n",
       "      <td>2024-05-15</td>\n",
       "      <td>2024-07-15</td>\n",
       "      <td>0</td>\n",
       "      <td>01-ai/Yi-1.5-34B-Chat-16K</td>\n",
       "      <td>01-ai/Yi-1.5-34B-Chat-16K</td>\n",
       "      <td>https://huggingface.co/01-ai/Yi-1.5-34B-Chat-16K</td>\n",
       "    </tr>\n",
       "    <tr>\n",
       "      <th>...</th>\n",
       "      <td>...</td>\n",
       "      <td>...</td>\n",
       "      <td>...</td>\n",
       "      <td>...</td>\n",
       "      <td>...</td>\n",
       "      <td>...</td>\n",
       "      <td>...</td>\n",
       "      <td>...</td>\n",
       "      <td>...</td>\n",
       "      <td>...</td>\n",
       "      <td>...</td>\n",
       "      <td>...</td>\n",
       "      <td>...</td>\n",
       "      <td>...</td>\n",
       "      <td>...</td>\n",
       "      <td>...</td>\n",
       "      <td>...</td>\n",
       "      <td>...</td>\n",
       "      <td>...</td>\n",
       "      <td>...</td>\n",
       "      <td>...</td>\n",
       "    </tr>\n",
       "    <tr>\n",
       "      <th>1986</th>\n",
       "      <td>zelk12_recoilme-gemma-2-Gutenberg-Doppel-9B-v0...</td>\n",
       "      <td>bfloat16</td>\n",
       "      <td>🤝 base merges and moerges</td>\n",
       "      <td>🤝</td>\n",
       "      <td>Original</td>\n",
       "      <td>Gemma2ForCausalLM</td>\n",
       "      <td>&lt;a target=\"_blank\" href=\"https://huggingface.c...</td>\n",
       "      <td>zelk12/recoilme-gemma-2-Gutenberg-Doppel-9B-v0.1</td>\n",
       "      <td>1e3e623e9f0b386bfd967c629dd39c87daef5bed</td>\n",
       "      <td>31.626376</td>\n",
       "      <td>...</td>\n",
       "      <td>13.310937</td>\n",
       "      <td>0.431516</td>\n",
       "      <td>36.835106</td>\n",
       "      <td>False</td>\n",
       "      <td>2024-10-07</td>\n",
       "      <td>2024-10-07</td>\n",
       "      <td>1</td>\n",
       "      <td>zelk12/recoilme-gemma-2-Gutenberg-Doppel-9B-v0...</td>\n",
       "      <td>zelk12/recoilme-gemma-2-Gutenberg-Doppel-9B-v0.1</td>\n",
       "      <td>https://huggingface.co/zelk12/recoilme-gemma-2...</td>\n",
       "    </tr>\n",
       "    <tr>\n",
       "      <th>1987</th>\n",
       "      <td>zelk12_recoilme-gemma-2-Ifable-9B-v0.1_bfloat16</td>\n",
       "      <td>bfloat16</td>\n",
       "      <td>🤝 base merges and moerges</td>\n",
       "      <td>🤝</td>\n",
       "      <td>Original</td>\n",
       "      <td>Gemma2ForCausalLM</td>\n",
       "      <td>&lt;a target=\"_blank\" href=\"https://huggingface.c...</td>\n",
       "      <td>zelk12/recoilme-gemma-2-Ifable-9B-v0.1</td>\n",
       "      <td>8af6620b39c9a36239879b6b2bd88f66e9e9d930</td>\n",
       "      <td>32.254423</td>\n",
       "      <td>...</td>\n",
       "      <td>11.095313</td>\n",
       "      <td>0.432347</td>\n",
       "      <td>36.927453</td>\n",
       "      <td>False</td>\n",
       "      <td>2024-10-07</td>\n",
       "      <td>2024-10-07</td>\n",
       "      <td>1</td>\n",
       "      <td>zelk12/recoilme-gemma-2-Ifable-9B-v0.1 (Merge)</td>\n",
       "      <td>zelk12/recoilme-gemma-2-Ifable-9B-v0.1</td>\n",
       "      <td>https://huggingface.co/zelk12/recoilme-gemma-2...</td>\n",
       "    </tr>\n",
       "    <tr>\n",
       "      <th>1988</th>\n",
       "      <td>zelk12_recoilme-gemma-2-psy10k-mental_healt-9B...</td>\n",
       "      <td>bfloat16</td>\n",
       "      <td>🤝 base merges and moerges</td>\n",
       "      <td>🤝</td>\n",
       "      <td>Original</td>\n",
       "      <td>Gemma2ForCausalLM</td>\n",
       "      <td>&lt;a target=\"_blank\" href=\"https://huggingface.c...</td>\n",
       "      <td>zelk12/recoilme-gemma-2-psy10k-mental_healt-9B...</td>\n",
       "      <td>ced039b03be6f65ac0f713efcee76c6534e65639</td>\n",
       "      <td>32.448061</td>\n",
       "      <td>...</td>\n",
       "      <td>12.183594</td>\n",
       "      <td>0.418052</td>\n",
       "      <td>35.339096</td>\n",
       "      <td>False</td>\n",
       "      <td>2024-10-07</td>\n",
       "      <td>2024-10-07</td>\n",
       "      <td>1</td>\n",
       "      <td>zelk12/recoilme-gemma-2-psy10k-mental_healt-9B...</td>\n",
       "      <td>zelk12/recoilme-gemma-2-psy10k-mental_healt-9B...</td>\n",
       "      <td>https://huggingface.co/zelk12/recoilme-gemma-2...</td>\n",
       "    </tr>\n",
       "    <tr>\n",
       "      <th>1989</th>\n",
       "      <td>zetasepic_Qwen2.5-72B-Instruct-abliterated_bfl...</td>\n",
       "      <td>bfloat16</td>\n",
       "      <td>🔶 fine-tuned on domain-specific datasets</td>\n",
       "      <td>🔶</td>\n",
       "      <td>Original</td>\n",
       "      <td>Qwen2ForCausalLM</td>\n",
       "      <td>&lt;a target=\"_blank\" href=\"https://huggingface.c...</td>\n",
       "      <td>zetasepic/Qwen2.5-72B-Instruct-abliterated</td>\n",
       "      <td>af94b3c05c9857dbac73afb1cbce00e4833ec9ef</td>\n",
       "      <td>45.293139</td>\n",
       "      <td>...</td>\n",
       "      <td>19.122917</td>\n",
       "      <td>0.587184</td>\n",
       "      <td>54.131575</td>\n",
       "      <td>False</td>\n",
       "      <td>2024-10-01</td>\n",
       "      <td>2024-11-08</td>\n",
       "      <td>2</td>\n",
       "      <td>Qwen/Qwen2.5-72B</td>\n",
       "      <td>zetasepic/Qwen2.5-72B-Instruct-abliterated</td>\n",
       "      <td>https://huggingface.co/zetasepic/Qwen2.5-72B-I...</td>\n",
       "    </tr>\n",
       "    <tr>\n",
       "      <th>1990</th>\n",
       "      <td>zhengr_MixTAO-7Bx2-MoE-v8.1_bfloat16</td>\n",
       "      <td>bfloat16</td>\n",
       "      <td>🔶 fine-tuned on domain-specific datasets</td>\n",
       "      <td>🔶</td>\n",
       "      <td>Original</td>\n",
       "      <td>MixtralForCausalLM</td>\n",
       "      <td>&lt;a target=\"_blank\" href=\"https://huggingface.c...</td>\n",
       "      <td>zhengr/MixTAO-7Bx2-MoE-v8.1</td>\n",
       "      <td>828e963abf2db0f5af9ed0d4034e538fc1cf5f40</td>\n",
       "      <td>17.168311</td>\n",
       "      <td>...</td>\n",
       "      <td>8.303125</td>\n",
       "      <td>0.284658</td>\n",
       "      <td>20.517509</td>\n",
       "      <td>False</td>\n",
       "      <td>2024-02-26</td>\n",
       "      <td>2024-06-27</td>\n",
       "      <td>0</td>\n",
       "      <td>zhengr/MixTAO-7Bx2-MoE-v8.1</td>\n",
       "      <td>zhengr/MixTAO-7Bx2-MoE-v8.1</td>\n",
       "      <td>https://huggingface.co/zhengr/MixTAO-7Bx2-MoE-...</td>\n",
       "    </tr>\n",
       "  </tbody>\n",
       "</table>\n",
       "<p>1986 rows × 38 columns</p>\n",
       "</div>"
      ],
      "text/plain": [
       "                                              eval_name precision  \\\n",
       "0                     0-hero_Matter-0.2-7B-DPO_bfloat16  bfloat16   \n",
       "1                             01-ai_Yi-1.5-34B_bfloat16  bfloat16   \n",
       "2                         01-ai_Yi-1.5-34B-32K_bfloat16  bfloat16   \n",
       "3                        01-ai_Yi-1.5-34B-Chat_bfloat16  bfloat16   \n",
       "4                    01-ai_Yi-1.5-34B-Chat-16K_bfloat16  bfloat16   \n",
       "...                                                 ...       ...   \n",
       "1986  zelk12_recoilme-gemma-2-Gutenberg-Doppel-9B-v0...  bfloat16   \n",
       "1987    zelk12_recoilme-gemma-2-Ifable-9B-v0.1_bfloat16  bfloat16   \n",
       "1988  zelk12_recoilme-gemma-2-psy10k-mental_healt-9B...  bfloat16   \n",
       "1989  zetasepic_Qwen2.5-72B-Instruct-abliterated_bfl...  bfloat16   \n",
       "1990               zhengr_MixTAO-7Bx2-MoE-v8.1_bfloat16  bfloat16   \n",
       "\n",
       "                                          type  T Weight type  \\\n",
       "0          💬 chat models (RLHF, DPO, IFT, ...)  💬    Original   \n",
       "1                                 🟢 pretrained  🟢    Original   \n",
       "2                                 🟢 pretrained  🟢    Original   \n",
       "3          💬 chat models (RLHF, DPO, IFT, ...)  💬    Original   \n",
       "4          💬 chat models (RLHF, DPO, IFT, ...)  💬    Original   \n",
       "...                                        ... ..         ...   \n",
       "1986                 🤝 base merges and moerges  🤝    Original   \n",
       "1987                 🤝 base merges and moerges  🤝    Original   \n",
       "1988                 🤝 base merges and moerges  🤝    Original   \n",
       "1989  🔶 fine-tuned on domain-specific datasets  🔶    Original   \n",
       "1990  🔶 fine-tuned on domain-specific datasets  🔶    Original   \n",
       "\n",
       "            Architecture                                    model_name_html  \\\n",
       "0     MistralForCausalLM  <a target=\"_blank\" href=\"https://huggingface.c...   \n",
       "1       LlamaForCausalLM  <a target=\"_blank\" href=\"https://huggingface.c...   \n",
       "2       LlamaForCausalLM  <a target=\"_blank\" href=\"https://huggingface.c...   \n",
       "3       LlamaForCausalLM  <a target=\"_blank\" href=\"https://huggingface.c...   \n",
       "4       LlamaForCausalLM  <a target=\"_blank\" href=\"https://huggingface.c...   \n",
       "...                  ...                                                ...   \n",
       "1986   Gemma2ForCausalLM  <a target=\"_blank\" href=\"https://huggingface.c...   \n",
       "1987   Gemma2ForCausalLM  <a target=\"_blank\" href=\"https://huggingface.c...   \n",
       "1988   Gemma2ForCausalLM  <a target=\"_blank\" href=\"https://huggingface.c...   \n",
       "1989    Qwen2ForCausalLM  <a target=\"_blank\" href=\"https://huggingface.c...   \n",
       "1990  MixtralForCausalLM  <a target=\"_blank\" href=\"https://huggingface.c...   \n",
       "\n",
       "                                               fullname  \\\n",
       "0                              0-hero/Matter-0.2-7B-DPO   \n",
       "1                                      01-ai/Yi-1.5-34B   \n",
       "2                                  01-ai/Yi-1.5-34B-32K   \n",
       "3                                 01-ai/Yi-1.5-34B-Chat   \n",
       "4                             01-ai/Yi-1.5-34B-Chat-16K   \n",
       "...                                                 ...   \n",
       "1986   zelk12/recoilme-gemma-2-Gutenberg-Doppel-9B-v0.1   \n",
       "1987             zelk12/recoilme-gemma-2-Ifable-9B-v0.1   \n",
       "1988  zelk12/recoilme-gemma-2-psy10k-mental_healt-9B...   \n",
       "1989         zetasepic/Qwen2.5-72B-Instruct-abliterated   \n",
       "1990                        zhengr/MixTAO-7Bx2-MoE-v8.1   \n",
       "\n",
       "                                     Model sha      score  ...       MUSR  \\\n",
       "0     26a66f0d862e2024ce4ad0a09c37052ac36e8af6   8.805656  ...   5.871875   \n",
       "1     4b486f81c935a2dadde84c6baa1e1370d40a098f  25.621318  ...  11.217188   \n",
       "2     2c03a29761e4174f20347a60fbe229be4383d48b  26.677560  ...  14.077865   \n",
       "3     f3128b2d02d82989daae566c0a7eadc621ca3254  32.892233  ...  13.058073   \n",
       "4     ff74452e11f0f749ab872dc19b1dd3813c25c4d8  29.239909  ...  13.736719   \n",
       "...                                        ...        ...  ...        ...   \n",
       "1986  1e3e623e9f0b386bfd967c629dd39c87daef5bed  31.626376  ...  13.310937   \n",
       "1987  8af6620b39c9a36239879b6b2bd88f66e9e9d930  32.254423  ...  11.095313   \n",
       "1988  ced039b03be6f65ac0f713efcee76c6534e65639  32.448061  ...  12.183594   \n",
       "1989  af94b3c05c9857dbac73afb1cbce00e4833ec9ef  45.293139  ...  19.122917   \n",
       "1990  828e963abf2db0f5af9ed0d4034e538fc1cf5f40  17.168311  ...   8.303125   \n",
       "\n",
       "      MMLU-PRO Raw   MMLU_PRO  Maintainer's Highlight  Upload To Hub Date  \\\n",
       "0         0.116356   1.817376                   False          2024-04-13   \n",
       "1         0.466589  40.732122                    True          2024-05-11   \n",
       "2         0.470911  41.212323                    True          2024-05-15   \n",
       "3         0.452045  39.116061                    True          2024-05-10   \n",
       "4         0.454455  39.383865                    True          2024-05-15   \n",
       "...            ...        ...                     ...                 ...   \n",
       "1986      0.431516  36.835106                   False          2024-10-07   \n",
       "1987      0.432347  36.927453                   False          2024-10-07   \n",
       "1988      0.418052  35.339096                   False          2024-10-07   \n",
       "1989      0.587184  54.131575                   False          2024-10-01   \n",
       "1990      0.284658  20.517509                   False          2024-02-26   \n",
       "\n",
       "      submission_date  Generation  \\\n",
       "0          2024-08-05           0   \n",
       "1          2024-06-12           0   \n",
       "2          2024-06-12           0   \n",
       "3          2024-06-12           0   \n",
       "4          2024-07-15           0   \n",
       "...               ...         ...   \n",
       "1986       2024-10-07           1   \n",
       "1987       2024-10-07           1   \n",
       "1988       2024-10-07           1   \n",
       "1989       2024-11-08           2   \n",
       "1990       2024-06-27           0   \n",
       "\n",
       "                                             Base Model  \\\n",
       "0                              0-hero/Matter-0.2-7B-DPO   \n",
       "1                                      01-ai/Yi-1.5-34B   \n",
       "2                                  01-ai/Yi-1.5-34B-32K   \n",
       "3                                 01-ai/Yi-1.5-34B-Chat   \n",
       "4                             01-ai/Yi-1.5-34B-Chat-16K   \n",
       "...                                                 ...   \n",
       "1986  zelk12/recoilme-gemma-2-Gutenberg-Doppel-9B-v0...   \n",
       "1987     zelk12/recoilme-gemma-2-Ifable-9B-v0.1 (Merge)   \n",
       "1988  zelk12/recoilme-gemma-2-psy10k-mental_healt-9B...   \n",
       "1989                                   Qwen/Qwen2.5-72B   \n",
       "1990                        zhengr/MixTAO-7Bx2-MoE-v8.1   \n",
       "\n",
       "                                             model_name  \\\n",
       "0                              0-hero/Matter-0.2-7B-DPO   \n",
       "1                                      01-ai/Yi-1.5-34B   \n",
       "2                                  01-ai/Yi-1.5-34B-32K   \n",
       "3                                 01-ai/Yi-1.5-34B-Chat   \n",
       "4                             01-ai/Yi-1.5-34B-Chat-16K   \n",
       "...                                                 ...   \n",
       "1986   zelk12/recoilme-gemma-2-Gutenberg-Doppel-9B-v0.1   \n",
       "1987             zelk12/recoilme-gemma-2-Ifable-9B-v0.1   \n",
       "1988  zelk12/recoilme-gemma-2-psy10k-mental_healt-9B...   \n",
       "1989         zetasepic/Qwen2.5-72B-Instruct-abliterated   \n",
       "1990                        zhengr/MixTAO-7Bx2-MoE-v8.1   \n",
       "\n",
       "                                             model_link  \n",
       "0       https://huggingface.co/0-hero/Matter-0.2-7B-DPO  \n",
       "1               https://huggingface.co/01-ai/Yi-1.5-34B  \n",
       "2           https://huggingface.co/01-ai/Yi-1.5-34B-32K  \n",
       "3          https://huggingface.co/01-ai/Yi-1.5-34B-Chat  \n",
       "4      https://huggingface.co/01-ai/Yi-1.5-34B-Chat-16K  \n",
       "...                                                 ...  \n",
       "1986  https://huggingface.co/zelk12/recoilme-gemma-2...  \n",
       "1987  https://huggingface.co/zelk12/recoilme-gemma-2...  \n",
       "1988  https://huggingface.co/zelk12/recoilme-gemma-2...  \n",
       "1989  https://huggingface.co/zetasepic/Qwen2.5-72B-I...  \n",
       "1990  https://huggingface.co/zhengr/MixTAO-7Bx2-MoE-...  \n",
       "\n",
       "[1986 rows x 38 columns]"
      ]
     },
     "execution_count": 14,
     "metadata": {},
     "output_type": "execute_result"
    }
   ],
   "source": [
    "df = df.dropna(subset=['submission_date'])\n",
    "df"
   ]
  },
  {
   "cell_type": "code",
   "execution_count": 15,
   "metadata": {},
   "outputs": [
    {
     "name": "stderr",
     "output_type": "stream",
     "text": [
      "/var/folders/kf/srw6l1953p95h1ysw77gt9fw0000gp/T/ipykernel_62824/1268012864.py:22: DeprecationWarning: DataFrameGroupBy.apply operated on the grouping columns. This behavior is deprecated, and in a future version of pandas the grouping columns will be excluded from the operation. Either pass `include_groups=False` to exclude the groupings or explicitly select the grouping columns after groupby to silence this warning.\n",
      "  top_performers = grouped.apply(lambda x: x.loc[x['metric_value'].idxmax()])\n"
     ]
    }
   ],
   "source": [
    "# Sélection des colonnes nécessaires\n",
    "plot_columns = ['submission_date', 'model_name', 'type'] + benchmark_metric_columns + ['score']\n",
    "df_performance = df[plot_columns].copy()\n",
    "\n",
    "# Conversion des dates en période mensuelle\n",
    "df_performance['time_period'] = df_performance['submission_date'].dt.to_period('M')\n",
    "\n",
    "# Conversion du format long au format large\n",
    "df_melted = pd.melt(\n",
    "    df_performance,\n",
    "    id_vars=['submission_date', 'model_name', 'type', 'time_period'],\n",
    "    value_vars=benchmark_metric_columns + ['score'],\n",
    "    var_name='benchmark_metric',\n",
    "    value_name='metric_value'\n",
    ")\n",
    "\n",
    "# Suppression des valeurs manquantes\n",
    "df_melted = df_melted.dropna(subset=['metric_value'])\n",
    "\n",
    "# Sélection des meilleurs modèles par métrique et par période\n",
    "grouped = df_melted.groupby(['benchmark_metric', 'time_period'])\n",
    "top_performers = grouped.apply(lambda x: x.loc[x['metric_value'].idxmax()])\n",
    "top_performers = top_performers.reset_index(drop=True)\n",
    "\n",
    "# Conversion des périodes en dates pour l'axe x\n",
    "top_performers['time_period'] = top_performers['time_period'].dt.to_timestamp()"
   ]
  },
  {
   "cell_type": "code",
   "execution_count": null,
   "metadata": {},
   "outputs": [
    {
     "data": {
      "application/vnd.plotly.v1+json": {
       "config": {
        "plotlyServerURL": "https://plot.ly"
       },
       "data": [
        {
         "hovertemplate": "Métrique de Performance=BBH<br>Période=%{x}<br>Valeur de la Métrique=%{y}<extra></extra>",
         "legendgroup": "BBH",
         "line": {
          "color": "#636efa",
          "dash": "solid"
         },
         "marker": {
          "symbol": "circle"
         },
         "mode": "lines+markers",
         "name": "BBH",
         "orientation": "v",
         "showlegend": true,
         "type": "scatter",
         "x": [
          "2024-06-01T00:00:00",
          "2024-07-01T00:00:00",
          "2024-08-01T00:00:00",
          "2024-09-01T00:00:00",
          "2024-10-01T00:00:00",
          "2024-11-01T00:00:00"
         ],
         "xaxis": "x",
         "y": [
          57.48300911876294,
          57.67364804232054,
          62.83245915287989,
          62.15654929467119,
          61.873255668787884,
          63.47057952429436
         ],
         "yaxis": "y"
        },
        {
         "hovertemplate": "Métrique de Performance=GPQA<br>Période=%{x}<br>Valeur de la Métrique=%{y}<extra></extra>",
         "legendgroup": "GPQA",
         "line": {
          "color": "#EF553B",
          "dash": "solid"
         },
         "marker": {
          "symbol": "circle"
         },
         "mode": "lines+markers",
         "name": "GPQA",
         "orientation": "v",
         "showlegend": true,
         "type": "scatter",
         "x": [
          "2024-06-01T00:00:00",
          "2024-07-01T00:00:00",
          "2024-08-01T00:00:00",
          "2024-09-01T00:00:00",
          "2024-10-01T00:00:00",
          "2024-11-01T00:00:00"
         ],
         "xaxis": "x",
         "y": [
          19.686800894854585,
          18.791946308724835,
          20.917225950782996,
          21.588366890380314,
          20.805369127516784,
          24.94407158836689
         ],
         "yaxis": "y"
        },
        {
         "hovertemplate": "Métrique de Performance=IFEval<br>Période=%{x}<br>Valeur de la Métrique=%{y}<extra></extra>",
         "legendgroup": "IFEval",
         "line": {
          "color": "#00cc96",
          "dash": "solid"
         },
         "marker": {
          "symbol": "circle"
         },
         "mode": "lines+markers",
         "name": "IFEval",
         "orientation": "v",
         "showlegend": true,
         "type": "scatter",
         "x": [
          "2024-06-01T00:00:00",
          "2024-07-01T00:00:00",
          "2024-08-01T00:00:00",
          "2024-09-01T00:00:00",
          "2024-10-01T00:00:00",
          "2024-11-01T00:00:00"
         ],
         "xaxis": "x",
         "y": [
          82.0848681498424,
          84.34298771703524,
          86.6885419575615,
          86.62360315075111,
          86.3837949972739,
          84.00577135334247
         ],
         "yaxis": "y"
        },
        {
         "hovertemplate": "Métrique de Performance=MATH_Lvl_5<br>Période=%{x}<br>Valeur de la Métrique=%{y}<extra></extra>",
         "legendgroup": "MATH_Lvl_5",
         "line": {
          "color": "#ab63fa",
          "dash": "solid"
         },
         "marker": {
          "symbol": "circle"
         },
         "mode": "lines+markers",
         "name": "MATH_Lvl_5",
         "orientation": "v",
         "showlegend": true,
         "type": "scatter",
         "x": [
          "2024-06-01T00:00:00",
          "2024-07-01T00:00:00",
          "2024-08-01T00:00:00",
          "2024-09-01T00:00:00",
          "2024-10-01T00:00:00",
          "2024-11-01T00:00:00"
         ],
         "xaxis": "x",
         "y": [
          38.066465256797585,
          37.688821752265866,
          43.42900302114804,
          50.6797583081571,
          43.353474320241695,
          46.14803625377644
         ],
         "yaxis": "y"
        },
        {
         "hovertemplate": "Métrique de Performance=MMLU_PRO<br>Période=%{x}<br>Valeur de la Métrique=%{y}<extra></extra>",
         "legendgroup": "MMLU_PRO",
         "line": {
          "color": "#FFA15A",
          "dash": "solid"
         },
         "marker": {
          "symbol": "circle"
         },
         "mode": "lines+markers",
         "name": "MMLU_PRO",
         "orientation": "v",
         "showlegend": true,
         "type": "scatter",
         "x": [
          "2024-06-01T00:00:00",
          "2024-07-01T00:00:00",
          "2024-08-01T00:00:00",
          "2024-09-01T00:00:00",
          "2024-10-01T00:00:00",
          "2024-11-01T00:00:00"
         ],
         "xaxis": "x",
         "y": [
          52.56168735224587,
          49.64354314420804,
          50.67782210401892,
          66.80149231678487,
          59.349143026004725,
          54.13157505910166
         ],
         "yaxis": "y"
        },
        {
         "hovertemplate": "Métrique de Performance=MUSR<br>Période=%{x}<br>Valeur de la Métrique=%{y}<extra></extra>",
         "legendgroup": "MUSR",
         "line": {
          "color": "#19d3f3",
          "dash": "solid"
         },
         "marker": {
          "symbol": "circle"
         },
         "mode": "lines+markers",
         "name": "MUSR",
         "orientation": "v",
         "showlegend": true,
         "type": "scatter",
         "x": [
          "2024-06-01T00:00:00",
          "2024-07-01T00:00:00",
          "2024-08-01T00:00:00",
          "2024-09-01T00:00:00",
          "2024-10-01T00:00:00",
          "2024-11-01T00:00:00"
         ],
         "xaxis": "x",
         "y": [
          25.88020833333333,
          21.297656250000003,
          24.285677083333326,
          36.37213541666666,
          24.727083333333336,
          22.409375
         ],
         "yaxis": "y"
        },
        {
         "hovertemplate": "Métrique de Performance=score<br>Période=%{x}<br>Valeur de la Métrique=%{y}<extra></extra>",
         "legendgroup": "score",
         "line": {
          "color": "#FF6692",
          "dash": "solid"
         },
         "marker": {
          "symbol": "circle"
         },
         "mode": "lines+markers",
         "name": "score",
         "orientation": "v",
         "showlegend": true,
         "type": "scatter",
         "x": [
          "2024-06-01T00:00:00",
          "2024-07-01T00:00:00",
          "2024-08-01T00:00:00",
          "2024-09-01T00:00:00",
          "2024-10-01T00:00:00",
          "2024-11-01T00:00:00"
         ],
         "xaxis": "x",
         "y": [
          43.945771681032305,
          43.693132532674156,
          45.13122176315489,
          51.24391119284468,
          44.57420016656997,
          45.293139342041435
         ],
         "yaxis": "y"
        }
       ],
       "layout": {
        "legend": {
         "title": {
          "text": "Métrique de Performance"
         },
         "tracegroupgap": 0
        },
        "template": {
         "data": {
          "bar": [
           {
            "error_x": {
             "color": "#2a3f5f"
            },
            "error_y": {
             "color": "#2a3f5f"
            },
            "marker": {
             "line": {
              "color": "#E5ECF6",
              "width": 0.5
             },
             "pattern": {
              "fillmode": "overlay",
              "size": 10,
              "solidity": 0.2
             }
            },
            "type": "bar"
           }
          ],
          "barpolar": [
           {
            "marker": {
             "line": {
              "color": "#E5ECF6",
              "width": 0.5
             },
             "pattern": {
              "fillmode": "overlay",
              "size": 10,
              "solidity": 0.2
             }
            },
            "type": "barpolar"
           }
          ],
          "carpet": [
           {
            "aaxis": {
             "endlinecolor": "#2a3f5f",
             "gridcolor": "white",
             "linecolor": "white",
             "minorgridcolor": "white",
             "startlinecolor": "#2a3f5f"
            },
            "baxis": {
             "endlinecolor": "#2a3f5f",
             "gridcolor": "white",
             "linecolor": "white",
             "minorgridcolor": "white",
             "startlinecolor": "#2a3f5f"
            },
            "type": "carpet"
           }
          ],
          "choropleth": [
           {
            "colorbar": {
             "outlinewidth": 0,
             "ticks": ""
            },
            "type": "choropleth"
           }
          ],
          "contour": [
           {
            "colorbar": {
             "outlinewidth": 0,
             "ticks": ""
            },
            "colorscale": [
             [
              0,
              "#0d0887"
             ],
             [
              0.1111111111111111,
              "#46039f"
             ],
             [
              0.2222222222222222,
              "#7201a8"
             ],
             [
              0.3333333333333333,
              "#9c179e"
             ],
             [
              0.4444444444444444,
              "#bd3786"
             ],
             [
              0.5555555555555556,
              "#d8576b"
             ],
             [
              0.6666666666666666,
              "#ed7953"
             ],
             [
              0.7777777777777778,
              "#fb9f3a"
             ],
             [
              0.8888888888888888,
              "#fdca26"
             ],
             [
              1,
              "#f0f921"
             ]
            ],
            "type": "contour"
           }
          ],
          "contourcarpet": [
           {
            "colorbar": {
             "outlinewidth": 0,
             "ticks": ""
            },
            "type": "contourcarpet"
           }
          ],
          "heatmap": [
           {
            "colorbar": {
             "outlinewidth": 0,
             "ticks": ""
            },
            "colorscale": [
             [
              0,
              "#0d0887"
             ],
             [
              0.1111111111111111,
              "#46039f"
             ],
             [
              0.2222222222222222,
              "#7201a8"
             ],
             [
              0.3333333333333333,
              "#9c179e"
             ],
             [
              0.4444444444444444,
              "#bd3786"
             ],
             [
              0.5555555555555556,
              "#d8576b"
             ],
             [
              0.6666666666666666,
              "#ed7953"
             ],
             [
              0.7777777777777778,
              "#fb9f3a"
             ],
             [
              0.8888888888888888,
              "#fdca26"
             ],
             [
              1,
              "#f0f921"
             ]
            ],
            "type": "heatmap"
           }
          ],
          "heatmapgl": [
           {
            "colorbar": {
             "outlinewidth": 0,
             "ticks": ""
            },
            "colorscale": [
             [
              0,
              "#0d0887"
             ],
             [
              0.1111111111111111,
              "#46039f"
             ],
             [
              0.2222222222222222,
              "#7201a8"
             ],
             [
              0.3333333333333333,
              "#9c179e"
             ],
             [
              0.4444444444444444,
              "#bd3786"
             ],
             [
              0.5555555555555556,
              "#d8576b"
             ],
             [
              0.6666666666666666,
              "#ed7953"
             ],
             [
              0.7777777777777778,
              "#fb9f3a"
             ],
             [
              0.8888888888888888,
              "#fdca26"
             ],
             [
              1,
              "#f0f921"
             ]
            ],
            "type": "heatmapgl"
           }
          ],
          "histogram": [
           {
            "marker": {
             "pattern": {
              "fillmode": "overlay",
              "size": 10,
              "solidity": 0.2
             }
            },
            "type": "histogram"
           }
          ],
          "histogram2d": [
           {
            "colorbar": {
             "outlinewidth": 0,
             "ticks": ""
            },
            "colorscale": [
             [
              0,
              "#0d0887"
             ],
             [
              0.1111111111111111,
              "#46039f"
             ],
             [
              0.2222222222222222,
              "#7201a8"
             ],
             [
              0.3333333333333333,
              "#9c179e"
             ],
             [
              0.4444444444444444,
              "#bd3786"
             ],
             [
              0.5555555555555556,
              "#d8576b"
             ],
             [
              0.6666666666666666,
              "#ed7953"
             ],
             [
              0.7777777777777778,
              "#fb9f3a"
             ],
             [
              0.8888888888888888,
              "#fdca26"
             ],
             [
              1,
              "#f0f921"
             ]
            ],
            "type": "histogram2d"
           }
          ],
          "histogram2dcontour": [
           {
            "colorbar": {
             "outlinewidth": 0,
             "ticks": ""
            },
            "colorscale": [
             [
              0,
              "#0d0887"
             ],
             [
              0.1111111111111111,
              "#46039f"
             ],
             [
              0.2222222222222222,
              "#7201a8"
             ],
             [
              0.3333333333333333,
              "#9c179e"
             ],
             [
              0.4444444444444444,
              "#bd3786"
             ],
             [
              0.5555555555555556,
              "#d8576b"
             ],
             [
              0.6666666666666666,
              "#ed7953"
             ],
             [
              0.7777777777777778,
              "#fb9f3a"
             ],
             [
              0.8888888888888888,
              "#fdca26"
             ],
             [
              1,
              "#f0f921"
             ]
            ],
            "type": "histogram2dcontour"
           }
          ],
          "mesh3d": [
           {
            "colorbar": {
             "outlinewidth": 0,
             "ticks": ""
            },
            "type": "mesh3d"
           }
          ],
          "parcoords": [
           {
            "line": {
             "colorbar": {
              "outlinewidth": 0,
              "ticks": ""
             }
            },
            "type": "parcoords"
           }
          ],
          "pie": [
           {
            "automargin": true,
            "type": "pie"
           }
          ],
          "scatter": [
           {
            "fillpattern": {
             "fillmode": "overlay",
             "size": 10,
             "solidity": 0.2
            },
            "type": "scatter"
           }
          ],
          "scatter3d": [
           {
            "line": {
             "colorbar": {
              "outlinewidth": 0,
              "ticks": ""
             }
            },
            "marker": {
             "colorbar": {
              "outlinewidth": 0,
              "ticks": ""
             }
            },
            "type": "scatter3d"
           }
          ],
          "scattercarpet": [
           {
            "marker": {
             "colorbar": {
              "outlinewidth": 0,
              "ticks": ""
             }
            },
            "type": "scattercarpet"
           }
          ],
          "scattergeo": [
           {
            "marker": {
             "colorbar": {
              "outlinewidth": 0,
              "ticks": ""
             }
            },
            "type": "scattergeo"
           }
          ],
          "scattergl": [
           {
            "marker": {
             "colorbar": {
              "outlinewidth": 0,
              "ticks": ""
             }
            },
            "type": "scattergl"
           }
          ],
          "scattermapbox": [
           {
            "marker": {
             "colorbar": {
              "outlinewidth": 0,
              "ticks": ""
             }
            },
            "type": "scattermapbox"
           }
          ],
          "scatterpolar": [
           {
            "marker": {
             "colorbar": {
              "outlinewidth": 0,
              "ticks": ""
             }
            },
            "type": "scatterpolar"
           }
          ],
          "scatterpolargl": [
           {
            "marker": {
             "colorbar": {
              "outlinewidth": 0,
              "ticks": ""
             }
            },
            "type": "scatterpolargl"
           }
          ],
          "scatterternary": [
           {
            "marker": {
             "colorbar": {
              "outlinewidth": 0,
              "ticks": ""
             }
            },
            "type": "scatterternary"
           }
          ],
          "surface": [
           {
            "colorbar": {
             "outlinewidth": 0,
             "ticks": ""
            },
            "colorscale": [
             [
              0,
              "#0d0887"
             ],
             [
              0.1111111111111111,
              "#46039f"
             ],
             [
              0.2222222222222222,
              "#7201a8"
             ],
             [
              0.3333333333333333,
              "#9c179e"
             ],
             [
              0.4444444444444444,
              "#bd3786"
             ],
             [
              0.5555555555555556,
              "#d8576b"
             ],
             [
              0.6666666666666666,
              "#ed7953"
             ],
             [
              0.7777777777777778,
              "#fb9f3a"
             ],
             [
              0.8888888888888888,
              "#fdca26"
             ],
             [
              1,
              "#f0f921"
             ]
            ],
            "type": "surface"
           }
          ],
          "table": [
           {
            "cells": {
             "fill": {
              "color": "#EBF0F8"
             },
             "line": {
              "color": "white"
             }
            },
            "header": {
             "fill": {
              "color": "#C8D4E3"
             },
             "line": {
              "color": "white"
             }
            },
            "type": "table"
           }
          ]
         },
         "layout": {
          "annotationdefaults": {
           "arrowcolor": "#2a3f5f",
           "arrowhead": 0,
           "arrowwidth": 1
          },
          "autotypenumbers": "strict",
          "coloraxis": {
           "colorbar": {
            "outlinewidth": 0,
            "ticks": ""
           }
          },
          "colorscale": {
           "diverging": [
            [
             0,
             "#8e0152"
            ],
            [
             0.1,
             "#c51b7d"
            ],
            [
             0.2,
             "#de77ae"
            ],
            [
             0.3,
             "#f1b6da"
            ],
            [
             0.4,
             "#fde0ef"
            ],
            [
             0.5,
             "#f7f7f7"
            ],
            [
             0.6,
             "#e6f5d0"
            ],
            [
             0.7,
             "#b8e186"
            ],
            [
             0.8,
             "#7fbc41"
            ],
            [
             0.9,
             "#4d9221"
            ],
            [
             1,
             "#276419"
            ]
           ],
           "sequential": [
            [
             0,
             "#0d0887"
            ],
            [
             0.1111111111111111,
             "#46039f"
            ],
            [
             0.2222222222222222,
             "#7201a8"
            ],
            [
             0.3333333333333333,
             "#9c179e"
            ],
            [
             0.4444444444444444,
             "#bd3786"
            ],
            [
             0.5555555555555556,
             "#d8576b"
            ],
            [
             0.6666666666666666,
             "#ed7953"
            ],
            [
             0.7777777777777778,
             "#fb9f3a"
            ],
            [
             0.8888888888888888,
             "#fdca26"
            ],
            [
             1,
             "#f0f921"
            ]
           ],
           "sequentialminus": [
            [
             0,
             "#0d0887"
            ],
            [
             0.1111111111111111,
             "#46039f"
            ],
            [
             0.2222222222222222,
             "#7201a8"
            ],
            [
             0.3333333333333333,
             "#9c179e"
            ],
            [
             0.4444444444444444,
             "#bd3786"
            ],
            [
             0.5555555555555556,
             "#d8576b"
            ],
            [
             0.6666666666666666,
             "#ed7953"
            ],
            [
             0.7777777777777778,
             "#fb9f3a"
            ],
            [
             0.8888888888888888,
             "#fdca26"
            ],
            [
             1,
             "#f0f921"
            ]
           ]
          },
          "colorway": [
           "#636efa",
           "#EF553B",
           "#00cc96",
           "#ab63fa",
           "#FFA15A",
           "#19d3f3",
           "#FF6692",
           "#B6E880",
           "#FF97FF",
           "#FECB52"
          ],
          "font": {
           "color": "#2a3f5f"
          },
          "geo": {
           "bgcolor": "white",
           "lakecolor": "white",
           "landcolor": "#E5ECF6",
           "showlakes": true,
           "showland": true,
           "subunitcolor": "white"
          },
          "hoverlabel": {
           "align": "left"
          },
          "hovermode": "closest",
          "mapbox": {
           "style": "light"
          },
          "paper_bgcolor": "white",
          "plot_bgcolor": "#E5ECF6",
          "polar": {
           "angularaxis": {
            "gridcolor": "white",
            "linecolor": "white",
            "ticks": ""
           },
           "bgcolor": "#E5ECF6",
           "radialaxis": {
            "gridcolor": "white",
            "linecolor": "white",
            "ticks": ""
           }
          },
          "scene": {
           "xaxis": {
            "backgroundcolor": "#E5ECF6",
            "gridcolor": "white",
            "gridwidth": 2,
            "linecolor": "white",
            "showbackground": true,
            "ticks": "",
            "zerolinecolor": "white"
           },
           "yaxis": {
            "backgroundcolor": "#E5ECF6",
            "gridcolor": "white",
            "gridwidth": 2,
            "linecolor": "white",
            "showbackground": true,
            "ticks": "",
            "zerolinecolor": "white"
           },
           "zaxis": {
            "backgroundcolor": "#E5ECF6",
            "gridcolor": "white",
            "gridwidth": 2,
            "linecolor": "white",
            "showbackground": true,
            "ticks": "",
            "zerolinecolor": "white"
           }
          },
          "shapedefaults": {
           "line": {
            "color": "#2a3f5f"
           }
          },
          "ternary": {
           "aaxis": {
            "gridcolor": "white",
            "linecolor": "white",
            "ticks": ""
           },
           "baxis": {
            "gridcolor": "white",
            "linecolor": "white",
            "ticks": ""
           },
           "bgcolor": "#E5ECF6",
           "caxis": {
            "gridcolor": "white",
            "linecolor": "white",
            "ticks": ""
           }
          },
          "title": {
           "x": 0.05
          },
          "xaxis": {
           "automargin": true,
           "gridcolor": "white",
           "linecolor": "white",
           "ticks": "",
           "title": {
            "standoff": 15
           },
           "zerolinecolor": "white",
           "zerolinewidth": 2
          },
          "yaxis": {
           "automargin": true,
           "gridcolor": "white",
           "linecolor": "white",
           "ticks": "",
           "title": {
            "standoff": 15
           },
           "zerolinecolor": "white",
           "zerolinewidth": 2
          }
         }
        },
        "title": {
         "text": "Tendances des Performances des Modèles"
        },
        "xaxis": {
         "anchor": "y",
         "domain": [
          0,
          1
         ],
         "title": {
          "text": "Période"
         }
        },
        "yaxis": {
         "anchor": "x",
         "domain": [
          0,
          1
         ],
         "title": {
          "text": "Valeur de la Métrique"
         }
        }
       }
      }
     },
     "metadata": {},
     "output_type": "display_data"
    }
   ],
   "source": [
    "# Création du graphique des performances au cours du temps\n",
    "fig = px.line(\n",
    "    top_performers,\n",
    "    x=\"time_period\",\n",
    "    y=\"metric_value\",\n",
    "    color='benchmark_metric',\n",
    "    title=\"Tendances des Performances des Modèles\",\n",
    "    labels={\n",
    "        \"time_period\": \"Période\",\n",
    "        \"metric_value\": \"Valeur de la Métrique\",\n",
    "        \"benchmark_metric\": \"Métrique de Performance\"\n",
    "    },\n",
    "    markers=True\n",
    ")\n",
    "fig.show()"
   ]
  },
  {
   "cell_type": "code",
   "execution_count": 17,
   "metadata": {},
   "outputs": [
    {
     "data": {
      "application/vnd.plotly.v1+json": {
       "config": {
        "plotlyServerURL": "https://plot.ly"
       },
       "data": [
        {
         "domain": {
          "x": [
           0,
           1
          ],
          "y": [
           0,
           1
          ]
         },
         "hole": 0.4,
         "hovertemplate": "type=%{label}<br>count=%{value}<extra></extra>",
         "labels": [
          "🔶 fine-tuned on domain-specific datasets",
          "💬 chat models (RLHF, DPO, IFT, ...)",
          "🤝 base merges and moerges",
          "🟢 pretrained",
          "🟩 continuously pretrained",
          "🌸 multimodal"
         ],
         "legendgroup": "",
         "name": "",
         "showlegend": true,
         "type": "pie",
         "values": [
          762,
          527,
          496,
          164,
          34,
          3
         ]
        }
       ],
       "layout": {
        "legend": {
         "tracegroupgap": 0
        },
        "template": {
         "data": {
          "bar": [
           {
            "error_x": {
             "color": "#2a3f5f"
            },
            "error_y": {
             "color": "#2a3f5f"
            },
            "marker": {
             "line": {
              "color": "#E5ECF6",
              "width": 0.5
             },
             "pattern": {
              "fillmode": "overlay",
              "size": 10,
              "solidity": 0.2
             }
            },
            "type": "bar"
           }
          ],
          "barpolar": [
           {
            "marker": {
             "line": {
              "color": "#E5ECF6",
              "width": 0.5
             },
             "pattern": {
              "fillmode": "overlay",
              "size": 10,
              "solidity": 0.2
             }
            },
            "type": "barpolar"
           }
          ],
          "carpet": [
           {
            "aaxis": {
             "endlinecolor": "#2a3f5f",
             "gridcolor": "white",
             "linecolor": "white",
             "minorgridcolor": "white",
             "startlinecolor": "#2a3f5f"
            },
            "baxis": {
             "endlinecolor": "#2a3f5f",
             "gridcolor": "white",
             "linecolor": "white",
             "minorgridcolor": "white",
             "startlinecolor": "#2a3f5f"
            },
            "type": "carpet"
           }
          ],
          "choropleth": [
           {
            "colorbar": {
             "outlinewidth": 0,
             "ticks": ""
            },
            "type": "choropleth"
           }
          ],
          "contour": [
           {
            "colorbar": {
             "outlinewidth": 0,
             "ticks": ""
            },
            "colorscale": [
             [
              0,
              "#0d0887"
             ],
             [
              0.1111111111111111,
              "#46039f"
             ],
             [
              0.2222222222222222,
              "#7201a8"
             ],
             [
              0.3333333333333333,
              "#9c179e"
             ],
             [
              0.4444444444444444,
              "#bd3786"
             ],
             [
              0.5555555555555556,
              "#d8576b"
             ],
             [
              0.6666666666666666,
              "#ed7953"
             ],
             [
              0.7777777777777778,
              "#fb9f3a"
             ],
             [
              0.8888888888888888,
              "#fdca26"
             ],
             [
              1,
              "#f0f921"
             ]
            ],
            "type": "contour"
           }
          ],
          "contourcarpet": [
           {
            "colorbar": {
             "outlinewidth": 0,
             "ticks": ""
            },
            "type": "contourcarpet"
           }
          ],
          "heatmap": [
           {
            "colorbar": {
             "outlinewidth": 0,
             "ticks": ""
            },
            "colorscale": [
             [
              0,
              "#0d0887"
             ],
             [
              0.1111111111111111,
              "#46039f"
             ],
             [
              0.2222222222222222,
              "#7201a8"
             ],
             [
              0.3333333333333333,
              "#9c179e"
             ],
             [
              0.4444444444444444,
              "#bd3786"
             ],
             [
              0.5555555555555556,
              "#d8576b"
             ],
             [
              0.6666666666666666,
              "#ed7953"
             ],
             [
              0.7777777777777778,
              "#fb9f3a"
             ],
             [
              0.8888888888888888,
              "#fdca26"
             ],
             [
              1,
              "#f0f921"
             ]
            ],
            "type": "heatmap"
           }
          ],
          "heatmapgl": [
           {
            "colorbar": {
             "outlinewidth": 0,
             "ticks": ""
            },
            "colorscale": [
             [
              0,
              "#0d0887"
             ],
             [
              0.1111111111111111,
              "#46039f"
             ],
             [
              0.2222222222222222,
              "#7201a8"
             ],
             [
              0.3333333333333333,
              "#9c179e"
             ],
             [
              0.4444444444444444,
              "#bd3786"
             ],
             [
              0.5555555555555556,
              "#d8576b"
             ],
             [
              0.6666666666666666,
              "#ed7953"
             ],
             [
              0.7777777777777778,
              "#fb9f3a"
             ],
             [
              0.8888888888888888,
              "#fdca26"
             ],
             [
              1,
              "#f0f921"
             ]
            ],
            "type": "heatmapgl"
           }
          ],
          "histogram": [
           {
            "marker": {
             "pattern": {
              "fillmode": "overlay",
              "size": 10,
              "solidity": 0.2
             }
            },
            "type": "histogram"
           }
          ],
          "histogram2d": [
           {
            "colorbar": {
             "outlinewidth": 0,
             "ticks": ""
            },
            "colorscale": [
             [
              0,
              "#0d0887"
             ],
             [
              0.1111111111111111,
              "#46039f"
             ],
             [
              0.2222222222222222,
              "#7201a8"
             ],
             [
              0.3333333333333333,
              "#9c179e"
             ],
             [
              0.4444444444444444,
              "#bd3786"
             ],
             [
              0.5555555555555556,
              "#d8576b"
             ],
             [
              0.6666666666666666,
              "#ed7953"
             ],
             [
              0.7777777777777778,
              "#fb9f3a"
             ],
             [
              0.8888888888888888,
              "#fdca26"
             ],
             [
              1,
              "#f0f921"
             ]
            ],
            "type": "histogram2d"
           }
          ],
          "histogram2dcontour": [
           {
            "colorbar": {
             "outlinewidth": 0,
             "ticks": ""
            },
            "colorscale": [
             [
              0,
              "#0d0887"
             ],
             [
              0.1111111111111111,
              "#46039f"
             ],
             [
              0.2222222222222222,
              "#7201a8"
             ],
             [
              0.3333333333333333,
              "#9c179e"
             ],
             [
              0.4444444444444444,
              "#bd3786"
             ],
             [
              0.5555555555555556,
              "#d8576b"
             ],
             [
              0.6666666666666666,
              "#ed7953"
             ],
             [
              0.7777777777777778,
              "#fb9f3a"
             ],
             [
              0.8888888888888888,
              "#fdca26"
             ],
             [
              1,
              "#f0f921"
             ]
            ],
            "type": "histogram2dcontour"
           }
          ],
          "mesh3d": [
           {
            "colorbar": {
             "outlinewidth": 0,
             "ticks": ""
            },
            "type": "mesh3d"
           }
          ],
          "parcoords": [
           {
            "line": {
             "colorbar": {
              "outlinewidth": 0,
              "ticks": ""
             }
            },
            "type": "parcoords"
           }
          ],
          "pie": [
           {
            "automargin": true,
            "type": "pie"
           }
          ],
          "scatter": [
           {
            "fillpattern": {
             "fillmode": "overlay",
             "size": 10,
             "solidity": 0.2
            },
            "type": "scatter"
           }
          ],
          "scatter3d": [
           {
            "line": {
             "colorbar": {
              "outlinewidth": 0,
              "ticks": ""
             }
            },
            "marker": {
             "colorbar": {
              "outlinewidth": 0,
              "ticks": ""
             }
            },
            "type": "scatter3d"
           }
          ],
          "scattercarpet": [
           {
            "marker": {
             "colorbar": {
              "outlinewidth": 0,
              "ticks": ""
             }
            },
            "type": "scattercarpet"
           }
          ],
          "scattergeo": [
           {
            "marker": {
             "colorbar": {
              "outlinewidth": 0,
              "ticks": ""
             }
            },
            "type": "scattergeo"
           }
          ],
          "scattergl": [
           {
            "marker": {
             "colorbar": {
              "outlinewidth": 0,
              "ticks": ""
             }
            },
            "type": "scattergl"
           }
          ],
          "scattermapbox": [
           {
            "marker": {
             "colorbar": {
              "outlinewidth": 0,
              "ticks": ""
             }
            },
            "type": "scattermapbox"
           }
          ],
          "scatterpolar": [
           {
            "marker": {
             "colorbar": {
              "outlinewidth": 0,
              "ticks": ""
             }
            },
            "type": "scatterpolar"
           }
          ],
          "scatterpolargl": [
           {
            "marker": {
             "colorbar": {
              "outlinewidth": 0,
              "ticks": ""
             }
            },
            "type": "scatterpolargl"
           }
          ],
          "scatterternary": [
           {
            "marker": {
             "colorbar": {
              "outlinewidth": 0,
              "ticks": ""
             }
            },
            "type": "scatterternary"
           }
          ],
          "surface": [
           {
            "colorbar": {
             "outlinewidth": 0,
             "ticks": ""
            },
            "colorscale": [
             [
              0,
              "#0d0887"
             ],
             [
              0.1111111111111111,
              "#46039f"
             ],
             [
              0.2222222222222222,
              "#7201a8"
             ],
             [
              0.3333333333333333,
              "#9c179e"
             ],
             [
              0.4444444444444444,
              "#bd3786"
             ],
             [
              0.5555555555555556,
              "#d8576b"
             ],
             [
              0.6666666666666666,
              "#ed7953"
             ],
             [
              0.7777777777777778,
              "#fb9f3a"
             ],
             [
              0.8888888888888888,
              "#fdca26"
             ],
             [
              1,
              "#f0f921"
             ]
            ],
            "type": "surface"
           }
          ],
          "table": [
           {
            "cells": {
             "fill": {
              "color": "#EBF0F8"
             },
             "line": {
              "color": "white"
             }
            },
            "header": {
             "fill": {
              "color": "#C8D4E3"
             },
             "line": {
              "color": "white"
             }
            },
            "type": "table"
           }
          ]
         },
         "layout": {
          "annotationdefaults": {
           "arrowcolor": "#2a3f5f",
           "arrowhead": 0,
           "arrowwidth": 1
          },
          "autotypenumbers": "strict",
          "coloraxis": {
           "colorbar": {
            "outlinewidth": 0,
            "ticks": ""
           }
          },
          "colorscale": {
           "diverging": [
            [
             0,
             "#8e0152"
            ],
            [
             0.1,
             "#c51b7d"
            ],
            [
             0.2,
             "#de77ae"
            ],
            [
             0.3,
             "#f1b6da"
            ],
            [
             0.4,
             "#fde0ef"
            ],
            [
             0.5,
             "#f7f7f7"
            ],
            [
             0.6,
             "#e6f5d0"
            ],
            [
             0.7,
             "#b8e186"
            ],
            [
             0.8,
             "#7fbc41"
            ],
            [
             0.9,
             "#4d9221"
            ],
            [
             1,
             "#276419"
            ]
           ],
           "sequential": [
            [
             0,
             "#0d0887"
            ],
            [
             0.1111111111111111,
             "#46039f"
            ],
            [
             0.2222222222222222,
             "#7201a8"
            ],
            [
             0.3333333333333333,
             "#9c179e"
            ],
            [
             0.4444444444444444,
             "#bd3786"
            ],
            [
             0.5555555555555556,
             "#d8576b"
            ],
            [
             0.6666666666666666,
             "#ed7953"
            ],
            [
             0.7777777777777778,
             "#fb9f3a"
            ],
            [
             0.8888888888888888,
             "#fdca26"
            ],
            [
             1,
             "#f0f921"
            ]
           ],
           "sequentialminus": [
            [
             0,
             "#0d0887"
            ],
            [
             0.1111111111111111,
             "#46039f"
            ],
            [
             0.2222222222222222,
             "#7201a8"
            ],
            [
             0.3333333333333333,
             "#9c179e"
            ],
            [
             0.4444444444444444,
             "#bd3786"
            ],
            [
             0.5555555555555556,
             "#d8576b"
            ],
            [
             0.6666666666666666,
             "#ed7953"
            ],
            [
             0.7777777777777778,
             "#fb9f3a"
            ],
            [
             0.8888888888888888,
             "#fdca26"
            ],
            [
             1,
             "#f0f921"
            ]
           ]
          },
          "colorway": [
           "#636efa",
           "#EF553B",
           "#00cc96",
           "#ab63fa",
           "#FFA15A",
           "#19d3f3",
           "#FF6692",
           "#B6E880",
           "#FF97FF",
           "#FECB52"
          ],
          "font": {
           "color": "#2a3f5f"
          },
          "geo": {
           "bgcolor": "white",
           "lakecolor": "white",
           "landcolor": "#E5ECF6",
           "showlakes": true,
           "showland": true,
           "subunitcolor": "white"
          },
          "hoverlabel": {
           "align": "left"
          },
          "hovermode": "closest",
          "mapbox": {
           "style": "light"
          },
          "paper_bgcolor": "white",
          "plot_bgcolor": "#E5ECF6",
          "polar": {
           "angularaxis": {
            "gridcolor": "white",
            "linecolor": "white",
            "ticks": ""
           },
           "bgcolor": "#E5ECF6",
           "radialaxis": {
            "gridcolor": "white",
            "linecolor": "white",
            "ticks": ""
           }
          },
          "scene": {
           "xaxis": {
            "backgroundcolor": "#E5ECF6",
            "gridcolor": "white",
            "gridwidth": 2,
            "linecolor": "white",
            "showbackground": true,
            "ticks": "",
            "zerolinecolor": "white"
           },
           "yaxis": {
            "backgroundcolor": "#E5ECF6",
            "gridcolor": "white",
            "gridwidth": 2,
            "linecolor": "white",
            "showbackground": true,
            "ticks": "",
            "zerolinecolor": "white"
           },
           "zaxis": {
            "backgroundcolor": "#E5ECF6",
            "gridcolor": "white",
            "gridwidth": 2,
            "linecolor": "white",
            "showbackground": true,
            "ticks": "",
            "zerolinecolor": "white"
           }
          },
          "shapedefaults": {
           "line": {
            "color": "#2a3f5f"
           }
          },
          "ternary": {
           "aaxis": {
            "gridcolor": "white",
            "linecolor": "white",
            "ticks": ""
           },
           "baxis": {
            "gridcolor": "white",
            "linecolor": "white",
            "ticks": ""
           },
           "bgcolor": "#E5ECF6",
           "caxis": {
            "gridcolor": "white",
            "linecolor": "white",
            "ticks": ""
           }
          },
          "title": {
           "x": 0.05
          },
          "xaxis": {
           "automargin": true,
           "gridcolor": "white",
           "linecolor": "white",
           "ticks": "",
           "title": {
            "standoff": 15
           },
           "zerolinecolor": "white",
           "zerolinewidth": 2
          },
          "yaxis": {
           "automargin": true,
           "gridcolor": "white",
           "linecolor": "white",
           "ticks": "",
           "title": {
            "standoff": 15
           },
           "zerolinecolor": "white",
           "zerolinewidth": 2
          }
         }
        },
        "title": {
         "text": "Distribution des Types de Modèles"
        }
       }
      }
     },
     "metadata": {},
     "output_type": "display_data"
    }
   ],
   "source": [
    "# Comptage des types de modèles\n",
    "model_type_counts = df['type'].value_counts().reset_index()\n",
    "model_type_counts.columns = ['type', 'count']\n",
    "\n",
    "# Création du graphique en secteurs\n",
    "fig_pie = px.pie(\n",
    "    model_type_counts,\n",
    "    names='type',\n",
    "    values='count',\n",
    "    title=\"Distribution des Types de Modèles\",\n",
    "    hole=0.4\n",
    ")\n",
    "fig_pie.show()"
   ]
  },
  {
   "cell_type": "code",
   "execution_count": 23,
   "metadata": {},
   "outputs": [
    {
     "data": {
      "text/html": [
       "<div>\n",
       "<style scoped>\n",
       "    .dataframe tbody tr th:only-of-type {\n",
       "        vertical-align: middle;\n",
       "    }\n",
       "\n",
       "    .dataframe tbody tr th {\n",
       "        vertical-align: top;\n",
       "    }\n",
       "\n",
       "    .dataframe thead th {\n",
       "        text-align: right;\n",
       "    }\n",
       "</style>\n",
       "<table border=\"1\" class=\"dataframe\">\n",
       "  <thead>\n",
       "    <tr style=\"text-align: right;\">\n",
       "      <th></th>\n",
       "      <th>_id</th>\n",
       "      <th>id</th>\n",
       "      <th>author</th>\n",
       "      <th>gated</th>\n",
       "      <th>inference</th>\n",
       "      <th>lastModified</th>\n",
       "      <th>likes</th>\n",
       "      <th>trendingScore</th>\n",
       "      <th>private</th>\n",
       "      <th>downloads</th>\n",
       "      <th>tags</th>\n",
       "      <th>library_name</th>\n",
       "      <th>createdAt</th>\n",
       "    </tr>\n",
       "  </thead>\n",
       "  <tbody>\n",
       "    <tr>\n",
       "      <th>0</th>\n",
       "      <td>672b1f9e956e6880fdb8c1e5</td>\n",
       "      <td>Qwen/Qwen2.5-Coder-32B-Instruct</td>\n",
       "      <td>Qwen</td>\n",
       "      <td>False</td>\n",
       "      <td>warm</td>\n",
       "      <td>2024-11-18T12:55:03.000Z</td>\n",
       "      <td>923</td>\n",
       "      <td>323.0</td>\n",
       "      <td>False</td>\n",
       "      <td>58447</td>\n",
       "      <td>[transformers, safetensors, qwen2, text-genera...</td>\n",
       "      <td>transformers</td>\n",
       "      <td>2024-11-06T07:49:50.000Z</td>\n",
       "    </tr>\n",
       "    <tr>\n",
       "      <th>1</th>\n",
       "      <td>6736587e6375fff559d71090</td>\n",
       "      <td>mistralai/Pixtral-Large-Instruct-2411</td>\n",
       "      <td>mistralai</td>\n",
       "      <td>auto</td>\n",
       "      <td>explicit-opt-out</td>\n",
       "      <td>2024-11-19T19:06:25.000Z</td>\n",
       "      <td>282</td>\n",
       "      <td>282.0</td>\n",
       "      <td>False</td>\n",
       "      <td>382</td>\n",
       "      <td>[vllm, en, fr, de, es, it, pt, zh, ja, ru, ko,...</td>\n",
       "      <td>vllm</td>\n",
       "      <td>2024-11-14T20:07:26.000Z</td>\n",
       "    </tr>\n",
       "    <tr>\n",
       "      <th>2</th>\n",
       "      <td>673555852d13ee612bc00910</td>\n",
       "      <td>NexaAIDev/omnivision-968M</td>\n",
       "      <td>NexaAIDev</td>\n",
       "      <td>False</td>\n",
       "      <td>library-not-detected</td>\n",
       "      <td>2024-11-22T20:24:30.000Z</td>\n",
       "      <td>365</td>\n",
       "      <td>275.0</td>\n",
       "      <td>False</td>\n",
       "      <td>7332</td>\n",
       "      <td>[gguf, multimodal, conversational, GGUF, Image...</td>\n",
       "      <td>NaN</td>\n",
       "      <td>2024-11-14T01:42:29.000Z</td>\n",
       "    </tr>\n",
       "    <tr>\n",
       "      <th>3</th>\n",
       "      <td>66aaa908fc35e079a941470d</td>\n",
       "      <td>black-forest-labs/FLUX.1-dev</td>\n",
       "      <td>black-forest-labs</td>\n",
       "      <td>auto</td>\n",
       "      <td>warm</td>\n",
       "      <td>2024-08-16T14:38:19.000Z</td>\n",
       "      <td>6594</td>\n",
       "      <td>221.0</td>\n",
       "      <td>False</td>\n",
       "      <td>1294252</td>\n",
       "      <td>[diffusers, safetensors, text-to-image, image-...</td>\n",
       "      <td>diffusers</td>\n",
       "      <td>2024-07-31T21:13:44.000Z</td>\n",
       "    </tr>\n",
       "    <tr>\n",
       "      <th>4</th>\n",
       "      <td>6720d1ac035954d93b936a64</td>\n",
       "      <td>briaai/RMBG-2.0</td>\n",
       "      <td>briaai</td>\n",
       "      <td>False</td>\n",
       "      <td>custom-code</td>\n",
       "      <td>2024-11-20T06:35:20.000Z</td>\n",
       "      <td>406</td>\n",
       "      <td>217.0</td>\n",
       "      <td>False</td>\n",
       "      <td>25499</td>\n",
       "      <td>[transformers, pytorch, onnx, safetensors, ima...</td>\n",
       "      <td>transformers</td>\n",
       "      <td>2024-10-29T12:14:36.000Z</td>\n",
       "    </tr>\n",
       "  </tbody>\n",
       "</table>\n",
       "</div>"
      ],
      "text/plain": [
       "                        _id                                     id  \\\n",
       "0  672b1f9e956e6880fdb8c1e5        Qwen/Qwen2.5-Coder-32B-Instruct   \n",
       "1  6736587e6375fff559d71090  mistralai/Pixtral-Large-Instruct-2411   \n",
       "2  673555852d13ee612bc00910              NexaAIDev/omnivision-968M   \n",
       "3  66aaa908fc35e079a941470d           black-forest-labs/FLUX.1-dev   \n",
       "4  6720d1ac035954d93b936a64                        briaai/RMBG-2.0   \n",
       "\n",
       "              author  gated             inference              lastModified  \\\n",
       "0               Qwen  False                  warm  2024-11-18T12:55:03.000Z   \n",
       "1          mistralai   auto      explicit-opt-out  2024-11-19T19:06:25.000Z   \n",
       "2          NexaAIDev  False  library-not-detected  2024-11-22T20:24:30.000Z   \n",
       "3  black-forest-labs   auto                  warm  2024-08-16T14:38:19.000Z   \n",
       "4             briaai  False           custom-code  2024-11-20T06:35:20.000Z   \n",
       "\n",
       "   likes  trendingScore  private  downloads  \\\n",
       "0    923          323.0    False      58447   \n",
       "1    282          282.0    False        382   \n",
       "2    365          275.0    False       7332   \n",
       "3   6594          221.0    False    1294252   \n",
       "4    406          217.0    False      25499   \n",
       "\n",
       "                                                tags  library_name  \\\n",
       "0  [transformers, safetensors, qwen2, text-genera...  transformers   \n",
       "1  [vllm, en, fr, de, es, it, pt, zh, ja, ru, ko,...          vllm   \n",
       "2  [gguf, multimodal, conversational, GGUF, Image...           NaN   \n",
       "3  [diffusers, safetensors, text-to-image, image-...     diffusers   \n",
       "4  [transformers, pytorch, onnx, safetensors, ima...  transformers   \n",
       "\n",
       "                  createdAt  \n",
       "0  2024-11-06T07:49:50.000Z  \n",
       "1  2024-11-14T20:07:26.000Z  \n",
       "2  2024-11-14T01:42:29.000Z  \n",
       "3  2024-07-31T21:13:44.000Z  \n",
       "4  2024-10-29T12:14:36.000Z  "
      ]
     },
     "metadata": {},
     "output_type": "display_data"
    }
   ],
   "source": [
    "import requests\n",
    "import pandas as pd\n",
    "\n",
    "# Effectuer une requête à l'API Hugging Face\n",
    "response = requests.get(\n",
    "    \"https://huggingface.co/api/models\",\n",
    "    params={\"limit\": 10000, \"full\": \"True\", \"config\": \"True\"}\n",
    ")\n",
    "\n",
    "# Vérifier si la requête est réussie\n",
    "if response.status_code == 200:\n",
    "    # Convertir les données en JSON\n",
    "    data = response.json()\n",
    "\n",
    "    # Créer une DataFrame contenant toutes les informations\n",
    "    df = pd.json_normalize(data)  # Normalise les données JSON imbriquées en DataFrame\n",
    "\n",
    "    # Filtrer uniquement les colonnes d'intérêt\n",
    "    columns_of_interest = [\n",
    "        '_id', 'id', 'author', 'gated', 'inference', 'lastModified', \n",
    "        'likes', 'trendingScore', 'private', 'downloads', 'tags', \n",
    "        'library_name', 'createdAt'\n",
    "    ]\n",
    "    filtered_df = df[columns_of_interest]\n",
    "\n",
    "    # Afficher les premières lignes du DataFrame filtré\n",
    "    display(filtered_df.head())\n",
    "else:\n",
    "    print(f\"Erreur lors de la requête : {response.status_code}\")"
   ]
  }
 ],
 "metadata": {
  "kernelspec": {
   "display_name": "py312_env",
   "language": "python",
   "name": "python3"
  },
  "language_info": {
   "codemirror_mode": {
    "name": "ipython",
    "version": 3
   },
   "file_extension": ".py",
   "mimetype": "text/x-python",
   "name": "python",
   "nbconvert_exporter": "python",
   "pygments_lexer": "ipython3",
   "version": "3.12.7"
  }
 },
 "nbformat": 4,
 "nbformat_minor": 2
}
